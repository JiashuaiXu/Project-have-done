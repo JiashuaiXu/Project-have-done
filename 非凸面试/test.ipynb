{
 "cells": [
  {
   "cell_type": "code",
   "execution_count": 1,
   "id": "829b6102-31fb-449d-bcdc-f4fb486a7f85",
   "metadata": {},
   "outputs": [],
   "source": [
    "import openpyxl"
   ]
  },
  {
   "cell_type": "code",
   "execution_count": 3,
   "id": "883d7646-abd3-4561-b38b-3b5722789c40",
   "metadata": {},
   "outputs": [],
   "source": [
    "import openpyxl\n",
    "\n",
    "# 打开 Excel 文件\n",
    "workbook = openpyxl.load_workbook(\"面试题.xlsx\")\n"
   ]
  },
  {
   "cell_type": "code",
   "execution_count": 4,
   "id": "89b23ec3-325a-4dc2-8318-3c1bd72508ac",
   "metadata": {},
   "outputs": [
    {
     "name": "stdout",
     "output_type": "stream",
     "text": [
      "['题目一（sql）', '题目二（sql）', 'Sheet1', '题目三(excel)', '题目三(excel) (2)', '题目四（数据清洗）', '资产信息', '资产交割汇总', '题目3结果展示']\n"
     ]
    }
   ],
   "source": [
    "print(workbook.sheetnames)"
   ]
  },
  {
   "cell_type": "code",
   "execution_count": 8,
   "id": "f3eb19bc-1321-4454-a4d1-5ef5f26ddfa8",
   "metadata": {},
   "outputs": [
    {
     "data": {
      "text/plain": [
       "<Worksheet \"资产信息\">"
      ]
     },
     "execution_count": 8,
     "metadata": {},
     "output_type": "execute_result"
    }
   ],
   "source": [
    "data_need_clearn = workbook [\"资产信息\"]\n",
    "data_need_clearn"
   ]
  },
  {
   "cell_type": "code",
   "execution_count": 25,
   "id": "6c880d03-4e16-4952-984a-f012c959ad4d",
   "metadata": {},
   "outputs": [
    {
     "name": "stdout",
     "output_type": "stream",
     "text": [
      "<class 'list'>\n"
     ]
    },
    {
     "data": {
      "text/plain": [
       "['打印日期:2099年01月01日', '姓名:非凸科技', 987456321]"
      ]
     },
     "execution_count": 25,
     "metadata": {},
     "output_type": "execute_result"
    }
   ],
   "source": [
    "list_temp=[]\n",
    "for row in data_need_clearn.values:\n",
    "    for value in row:\n",
    "        if value==\"姓名:非凸科技\" :\n",
    "            list_temp.append(value)\n",
    "        if value==\"打印日期:2099年01月01日\" :\n",
    "            list_temp.append(value)\n",
    "        if value== 987456321 :\n",
    "            list_temp.append(value)\n",
    "        else:\n",
    "            pass\n",
    "list_temp"
   ]
  },
  {
   "cell_type": "code",
   "execution_count": null,
   "id": "7aa20745-47ba-4501-9073-a3a667a747f3",
   "metadata": {},
   "outputs": [],
   "source": []
  }
 ],
 "metadata": {
  "kernelspec": {
   "display_name": "Python 3 (ipykernel)",
   "language": "python",
   "name": "python3"
  },
  "language_info": {
   "codemirror_mode": {
    "name": "ipython",
    "version": 3
   },
   "file_extension": ".py",
   "mimetype": "text/x-python",
   "name": "python",
   "nbconvert_exporter": "python",
   "pygments_lexer": "ipython3",
   "version": "3.9.15"
  }
 },
 "nbformat": 4,
 "nbformat_minor": 5
}
