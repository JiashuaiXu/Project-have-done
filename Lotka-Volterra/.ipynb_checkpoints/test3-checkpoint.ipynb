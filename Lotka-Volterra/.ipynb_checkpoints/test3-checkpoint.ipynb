{
 "cells": [
  {
   "cell_type": "code",
   "execution_count": null,
   "id": "003a1476-457b-49e3-af9b-faaa6a7314b5",
   "metadata": {},
   "outputs": [],
   "source": [
    "(* 定义参数和方程 *)\n",
    "eq1 = R (1 - X/S^2) X - S X Y/(X + Y) == 0;\n",
    "eq2 = -Q Y + X Y/(X + Y) - λ Y^2/(X + Y) == 0;\n",
    "\n",
    "(* 求解平衡点 *)\n",
    "sol = Solve[{eq1, eq2}, {X, Y}]\n"
   ]
  }
 ],
 "metadata": {
  "kernelspec": {
   "display_name": "Wolfram Language 14",
   "language": "Wolfram Language",
   "name": "wolframlanguage14"
  },
  "language_info": {
   "name": ""
  }
 },
 "nbformat": 4,
 "nbformat_minor": 5
}
