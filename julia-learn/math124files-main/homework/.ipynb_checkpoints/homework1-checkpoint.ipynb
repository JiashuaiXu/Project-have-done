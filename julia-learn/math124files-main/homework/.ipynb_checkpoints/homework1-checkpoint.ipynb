{
 "cells": [
  {
   "cell_type": "markdown",
   "metadata": {},
   "source": [
    "# Math 124 - Programming for Mathematical Applications\n",
    "UC Berkeley, Spring 2024\n",
    "\n",
    "## Homework 1\n",
    "Due Wednesday Jan 24\n"
   ]
  },
  {
   "cell_type": "markdown",
   "metadata": {},
   "source": [
    "### Problem 1: Markdown / LaTeX\n",
    "\n",
    "A page of mathematical text is provided as a PNG image below. Write this entire text segment as a Markdown / LaTeX cell.\n",
    "\n",
    "The following online resources can be helpful:\n",
    "\n",
    "- [Markdown Cheat-sheet](https://github.com/adam-p/markdown-here/wiki/Markdown-Here-Cheatsheet)\n",
    "- [Wiki-books LaTeX/Mathematics](https://en.wikibooks.org/wiki/LaTeX/Mathematics)\n",
    "- [LaTeX Math Cheat-sheet](http://tug.ctan.org/info/undergradmath/undergradmath.pdf)\n",
    "\n",
    "![md_latex_exercise1.png](https://github.com/popersson/math124files/raw/main/homework/md_latex_exercise1.png)"
   ]
  },
  {
   "cell_type": "markdown",
   "metadata": {},
   "source": []
  },
  {
   "cell_type": "markdown",
   "metadata": {},
   "source": [
    "### Problem 2\n",
    "\n",
    "Fill in all the question marks in the comments (first try without running any code)."
   ]
  },
  {
   "cell_type": "code",
   "execution_count": 6,
   "metadata": {},
   "outputs": [],
   "source": [
    "X = 8;\n",
    "# X = 8, Y = ?\n",
    "Y = X;\n",
    "# X = 8, Y = 8\n",
    "X = Y;\n",
    "# X = ?, Y = ?\n",
    "X *= 2;\n",
    "# X = ?, Y = ?\n",
    "Y /= 2;\n",
    "# X = ?, Y = ?"
   ]
  },
  {
   "cell_type": "code",
   "execution_count": 7,
   "metadata": {},
   "outputs": [
    {
     "name": "stdout",
     "output_type": "stream",
     "text": [
      "X:16 , Y:4.0\n"
     ]
    }
   ],
   "source": [
    "println(\"X:$X , Y:$Y\")"
   ]
  },
  {
   "cell_type": "markdown",
   "metadata": {},
   "source": [
    "### Problem 3\n",
    "\n",
    "(from **Insight**, P1.1.6)\n",
    "\n",
    "An ellipse with semiaxes $a$ and $b$ is specified by\n",
    "\n",
    "$$\\left( \\frac{x}{a} \\right)^2 + \\left( \\frac{y}{b} \\right)^2 = 1$$\n",
    "\n",
    "If $r=a=b$, then this defines a circle whose perimeter is given by $P=2\\pi r$.\n",
    "Unfortunately, if $a \\ne b$, then there is no simple formula for the perimeter\n",
    "and we must resort to approximation. Numerous possibilities have been worked out:\n",
    "\n",
    "\\begin{align*}\n",
    "P_1 &= \\pi(a+b) & P_5 &= \\pi(a+b)\\left(1+\\frac{3h}{10+\\sqrt{4-3h}}\\right) \\\\\n",
    "P_2 &= \\pi\\sqrt{2(a^2+b^2)} & P_6 &= \\pi(a+b)\\frac{64-3h^2}{64-16h} \\\\\n",
    "P_3 &= \\pi\\sqrt{2(a^2+b^2)-\\frac{(a-b)^2}{2}} & \n",
    "   P_7 &= \\pi(a+b)\\frac{256-48h-21h^2}{256-112h+3h^2} \\\\\n",
    "P_4 &= \\pi(a+b)\\left(1+\\frac{h}{8}\\right)^2 &\n",
    "   P_8 &= \\pi(a+b)\\left(\\frac{3-\\sqrt{1-h}}{2}\\right)\n",
    "\\end{align*}\n",
    "\n",
    "Here,\n",
    "\n",
    "$$ h = \\left(\\frac{a-b}{a+b}\\right)^2 $$\n",
    "\n",
    "can be regarded as a departure from \"circlehood.\""
   ]
  },
  {
   "cell_type": "markdown",
   "metadata": {},
   "source": [
    "### Problem 3 (a)\n",
    "\n",
    "Write a function `printallP(a,b)` which computes each of the 8 approximations\n",
    "and prints each value using `println`."
   ]
  },
  {
   "cell_type": "code",
   "execution_count": null,
   "metadata": {},
   "outputs": [
    {
     "ename": "LoadError",
     "evalue": "syntax: incomplete: \"function\" at In[8]:1 requires end",
     "output_type": "error",
     "traceback": [
      "syntax: incomplete: \"function\" at In[8]:1 requires end",
      "",
      "Stacktrace:",
      " [1] top-level scope",
      "   @ In[8]:1"
     ]
    }
   ],
   "source": [
    "function printallP(a, b)\n",
    "    h = ((a - b) / (a + b))^2\n",
    "\n",
    "    P1 = pi * (a + b)\n",
    "    P2 = pi * sqrt(2 * (a^2 + b^2))\n",
    "    P3 = pi * (sqrt(2 * (a^2 + b^2)) - (a - b)^2 / 2)\n",
    "    P4 = pi * (a + b) * (1 + h / 8)^2\n",
    "    P5 = pi * (a + b) * (1 + 3h / (10 + sqrt(4 - 3h)))\n",
    "    P6 = pi * (a + b) * (64 - 3h^2) / (64 - 16h)\n",
    "    P7 = pi * (a + b) * (256 - 48h - 21h^2) / (256 - 112h + 3h^2)\n",
    "    P8 = pi * (a + b) * (3 - sqrt(1 - h)) / 2\n",
    "\n",
    "    println(\"P1 = \\$P1\")\n",
    "    println(\"P2 = \\$P2\")\n",
    "    println(\"P3 = \\$P3\")\n",
    "    println(\"P4 = \\$P4\")\n",
    "    println(\"P5 = \\$P5\")\n",
    "    println(\"P6 = \\$P6\")\n",
    "    println(\"P7 = \\$P7\")\n",
    "    println(\"P8 = \\$P8\")\n",
    "end\n"
   ]
  },
  {
   "cell_type": "markdown",
   "metadata": {},
   "source": [
    "### Problem 3 (b)\n",
    "\n",
    "Run `printallP` for the parameters $(a,b) = (1,1)$, $(1,0.5)$, and $(1,0.1)$."
   ]
  },
  {
   "cell_type": "code",
   "execution_count": null,
   "metadata": {},
   "outputs": [],
   "source": []
  },
  {
   "cell_type": "code",
   "execution_count": null,
   "metadata": {},
   "outputs": [],
   "source": []
  },
  {
   "cell_type": "code",
   "execution_count": null,
   "metadata": {},
   "outputs": [],
   "source": []
  }
 ],
 "metadata": {
  "kernelspec": {
   "display_name": "Julia 1.9.0",
   "language": "julia",
   "name": "julia-1.9"
  },
  "language_info": {
   "file_extension": ".jl",
   "mimetype": "application/julia",
   "name": "julia",
   "version": "1.9.0"
  }
 },
 "nbformat": 4,
 "nbformat_minor": 4
}
