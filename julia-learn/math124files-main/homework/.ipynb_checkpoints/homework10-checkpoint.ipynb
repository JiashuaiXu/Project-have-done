{
 "cells": [
  {
   "cell_type": "markdown",
   "metadata": {},
   "source": [
    "# Math 124 - Programming for Mathematical Applications\n",
    "UC Berkeley, Spring 2024\n",
    "\n",
    "## Homework 10\n",
    "Due Wednesday, April 10"
   ]
  },
  {
   "cell_type": "code",
   "execution_count": null,
   "metadata": {},
   "outputs": [],
   "source": [
    "using PyPlot   # Packages needed"
   ]
  },
  {
   "cell_type": "markdown",
   "metadata": {},
   "source": [
    "### Description\n",
    "\n",
    "In this homework, you will make some extensions to the `MyPoly` type in the lecture notes.\n",
    "\n",
    "Remember to write your functions in the style of generic programming, as discussed in the\n",
    "lecture notes. That is, they should correctly handle all types of coefficient vectors,\n",
    "including rational and complex numbers. This is almost automatic, but sometimes the\n",
    "function `eltype` is useful to ensure the right type.\n",
    "\n",
    "First, we define the relevant functions below, with some simplifications (in particular\n",
    "we remove the `var` field and assume that the independent variable is $x$)."
   ]
  },
  {
   "cell_type": "code",
   "execution_count": null,
   "metadata": {},
   "outputs": [],
   "source": [
    "struct MyPoly\n",
    "    c\n",
    "end\n",
    "\n",
    "function degree(p::MyPoly)\n",
    "    ix1 = findfirst(p.c .!= 0)\n",
    "    if ix1 == nothing\n",
    "        return 0\n",
    "    else\n",
    "        return length(p.c) - ix1\n",
    "    end\n",
    "end\n",
    "\n",
    "function Base.show(io::IO, p::MyPoly)\n",
    "    d = degree(p)\n",
    "    print(io, \"MyPoly(\")\n",
    "    for k = d:-1:0\n",
    "        coeff = p.c[end-k]\n",
    "        if coeff == 0 && d > 0\n",
    "            continue\n",
    "        end\n",
    "        if k < d\n",
    "            if isa(coeff, Real)\n",
    "                if coeff > 0\n",
    "                    print(io, \" + \")\n",
    "                else\n",
    "                    print(io, \" - \")\n",
    "                end\n",
    "                coeff = abs(coeff)\n",
    "            else\n",
    "                print(io, \" + \")\n",
    "            end\n",
    "        end\n",
    "        if isa(coeff, Real)\n",
    "            print(io, coeff)\n",
    "        else\n",
    "            print(io, \"($coeff)\")\n",
    "        end\n",
    "        if k == 0\n",
    "            continue\n",
    "        end\n",
    "        print(io, \"⋅x\")\n",
    "        if k > 1\n",
    "            print(io, \"^\", k)\n",
    "        end\n",
    "    end\n",
    "    print(io, \")\")\n",
    "end\n",
    "\n",
    "function (p::MyPoly)(x)\n",
    "    d = degree(p)\n",
    "    v = p.c[end-d]\n",
    "    for cc = p.c[end-d+1:end]\n",
    "        v = v*x + cc\n",
    "    end\n",
    "    return v\n",
    "end\n",
    "\n",
    "function PyPlot.plot(p::MyPoly, xlim=[-2,2])\n",
    "    xx = range(xlim[1], xlim[2], length=100)\n",
    "    plot(xx, p.(xx))\n",
    "    xlabel(\"x\")\n",
    "end\n",
    "\n",
    "function Base.:+(p1::MyPoly, p2::MyPoly)\n",
    "    d1 = length(p1.c)\n",
    "    d2 = length(p2.c)\n",
    "    d = max(d1,d2)\n",
    "    c = [fill(0, d-d1); p1.c] + [fill(0, d-d2); p2.c]\n",
    "    return MyPoly(c)\n",
    "end\n",
    "\n",
    "function Base.:-(p1::MyPoly, p2::MyPoly)\n",
    "    return p1 + MyPoly(-p2.c)\n",
    "end\n",
    "\n",
    "function Base.:*(a, p::MyPoly)\n",
    "    newp = deepcopy(p)\n",
    "    newp.c .*= a\n",
    "    return newp\n",
    "end\n",
    "\n",
    "function Base.:*(p::MyPoly, a)\n",
    "    return a*p\n",
    "end"
   ]
  },
  {
   "cell_type": "code",
   "execution_count": 1,
   "metadata": {},
   "outputs": [],
   "source": [
    "# 定义一个结构体表示多项式，其中c为系数数组\n",
    "struct MyPoly\n",
    "    c::Vector  # 系数向量，从常数项到最高次项\n",
    "end\n",
    "\n",
    "# 计算多项式的度数，即最高非零系数的指数\n",
    "function degree(p::MyPoly)\n",
    "    # 查找第一个非零系数\n",
    "    ix1 = findfirst(p.c .!= 0)\n",
    "    # 如果所有系数都是零，则度数为0（表示零多项式）\n",
    "    if ix1 == nothing\n",
    "        return 0\n",
    "    else\n",
    "        return length(p.c) - ix1\n",
    "    end\n",
    "end\n",
    "\n",
    "# 重写显示函数，美化多项式的输出格式\n",
    "function Base.show(io::IO, p::MyPoly)\n",
    "    d = degree(p)  # 获取多项式度数\n",
    "    print(io, \"MyPoly(\")\n",
    "    for k = d:-1:0\n",
    "        coeff = p.c[end-k]  # 从高次到低次访问系数\n",
    "        # 跳过零系数，除非这是唯一的项\n",
    "        if coeff == 0 && d > 0\n",
    "            continue\n",
    "        end\n",
    "        # 添加加号或减号，取决于系数的符号\n",
    "        if k < d\n",
    "            if isa(coeff, Real)\n",
    "                if coeff > 0\n",
    "                    print(io, \" + \")\n",
    "                else\n",
    "                    print(io, \" - \")\n",
    "                end\n",
    "                coeff = abs(coeff)\n",
    "            else\n",
    "                print(io, \" + \")\n",
    "            end\n",
    "        end\n",
    "        # 特殊处理复系数\n",
    "        if isa(coeff, Real)\n",
    "            print(io, coeff)\n",
    "        else\n",
    "            print(io, \"($coeff)\")\n",
    "        end\n",
    "        # 添加变量x和其幂次\n",
    "        if k == 0\n",
    "            continue\n",
    "        end\n",
    "        print(io, \"⋅x\")\n",
    "        if k > 1\n",
    "            print(io, \"^\", k)\n",
    "        end\n",
    "    end\n",
    "    print(io, \")\")\n",
    "end\n",
    "\n",
    "# 使MyPoly类型的对象可调用，根据多项式的定义计算x的值\n",
    "function (p::MyPoly)(x)\n",
    "    d = degree(p)  # 多项式度数\n",
    "    v = p.c[end-d]  # 最高次项系数\n",
    "    for cc = p.c[end-d+1:end]\n",
    "        v = v*x + cc  # Horner法则计算多项式值\n",
    "    end\n",
    "    return v\n",
    "end"
   ]
  },
  {
   "cell_type": "markdown",
   "metadata": {},
   "source": [
    "### Problem 1(a)\n",
    "\n",
    "Implement multiplication of two polynomials by overloading the `*` operator.\n",
    "\n",
    "Test your function using the code below."
   ]
  },
  {
   "cell_type": "code",
   "execution_count": 2,
   "metadata": {},
   "outputs": [
    {
     "data": {
      "text/plain": [
       "integrate (generic function with 1 method)"
      ]
     },
     "execution_count": 2,
     "metadata": {},
     "output_type": "execute_result"
    }
   ],
   "source": [
    "# 接下来，我们将实现一个函数来对多项式进行积分。\n",
    "# 这个积分操作不涉及具体的积分上下限，\n",
    "# 而是增加多项式的一个自由常数项并增加各项的次数\n",
    "# 定义对多项式进行不定积分的函数，返回新的多项式\n",
    "function integrate(p::MyPoly)\n",
    "    # 新的系数数组，长度为原来的长度加一（加常数项）\n",
    "    new_coeffs = Vector{eltype(p.c)}(undef, length(p.c) + 1)\n",
    "    # 第一个元素为积分常数，这里假设为0（不定积分）\n",
    "    new_coeffs[1] = 0\n",
    "    # 按照积分规则计算每个系数：原来系数除以其次数加一\n",
    "    for i in 1:length(p.c)\n",
    "        new_coeffs[i + 1] = p.c[i] / i\n",
    "    end\n",
    "    return MyPoly(new_coeffs)\n",
    "end\n"
   ]
  },
  {
   "cell_type": "code",
   "execution_count": 9,
   "metadata": {},
   "outputs": [
    {
     "name": "stdout",
     "output_type": "stream",
     "text": [
      "原多项式: MyPoly(1⋅x^2 + 2⋅x + 3)\n",
      "积分后多项式: MyPoly(1⋅x^2 + 1⋅x + 1)\n"
     ]
    }
   ],
   "source": [
    "# 测试用的多项式\n",
    "p = MyPoly([1, 2, 3])  # 表示多项式3x^2 + 2x + 1\n",
    "\n",
    "# 对多项式p进行积分\n",
    "integrated_p = integrate(p)\n",
    "\n",
    "# 打印结果\n",
    "println(\"原多项式: \", p)\n",
    "println(\"积分后多项式: \", integrated_p)\n"
   ]
  },
  {
   "cell_type": "code",
   "execution_count": 8,
   "metadata": {},
   "outputs": [],
   "source": [
    "# 重载乘法操作符以处理两个MyPoly对象的乘法\n",
    "function Base.:*(p1::MyPoly, p2::MyPoly)\n",
    "    # 新多项式的系数长度为两个输入多项式的度数之和加一\n",
    "    new_degree = degree(p1) + degree(p2)\n",
    "    new_coeffs = zeros(eltype(p1.c), new_degree + 1)\n",
    "\n",
    "    # 计算每一项的乘积，并将结果累加到相应的系数上\n",
    "    for (i, coeff1) in enumerate(p1.c)\n",
    "        for (j, coeff2) in enumerate(p2.c)\n",
    "            new_coeffs[i + j - 1] += coeff1 * coeff2\n",
    "        end\n",
    "    end\n",
    "\n",
    "    return MyPoly(new_coeffs)\n",
    "end\n"
   ]
  },
  {
   "cell_type": "code",
   "execution_count": 10,
   "metadata": {},
   "outputs": [
    {
     "data": {
      "text/plain": [
       "MyPoly(4⋅x^4 - 5⋅x^3 - 5⋅x^2 - 1⋅x - 2)"
      ]
     },
     "metadata": {},
     "output_type": "display_data"
    },
    {
     "data": {
      "text/plain": [
       "MyPoly(-1//3⋅x^3 + 55//126⋅x^2 - 13//42⋅x + 3//28)"
      ]
     },
     "metadata": {},
     "output_type": "display_data"
    }
   ],
   "source": [
    "p1 = MyPoly([1,-2])\n",
    "p2 = MyPoly([4,3,1,1])\n",
    "display(p1 * p2)  # Should have integer coefficients\n",
    "\n",
    "p1 = MyPoly([2//3, -3//7])\n",
    "p2 = MyPoly([-1//2, 1//3, -1//4])\n",
    "display(p1 * p2)  # Should have rational coefficients"
   ]
  },
  {
   "cell_type": "markdown",
   "metadata": {},
   "source": [
    "### Problem 1(b)\n",
    "\n",
    "Implement a new constructor for the `MyPoly` type, which\n",
    "creates a polynomial from a given vector of roots (and with leading term 1).\n",
    "That is, for a vector $r$ with $d$ roots, we define the degree $d$ polynomial\n",
    "\n",
    "$$\n",
    "p(x) = \\prod_{k=1}^d (x - r_k)\n",
    "$$\n",
    "\n",
    "To make sure we can still use the old syntax of initializing by the coefficients `c`,\n",
    "overload `MyPoly` with a parameter named `roots`:\n",
    "\n",
    "```julia\n",
    "function MyPoly(; roots)\n",
    "    # Implement function here\n",
    "end\n",
    "```\n",
    "\n",
    "Test your function using the code below."
   ]
  },
  {
   "cell_type": "code",
   "execution_count": null,
   "metadata": {},
   "outputs": [],
   "source": []
  },
  {
   "cell_type": "code",
   "execution_count": 11,
   "metadata": {},
   "outputs": [],
   "source": [
    "p = MyPoly(roots=[-3,-2,0,1,1,4])\n",
    "display(p)  # Should have integer coefficients\n",
    "\n",
    "p = MyPoly(roots=[-7//3,-2//1,0,1//2,1//2,3//2])\n",
    "display(p)  # Should have rational coefficients"
   ]
  },
  {
   "cell_type": "markdown",
   "metadata": {},
   "source": [
    "### Problem 1(c)\n",
    "\n",
    "Implement a function `differentiate` which returns the derivative of a polynomial.\n",
    "\n",
    "Test your function using the code below."
   ]
  },
  {
   "cell_type": "code",
   "execution_count": 13,
   "metadata": {},
   "outputs": [
    {
     "data": {
      "text/plain": [
       "differentiate (generic function with 1 method)"
      ]
     },
     "execution_count": 13,
     "metadata": {},
     "output_type": "execute_result"
    }
   ],
   "source": [
    "# Function to differentiate a polynomial\n",
    "function differentiate(p::MyPoly)\n",
    "    # If the polynomial is constant or zero, its derivative is a zero polynomial\n",
    "    if degree(p) <= 0\n",
    "        return MyPoly([0])\n",
    "    end\n",
    "\n",
    "    # New coefficients array for the derivative polynomial\n",
    "    new_coeffs = Vector{eltype(p.c)}(undef, degree(p))\n",
    "    \n",
    "    # Calculating the derivative coefficients\n",
    "    for i in 2:length(p.c)\n",
    "        new_coeffs[i-1] = (i-1) * p.c[i]\n",
    "    end\n",
    "    \n",
    "    return MyPoly(new_coeffs)\n",
    "end\n"
   ]
  },
  {
   "cell_type": "code",
   "execution_count": 14,
   "metadata": {},
   "outputs": [
    {
     "name": "stdout",
     "output_type": "stream",
     "text": [
      "Original polynomial: MyPoly(1⋅x^3 + 3⋅x^2 + 5⋅x + 7)\n",
      "Derivative polynomial: MyPoly(3⋅x^2 + 10⋅x + 21)\n"
     ]
    }
   ],
   "source": [
    "# Define a polynomial p(x)\n",
    "p = MyPoly([1, 3, 5, 7])  # Corresponds to 7x^3 + 5x^2 + 3x + 1\n",
    "\n",
    "# Differentiate the polynomial\n",
    "dp = differentiate(p)\n",
    "\n",
    "# Display the original and its derivative\n",
    "println(\"Original polynomial: \", p)\n",
    "println(\"Derivative polynomial: \", dp)"
   ]
  },
  {
   "cell_type": "code",
   "execution_count": null,
   "metadata": {},
   "outputs": [],
   "source": [
    "differentiate(p)"
   ]
  },
  {
   "cell_type": "markdown",
   "metadata": {},
   "source": [
    "### Problem 1(d)\n",
    "\n",
    "Implement a function `integrate` which returns the (indefinite) integral of a polynomial, with\n",
    "the constant term = 0.\n",
    "\n",
    "Test your function using the code below."
   ]
  },
  {
   "cell_type": "code",
   "execution_count": null,
   "metadata": {},
   "outputs": [],
   "source": [
    "integrate(p)"
   ]
  },
  {
   "cell_type": "markdown",
   "metadata": {},
   "source": [
    "### Problem 2\n",
    "\n",
    "In this problem you will use the polynomial type to compute Lagrange polynomials\n",
    "for a set of nodes, and compute so-called elemental matrices that appear in the finite\n",
    "element discretization of PDEs."
   ]
  },
  {
   "cell_type": "markdown",
   "metadata": {},
   "source": [
    "#### Problem 2(a)\n",
    "\n",
    "Implement a function `LagrangePolynomials(s)` where `s` is a vector of $n$ numbers,\n",
    "which returns a vector of $n$ polynomials $L_k(x)$, $k=1,\\ldots,n$, of degree $d=n-1$\n",
    "such that\n",
    "\n",
    "$$\n",
    "L_k(s_j) = \\delta_{kj} =\n",
    "\\begin{cases}\n",
    "1 & \\text{if }k=j,  \\\\\n",
    "0 & \\text{otherwise.}\n",
    "\\end{cases}\n",
    "$$\n",
    "\n",
    "Hint: Note that a polynomial $L_k(x)$ is zero at the $n-1$ points $s_j$, $j\\ne k$.\n",
    "Use the `roots` constructor of `MyPoly` to create a polynomial with these roots,\n",
    "then evaluate it and scale to make $L_k(s_k)=1$.\n",
    "\n",
    "Test your function using the code below."
   ]
  },
  {
   "cell_type": "code",
   "execution_count": null,
   "metadata": {},
   "outputs": [],
   "source": []
  },
  {
   "cell_type": "code",
   "execution_count": null,
   "metadata": {},
   "outputs": [],
   "source": [
    "Ls = LagrangePolynomials((0:6) / 6)\n",
    "plot.(Ls, Ref([0,1]));"
   ]
  },
  {
   "cell_type": "markdown",
   "metadata": {},
   "source": [
    "### Problem 2(b)\n",
    "\n",
    "In the finite element method (FEM), so-called mass matrices $M$ and stiffness matrices $K$\n",
    "are defined as follows:\n",
    "\n",
    "$$\n",
    "\\begin{align*}\n",
    "M_{ij} &= \\int_0^1 L_i(x) L_j(x)\\,dx,\\qquad i,j=1,\\ldots,n \\\\\n",
    "K_{ij} &= \\int_0^1 \\frac{dL_i}{dx} \\frac{dL_j}{dx}\\,dx,\\qquad i,j=1,\\ldots,n\n",
    "\\end{align*}\n",
    "$$\n",
    "\n",
    "Write two functions `mkM(Ls)` and `mkK(Ls)` which computes and returns these matrices,\n",
    "for a given vector `Ls` of Lagrange polynomials.\n",
    "\n",
    "Test your function using the code below. Note that in this case, the `s` vector is *rational*\n",
    "and all your outputs should also be rational."
   ]
  },
  {
   "cell_type": "markdown",
   "metadata": {},
   "source": [
    "实现拉格朗日多项式函数\n",
    "拉格朗日多项式是一组多项式，其中每个多项式在特定的一个点上取值为1，而在其他所有点上取值为0。这些多项式常用于多项式插值中。"
   ]
  },
  {
   "cell_type": "code",
   "execution_count": null,
   "metadata": {},
   "outputs": [],
   "source": [
    "function LagrangePolynomials(s)\n",
    "    n = length(s)  # 节点数\n",
    "    L = Vector{MyPoly}(undef, n)\n",
    "\n",
    "    for k in 1:n\n",
    "        # 对于每个点s[k]，构建一个多项式L_k，使得L_k在s[k]为1，在其他s[j]（j != k）为0\n",
    "        # 初始化为1，表示多项式系数起始为1\n",
    "        coeffs = [1.0]\n",
    "        for j in 1:n\n",
    "            if j != k\n",
    "                # 构建根为s[j]的因子(x - s[j])\n",
    "                coeffs = conv(coeffs, [-s[j], 1])\n",
    "            end\n",
    "        end\n",
    "        \n",
    "        # 用L_k(s[k]) = 1来归一化多项式\n",
    "        # 计算L_k在s[k]的值\n",
    "        L_k_value = sum(coeffs[i] * s[k]^(i-1) for i in 1:length(coeffs))\n",
    "        # 归一化系数\n",
    "        coeffs = coeffs / L_k_value\n",
    "        \n",
    "        L[k] = MyPoly(coeffs)\n",
    "    end\n",
    "    return L\n",
    "end\n"
   ]
  },
  {
   "cell_type": "code",
   "execution_count": null,
   "metadata": {},
   "outputs": [],
   "source": [
    "d = 4\n",
    "Ls = LagrangePolynomials((0:d) // d)\n",
    "M = mkM(Ls)\n",
    "K = mkK(Ls)\n",
    "display(Ls)\n",
    "display(M)\n",
    "display(K)"
   ]
  },
  {
   "cell_type": "code",
   "execution_count": null,
   "metadata": {},
   "outputs": [],
   "source": []
  }
 ],
 "metadata": {
  "kernelspec": {
   "display_name": "Julia 1.9.0",
   "language": "julia",
   "name": "julia-1.9"
  },
  "language_info": {
   "file_extension": ".jl",
   "mimetype": "application/julia",
   "name": "julia",
   "version": "1.9.0"
  }
 },
 "nbformat": 4,
 "nbformat_minor": 4
}
