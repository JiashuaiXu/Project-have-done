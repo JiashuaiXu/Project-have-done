{
 "cells": [
  {
   "cell_type": "markdown",
   "metadata": {},
   "source": [
    "# Math 124 - Programming for Mathematical Applications\n",
    "UC Berkeley, Spring 2024\n",
    "\n",
    "## Homework 5\n",
    "Due Wednesday, February 21"
   ]
  },
  {
   "cell_type": "markdown",
   "metadata": {},
   "source": [
    "### Problem 1\n",
    "\n",
    "What does the following function compute (in terms of $x,y$)? Explain why.\n",
    "\n",
    "```julia\n",
    "function fun1(x,y)\n",
    "    if x == 0\n",
    "        return y\n",
    "    else\n",
    "        return fun1(x - 1, x + y)\n",
    "    end\n",
    "end\n",
    "```"
   ]
  },
  {
   "cell_type": "markdown",
   "metadata": {},
   "source": [
    "此函数的作用是计算下面的数学表达式 T(x,y)\n",
    "T(x,y)：\n",
    "\n",
    "T(x,y)=x+(x−1)+(x−2)+…+1+y\n",
    "T(x,y)=x+(x−1)+(x−2)+…+1+y\n",
    "\n",
    "原因是这个递归函数每次减少 xx 的值，直到 xx 变为 0，并在每次递归调用中将当前的 xx 值加到 yy 上。当 xx 达到 0 时，函数返回当前的 yy 值，这个值就是从 xx 到 1 的所有数字之和加上原始 yy 的值。"
   ]
  },
  {
   "cell_type": "markdown",
   "metadata": {},
   "source": [
    "### Problem 2\n",
    "\n",
    "What does the following function compute (in terms of $a,b$)? Explain why.\n",
    "\n",
    "\n",
    "```julia\n",
    "function fun2(a,b)\n",
    "    if b == 0\n",
    "        return 1\n",
    "    elseif b % 2 == 0\n",
    "        return fun2(a * a, b ÷ 2)\n",
    "    else\n",
    "        return fun2(a * a, b ÷ 2) * a\n",
    "    end\n",
    "end\n",
    "```"
   ]
  },
  {
   "attachments": {
    "3f121a68-6121-4ad2-adcb-f424612d8472.png": {
     "image/png": "[encoded data removed]"
    }
   },
   "cell_type": "markdown",
   "metadata": {},
   "source": [
    "此函数是用于计算 abab，使用了快速幂算法。快速幂算法通过将指数每次除以 2 来减少计算量，这样可以显著提高效率。具体来说：\n",
    "![image.png](attachment:3f121a68-6121-4ad2-adcb-f424612d8472.png)\n",
    "这种方式大大减少了乘法的次数，提高了计算效率。"
   ]
  },
  {
   "cell_type": "markdown",
   "metadata": {},
   "source": [
    "### Problem 3\n",
    "\n",
    "Predict the output of the code below (try first without running it):\n",
    "\n",
    "```julia\n",
    "function fun3(x)\n",
    "    if x > 0\n",
    "        x -= 1\n",
    "        fun3(x)\n",
    "        print(x, \" \")\n",
    "        x -= 1\n",
    "        fun3(x)\n",
    "    end\n",
    "end\n",
    "\n",
    "fun3(5)\n",
    "```"
   ]
  },
  {
   "cell_type": "code",
   "execution_count": 14,
   "metadata": {},
   "outputs": [
    {
     "name": "stdout",
     "output_type": "stream",
     "text": [
      "5 4 3 2 1 0 ==========\n",
      "1 ==========\n",
      "2 ==========\n",
      "3 ==========\n",
      "4 ==========\n"
     ]
    }
   ],
   "source": [
    "function fun3(x)\n",
    "    if x > 0\n",
    "        print(x, \" \")\n",
    "        x -= 1\n",
    "        fun3(x)\n",
    "        print(x, \" \")\n",
    "        println(\"==========\")\n",
    "        # x -= 1\n",
    "        # fun3(x)\n",
    "    end\n",
    "end\n",
    "\n",
    "fun3(5)"
   ]
  },
  {
   "cell_type": "code",
   "execution_count": 15,
   "metadata": {},
   "outputs": [
    {
     "name": "stdout",
     "output_type": "stream",
     "text": [
      "5 4 3 2 1 0 1 2 1 0 3 2 1 0 1 4 3 2 1 0 1 2 1 0 "
     ]
    }
   ],
   "source": [
    "function fun3(x)\n",
    "    if x > 0\n",
    "        print(x, \" \")\n",
    "        x -= 1\n",
    "        fun3(x)\n",
    "        print(x, \" \")\n",
    "        # println(\"==========\")\n",
    "        x -= 1\n",
    "        fun3(x)\n",
    "    end\n",
    "end\n",
    "\n",
    "fun3(5)"
   ]
  },
  {
   "cell_type": "markdown",
   "metadata": {},
   "source": [
    "### Problem 4 - Mandelbrot set\n",
    "\n",
    "The Mandelbrot set is the set of complex numbers $z_0 = C$ such that the quadratic recurrence equation\n",
    "\n",
    "$$\n",
    "z_{n+1} = z_n^2 + C\n",
    "$$\n",
    "\n",
    "does not tend to infinity.\n",
    "\n",
    "To visualize the set, you will:\n",
    "\n",
    "1. Create a matrix of points $C$ in the complex plane\n",
    "2. Iterate the recurrence for each point $C$ until $|z_n|>4$, and count the number of iterations $n$\n",
    "3. For the points where the number of iterations exceeds `maxiter`, we will assume that the sequence is convergent and set $n=0$\n",
    "4. Visualize the set by an image plot of the $n$-values\n"
   ]
  },
  {
   "cell_type": "markdown",
   "metadata": {},
   "source": [
    "### Problem 4(a)\n",
    "\n",
    "Write a function with the syntax\n",
    "\n",
    "```julia\n",
    "    function mkCmatrix(xmin, xmax, ymin, ymax, nx, ny)\n",
    "```\n",
    "\n",
    "which computes `nx` equally spaced numbers $x_k$ from `xmin` to `xmax`, `ny` equally spaced numbers $y_j$ from `ymin` to `ymax`, and returns the `ny`-by-`nx` matrix $C$ with complex entries $C_{jk} = x_k + iy_j$."
   ]
  },
  {
   "cell_type": "code",
   "execution_count": 24,
   "metadata": {},
   "outputs": [
    {
     "data": {
      "text/plain": [
       "mkCmatrix (generic function with 1 method)"
      ]
     },
     "execution_count": 29,
     "metadata": {},
     "output_type": "execute_result"
    }
   ],
   "source": [
    "# 这个函数创建了一个复数矩阵，其中每个元素代表复平面上的一个点。\n",
    "function mkCmatrix(xmin, xmax, ymin, ymax, nx, ny)\n",
    "    x = LinRange(xmin, xmax, nx)\n",
    "    y = LinRange(ymin, ymax, ny)\n",
    "    C = [Complex{Float64}(x[i], y[j]) for j in 1:ny, i in 1:nx]\n",
    "    return C\n",
    "end\n",
    "\n",
    "C = mkCmatrix(-2.25, 0.75, -1.25, 1.25, 600, 500)\n"
   ]
  },
  {
   "cell_type": "markdown",
   "metadata": {},
   "source": [
    "### Problem 4(b)\n",
    "\n",
    "Write a function\n",
    "\n",
    "```julia\n",
    "   function mandelbrot_set(C, maxiter)\n",
    "```\n",
    "\n",
    "which takes a matrix $C$ as described above and an integer `maxiter`, and returns an integer matrix $N$ of the same size as $C$ containing the iteration counts $n$ as described above."
   ]
  },
  {
   "cell_type": "code",
   "execution_count": 18,
   "metadata": {},
   "outputs": [
    {
     "data": {
      "text/plain": [
       "mandelbrot_set (generic function with 1 method)"
      ]
     },
     "execution_count": 18,
     "metadata": {},
     "output_type": "execute_result"
    }
   ],
   "source": [
    "function mandelbrot_set(C, maxiter)\n",
    "    nrows, ncols = size(C)\n",
    "    N = zeros(Int, nrows, ncols)\n",
    "    for j in 1:ncols\n",
    "        for i in 1:nrows\n",
    "            n = 0\n",
    "            z = 0\n",
    "            while (abs(z) <= 4 && n < maxiter)\n",
    "                z = z^2 + C[i, j]\n",
    "                n += 1\n",
    "            end\n",
    "            N[i, j] = n\n",
    "        end\n",
    "    end\n",
    "    return N\n",
    "end\n"
   ]
  },
  {
   "cell_type": "code",
   "execution_count": 28,
   "metadata": {},
   "outputs": [],
   "source": []
  },
  {
   "cell_type": "code",
   "execution_count": 27,
   "metadata": {},
   "outputs": [],
   "source": []
  },
  {
   "cell_type": "markdown",
   "metadata": {},
   "source": [
    "### Problem 4(c)\n",
    "\n",
    "Run the code below to visualize the set."
   ]
  },
  {
   "cell_type": "code",
   "execution_count": 33,
   "metadata": {},
   "outputs": [
    {
     "data": {
      "image/png": "[encoded data removed]",
      "text/plain": [
       "Figure(PyObject <Figure size 640x480 with 1 Axes>)"
      ]
     },
     "metadata": {},
     "output_type": "display_data"
    },
    {
     "data": {
      "text/plain": [
       "PyObject <matplotlib.image.AxesImage object at 0x000001F193619D80>"
      ]
     },
     "execution_count": 33,
     "metadata": {},
     "output_type": "execute_result"
    }
   ],
   "source": [
    "\n",
    "# 创建复数矩阵以进行 Mandelbrot 计算\n",
    "C = mkCmatrix(-2.25, 0.75, -1.25, 1.25, 600, 500)\n",
    "\n",
    "# 设置最大迭代次数\n",
    "maxiter = 50\n",
    "\n",
    "# 计算 Mandelbrot 集的迭代次数\n",
    "N = mandelbrot_set(C, maxiter)\n",
    "\n",
    "# 使用热图绘制结果\n",
    "imshow(N, cmap=ColorMap(\"hot\"))"
   ]
  },
  {
   "cell_type": "markdown",
   "metadata": {},
   "source": [
    "### Problem 5 - Koch curve\n",
    "\n",
    "A Koch curve between two points $(x_1,y_1)$ and $(x_2,y_2)$ can be defined as follows:\n",
    "\n",
    "1. If `level` is zero, draw a straight line between the two points\n",
    "2. Otherwise, define the following 3 additional points\n",
    "\n",
    "$$\n",
    "\\begin{align*}\n",
    "\\Delta x &= x2 - x1 \\\\\n",
    "\\Delta y &= y2 - y1 \\\\\n",
    "x_3 &= x1 + \\Delta x / 3 \\\\\n",
    "y_3 &= y1 + \\Delta y / 3 \\\\\n",
    "x_5 &= x1 + 2\\Delta x / 3 \\\\\n",
    "y_5 &= y1 + 2\\Delta y / 3 \\\\\n",
    "x_4 &= (x1 + x2) / 2 - \\Delta y / 2\\sqrt{3} \\\\\n",
    "y_4 &= (y1 + y2) / 2 + \\Delta x / 2\\sqrt{3} \\\\\n",
    "\\end{align*}\n",
    "$$\n",
    "\n",
    "3. Draw Koch curves of level `level - 1` between the following pairs of points:\n",
    "\n",
    "$$\n",
    "\\begin{align*}\n",
    "(x_1, y_1)&\\text{ to }(x_3, y_3) \\\\\n",
    "(x_3, y_3)&\\text{ to }(x_4, y_4) \\\\\n",
    "(x_4, y_4)&\\text{ to }(x_5, y_5) \\\\\n",
    "(x_5, y_5)&\\text{ to }(x_2, y_2) \\\\\n",
    "\\end{align*}\n",
    "$$"
   ]
  },
  {
   "cell_type": "markdown",
   "metadata": {},
   "source": [
    "### Problem 5(a)\n",
    "\n",
    "Write a function\n",
    "\n",
    "```julia\n",
    "function koch_curve(x1, y1, x2, y2, level)\n",
    "```\n",
    "\n",
    "which draws a Koch curve as described above."
   ]
  },
  {
   "cell_type": "code",
   "execution_count": 19,
   "metadata": {},
   "outputs": [
    {
     "ename": "LoadError",
     "evalue": "ArgumentError: Package PyPlot not found in current path.\n- Run `import Pkg; Pkg.add(\"PyPlot\")` to install the PyPlot package.",
     "output_type": "error",
     "traceback": [
      "ArgumentError: Package PyPlot not found in current path.\n- Run `import Pkg; Pkg.add(\"PyPlot\")` to install the PyPlot package.",
      "",
      "Stacktrace:",
      " [1] macro expansion",
      "   @ .\\loading.jl:1595 [inlined]",
      " [2] macro expansion",
      "   @ .\\lock.jl:267 [inlined]",
      " [3] require(into::Module, mod::Symbol)",
      "   @ Base .\\loading.jl:1576"
     ]
    }
   ],
   "source": []
  },
  {
   "cell_type": "code",
   "execution_count": null,
   "metadata": {},
   "outputs": [],
   "source": [
    "using PyPlot\n",
    "\n",
    "function koch_curve(x1, y1, x2, y2, level)\n",
    "    if level == 0\n",
    "        plot([x1, x2], [y1, y2], \"b\")\n",
    "    else\n",
    "        Δx = x2 - x1\n",
    "        Δy = y2 - y1\n",
    "        x3 = x1 + Δx / 3\n",
    "        y3 = y1 + Δy / 3\n",
    "        x5 = x1 + 2 * Δx / 3\n",
    "        y5 = y1 + 2 * Δy / 3\n",
    "        x4 = (x1 + x2) / 2 - Δy / (2sqrt(3))\n",
    "        y4 = (y1 + y2) / 2 + Δx / (2sqrt(3))\n",
    "        \n",
    "        koch_curve(x1, y1, x3, y3, level - 1)\n",
    "        koch_curve(x3, y3, x4, y4, level - 1)\n",
    "        koch_curve(x4, y4, x5, y5, level - 1)\n",
    "        koch_curve(x5, y5, x2, y2, level - 1)\n",
    "    end\n",
    "end\n"
   ]
  },
  {
   "cell_type": "markdown",
   "metadata": {},
   "source": [
    "### Problem 5(b)\n",
    "\n",
    "Draw a Koch curve of level 4 between the points $(0,0)$ and $(3,0)$. Use `axis(\"equal\")`."
   ]
  },
  {
   "cell_type": "code",
   "execution_count": 20,
   "metadata": {},
   "outputs": [
    {
     "ename": "LoadError",
     "evalue": "ArgumentError: Package PyPlot not found in current path.\n- Run `import Pkg; Pkg.add(\"PyPlot\")` to install the PyPlot package.",
     "output_type": "error",
     "traceback": [
      "ArgumentError: Package PyPlot not found in current path.\n- Run `import Pkg; Pkg.add(\"PyPlot\")` to install the PyPlot package.",
      "",
      "Stacktrace:",
      " [1] macro expansion",
      "   @ .\\loading.jl:1595 [inlined]",
      " [2] macro expansion",
      "   @ .\\lock.jl:267 [inlined]",
      " [3] require(into::Module, mod::Symbol)",
      "   @ Base .\\loading.jl:1576"
     ]
    }
   ],
   "source": [
    "using PyPlot\n",
    "\n",
    "function koch_curve(x1, y1, x2, y2, level)\n",
    "    if level == 0\n",
    "        plot([x1, x2], [y1, y2], \"b\")\n",
    "    else\n",
    "        Δx = x2 - x1\n",
    "        Δy = y2 - y1\n",
    "        x3 = x1 + Δx / 3\n",
    "        y3 = y1 + Δy / 3\n",
    "        x5 = x1 + 2 * Δx / 3\n",
    "        y5 = y1 + 2 * Δy / 3\n",
    "        x4 = (x1 + x2) / 2 - Δy / (2sqrt(3))\n",
    "        y4 = (y1 + y2) / 2 + Δx / (2sqrt(3))\n",
    "        \n",
    "        koch_curve(x1, y1, x3, y3, level - 1)\n",
    "        koch_curve(x3, y3, x4, y4, level - 1)\n",
    "        koch_curve(x4, y4, x5, y5, level - 1)\n",
    "        koch_curve(x5, y5, x2, y2, level - 1)\n",
    "    end\n",
    "end\n",
    "\n",
    "figure()\n",
    "koch_curve(0, 0, 3, 0, 4)\n",
    "axis(\"equal\")\n",
    "show()"
   ]
  },
  {
   "cell_type": "markdown",
   "metadata": {},
   "source": [
    "### Problem 5(c)\n",
    "\n",
    "Draw three Koch curves of level 4 to make the outline of a snowflake. This can be done by generating Koch curves around each edge of an equilateral triangle."
   ]
  },
  {
   "cell_type": "code",
   "execution_count": 21,
   "metadata": {},
   "outputs": [
    {
     "ename": "LoadError",
     "evalue": "ArgumentError: Package PyPlot not found in current path.\n- Run `import Pkg; Pkg.add(\"PyPlot\")` to install the PyPlot package.",
     "output_type": "error",
     "traceback": [
      "ArgumentError: Package PyPlot not found in current path.\n- Run `import Pkg; Pkg.add(\"PyPlot\")` to install the PyPlot package.",
      "",
      "Stacktrace:",
      " [1] macro expansion",
      "   @ .\\loading.jl:1595 [inlined]",
      " [2] macro expansion",
      "   @ .\\lock.jl:267 [inlined]",
      " [3] require(into::Module, mod::Symbol)",
      "   @ Base .\\loading.jl:1576"
     ]
    }
   ],
   "source": [
    "using PyPlot\n",
    "\n",
    "function koch_curve(x1, y1, x2, y2, level)\n",
    "    if level == 0\n",
    "        plot([x1, x2], [y1, y2], \"b\")\n",
    "    else\n",
    "        Δx = x2 - x1\n",
    "        Δy = y2 - y1\n",
    "        x3 = x1 + Δx / 3\n",
    "        y3 = y1 + Δy / 3\n",
    "        x5 = x1 + 2 * Δx / 3\n",
    "        y5 = y1 + 2 * Δy / 3\n",
    "        x4 = (x1 + x2) / 2 - Δy / (2sqrt(3))\n",
    "        y4 = (y1 + y2) / 2 + Δx / (2sqrt(3))\n",
    "        \n",
    "        koch_curve(x1, y1, x3, y3, level - 1)\n",
    "        koch_curve(x3, y3, x4, y4, level - 1)\n",
    "        koch_curve(x4, y4, x5, y5, level - 1)\n",
    "        koch_curve(x5, y5, x2, y2, level - 1)\n",
    "    end\n",
    "end\n",
    "\n",
    "function draw_snowflake()\n",
    "    # Define the vertices of an equilateral triangle\n",
    "    length = 3\n",
    "    h = length * sqrt(3) / 2\n",
    "    x1, y1 = 0, 0\n",
    "    x2, y2 = length, 0\n",
    "    x3, y3 = length / 2, h\n",
    "\n",
    "    figure()\n",
    "    koch_curve(x1, y1, x2, y2, 4)\n",
    "    koch_curve(x2, y2, x3, y3, 4)\n",
    "    koch_curve(x3, y3, x1, y1, 4)\n",
    "    axis(\"equal\")\n",
    "    show()\n",
    "end\n",
    "\n",
    "draw_snowflake()\n"
   ]
  },
  {
   "cell_type": "code",
   "execution_count": null,
   "metadata": {},
   "outputs": [],
   "source": []
  }
 ],
 "metadata": {
  "kernelspec": {
   "display_name": "Julia 1.9.0",
   "language": "julia",
   "name": "julia-1.9"
  },
  "language_info": {
   "file_extension": ".jl",
   "mimetype": "application/julia",
   "name": "julia",
   "version": "1.9.0"
  }
 },
 "nbformat": 4,
 "nbformat_minor": 4
}
