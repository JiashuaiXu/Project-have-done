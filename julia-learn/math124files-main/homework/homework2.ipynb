{
 "cells": [
  {
   "cell_type": "markdown",
   "metadata": {},
   "source": [
    "# Math 124 - Programming for Mathematical Applications\n",
    "UC Berkeley, Spring 2024\n",
    "\n",
    "## Homework 2\n",
    "Due Wednesday, January 31"
   ]
  },
  {
   "cell_type": "markdown",
   "metadata": {},
   "source": [
    "### Problem 1\n",
    "Consider the 4-term recurrence relation\n",
    "$$ay_{n+1} = by_n + cy_{n-1} + dy_{n-2}$$\n",
    "with $a=1$, $b=2$, $c=-5/4$, and $d=1/4$.\n",
    "\n",
    "### Problem 1 (a)\n",
    "\n",
    "Write a function `four_term(y0, y1, y2, n)` to return $y_n$ in this recurrence, taking in the initial values, $y_0$, $y_1$, and $y_2$. You can assume that $n \\ge 2$."
   ]
  },
  {
   "cell_type": "code",
   "execution_count": 10,
   "metadata": {},
   "outputs": [
    {
     "data": {
      "text/plain": [
       "four_term (generic function with 1 method)"
      ]
     },
     "execution_count": 10,
     "metadata": {},
     "output_type": "execute_result"
    }
   ],
   "source": [
    "function four_term(y0, y1, y2, n)\n",
    "    # 使用 Rational{BigInt} 初始化，确保精确表示有理数\n",
    "    y = [Rational{BigInt}(y0), Rational{BigInt}(y1), Rational{BigInt}(y2)]\n",
    "    b = 2//1  # 使用 Rational{BigInt} 有理数\n",
    "    c = -5//4  # 使用 Rational{BigInt} 有理数\n",
    "    d = 1//4  # 使用 Rational{BigInt} 有理数\n",
    "\n",
    "    # 使用递推关系计算 y[n]，对于 n >= 3\n",
    "    for i in 3:n\n",
    "        next_y = b * y[end] + c * y[end-1] + d * y[end-2]\n",
    "        push!(y, next_y)\n",
    "    end\n",
    "    \n",
    "    # 返回 y[n]\n",
    "    return y[end]\n",
    "end\n"
   ]
  },
  {
   "cell_type": "markdown",
   "metadata": {},
   "source": [
    "### Problem 1 (b)\n",
    "Print out the results from evaluating the function with $y_0=1$, $y_1=5$, $y_2=-2$ and $n = 5, 10, 100, 500, 10000$. "
   ]
  },
  {
   "cell_type": "code",
   "execution_count": 12,
   "metadata": {},
   "outputs": [
    {
     "name": "stdout",
     "output_type": "stream",
     "text": [
      "Rational{BigInt}\n",
      "Rational{BigInt}\n",
      "Rational{BigInt}\n",
      "Rational{BigInt}\n",
      "Rational{BigInt}\n"
     ]
    }
   ],
   "source": [
    "# # 初始值\n",
    "# y0, y1, y2 = 1, 5, -2\n",
    "# ns = [5, 10, 100, 500, 10000]\n",
    "# # 计算并打印每个 n 的结果\n",
    "# for n in ns\n",
    "#     result = four_term(y0, y1, y2, n)\n",
    "#     println(typeof(result))  # 输出 Rational{Int}\n",
    "#     println(\"y_$(n) = $result\")\n",
    "# end\n",
    "\n"
   ]
  },
  {
   "cell_type": "code",
   "execution_count": 13,
   "metadata": {},
   "outputs": [
    {
     "name": "stdout",
     "output_type": "stream",
     "text": [
      "y_5 = -20.5000\n",
      "y_10 = -26.6211\n",
      "y_100 = -27.0000\n",
      "y_500 = -27.0000\n",
      "y_10000 = -27.0000\n"
     ]
    }
   ],
   "source": [
    "\n",
    "using Printf  # 导入 Printf 模块以使用 @sprintf\n",
    "\n",
    "# 初始值\n",
    "y0, y1, y2 = 1, 5, -2\n",
    "ns = [5, 10, 100, 500, 10000]\n",
    "\n",
    "# 计算并打印每个 n 的结果\n",
    "for n in ns\n",
    "    result = four_term(y0, y1, y2, n)\n",
    "    float_result = float(result)  # 将 Rational{BigInt} 结果转换为浮点数\n",
    "    println(\"y_$(n) = \", @sprintf(\"%.4f\", float_result))\n",
    "end"
   ]
  },
  {
   "cell_type": "markdown",
   "metadata": {},
   "source": [
    "### Problem 1(c) \n",
    "Print out the results from evaluating the function with $y_0=-2$, $y_1=1$, $y_2=5$, and $n = 5, 10, 100, 500, 10000$. "
   ]
  },
  {
   "cell_type": "code",
   "execution_count": 16,
   "metadata": {},
   "outputs": [
    {
     "name": "stdout",
     "output_type": "stream",
     "text": [
      "y_5 = 11.9375\n",
      "y_10 = 13.8867\n",
      "y_100 = 14.0000\n",
      "y_500 = 14.0000\n",
      "y_10000 = 14.0000\n"
     ]
    }
   ],
   "source": [
    "# # 初始值\n",
    "# y0, y1, y2 = 1, 5, -2\n",
    "# ns = [5, 10, 100, 500, 10000]\n",
    "# # 计算并打印每个 n 的结果\n",
    "# for n in ns\n",
    "#     result = four_term(y0, y1, y2, n)\n",
    "#     # println(typeof(result))  # 输出 Rational{BigIntInt}\n",
    "#     println(\"y_$(n) = $result\")\n",
    "# end\n",
    "\n",
    "\n",
    "\n",
    "using Printf  # 导入 Printf 模块以使用 @sprintf\n",
    "\n",
    "# 初始值\n",
    "y0, y1, y2 = -2, 1, 5\n",
    "ns = [5, 10, 100, 500, 10000]\n",
    "\n",
    "# 计算并打印每个 n 的结果\n",
    "for n in ns\n",
    "    result = four_term(y0, y1, y2, n)\n",
    "    float_result = float(result)  # 将 Rational{BigInt} 结果转换为浮点数\n",
    "    println(\"y_$(n) = \", @sprintf(\"%.4f\", float_result))\n",
    "end"
   ]
  },
  {
   "cell_type": "markdown",
   "metadata": {},
   "source": [
    "### Problem 2\n",
    "(Adapted from **Think**, P7-4)\n",
    "\n",
    "The following sequence converges to $\\pi$:\n",
    "$$a_n = \\sum_{k=0}^n \\left(\\cfrac{6}{\\sqrt{3}}\\right)\\cfrac{(-1)^k}{3^k(2k+1)}$$\n",
    "\n",
    "Moreover, the mathematician Srinivasa Ramanujan found an infinite series that can be used to generate a numerical approximation of $\\frac{1}{\\pi}$:\n",
    "$$\\cfrac{1}{\\pi} = \\sum_{k=0}^\\infty \\left( \\cfrac{2 \\sqrt{2}}{9801} \\right)\\cfrac{(4k)!(1103+26390k)}{(k!)^4 396^{4k}}$$\n",
    "\n",
    "### Problem 2 (a)\n",
    "Write a function `pi_a()` that uses this first formula to compute and return an estimate of $\\pi$ in a way that avoids overflow issues. It should use a while loop to compute terms $a_n$ until the **difference in two consecutive terms is smaller than $10^{-19}$**."
   ]
  },
  {
   "cell_type": "code",
   "execution_count": 4,
   "metadata": {},
   "outputs": [
    {
     "name": "stdout",
     "output_type": "stream",
     "text": [
      "The computed value of π with high precision is: 3.141592653589793459199\n"
     ]
    }
   ],
   "source": [
    "#这个公式是一个交错级数，每一项都会逐渐让求和结果更接近π。\n",
    "#我们可以使用一个循环，直到连续两项之间的绝对差值小于 10−1910−19。\n",
    "\n",
    "# function pi_a()\n",
    "#     sum = 0.0\n",
    "#     k = 0\n",
    "#     factor = 6 / sqrt(3)\n",
    "#     term = factor  # 初始项\n",
    "#     while true\n",
    "#         old_sum = sum\n",
    "#         sum += term\n",
    "#         # 计算下一项\n",
    "#         k += 1\n",
    "#         term = factor * ((-1)^k) / (3^k * (2*k + 1))\n",
    "#         if abs(sum - old_sum) < 1e-19\n",
    "#             break\n",
    "#         end\n",
    "#     end\n",
    "#     return sum\n",
    "# end\n",
    "\n",
    "# 上面的Julia 中默认使用的是双精度浮点数 (Float64)。这种数据类型通常有大约15到17位的有效数字精度。\n",
    "#下面的可以使用\n",
    "# function pi_a_bigfloat()\n",
    "#     setprecision(BigFloat, 128)  # 设置 BigFloat 的精度为 128 位\n",
    "#     sum = BigFloat(0.0)\n",
    "#     k = 0\n",
    "#     factor = BigFloat(6 / sqrt(3))\n",
    "#     term = factor  # 初始项\n",
    "#     while true\n",
    "#         old_sum = sum\n",
    "#         sum += term\n",
    "#         k += 1\n",
    "#         term = factor * ((-1)^k) / (3^k * (2*k + 1))\n",
    "#         if abs(sum - old_sum) < BigFloat(\"1e-19\")\n",
    "#             break\n",
    "#         end\n",
    "#     end\n",
    "#     return sum\n",
    "# end\n",
    "\n",
    "# pi_a_bigfloat()\n",
    "\n",
    "\n",
    "\n",
    "\n",
    "\n",
    "using Printf\n",
    "\n",
    "# 设置 BigFloat 的全局精度\n",
    "setprecision(BigFloat, 128)  # 设置 BigFloat 的精度为 128 位\n",
    "\n",
    "function compute_high_precision()\n",
    "    sum = BigFloat(0.0)\n",
    "    k = 0\n",
    "    factor = BigFloat(6 / sqrt(3))\n",
    "    term = factor  # 初始项\n",
    "    while true\n",
    "        old_sum = sum\n",
    "        sum += term\n",
    "        # 计算下一项\n",
    "        k += 1\n",
    "        term = factor * BigFloat((-1)^k) / (BigFloat(3)^k * BigFloat(2*k + 1))\n",
    "        # 检查连续两项的差值是否足够小\n",
    "        if abs(sum - old_sum) < BigFloat(\"1e-19\")\n",
    "            break\n",
    "        end\n",
    "    end\n",
    "    return sum\n",
    "end\n",
    "\n",
    "result = compute_high_precision()\n",
    "@printf \"The computed value of π with high precision is: %.21f\\n\" result\n"
   ]
  },
  {
   "cell_type": "code",
   "execution_count": 5,
   "metadata": {},
   "outputs": [
    {
     "name": "stdout",
     "output_type": "stream",
     "text": [
      "Starting computation...\n",
      "\n",
      "Early termination after 39 iterations.\n",
      "\n",
      "The computed value of π with high precision is: 3.141592653589793459199\n"
     ]
    }
   ],
   "source": [
    "using Printf\n",
    "\n",
    "function compute_high_precision_with_progress()\n",
    "    setprecision(BigFloat, 128)\n",
    "    sum = BigFloat(0.0)\n",
    "    k = 0\n",
    "    total_steps = 100000  # 假设我们期望的最大迭代次数\n",
    "    factor = BigFloat(6 / sqrt(3))\n",
    "    term = factor\n",
    "\n",
    "    println(\"Starting computation...\")\n",
    "    for i = 1:total_steps\n",
    "        old_sum = sum\n",
    "        sum += term\n",
    "        k += 1\n",
    "        term = factor * BigFloat((-1)^k) / (BigFloat(3)^k * BigFloat(2*k + 1))\n",
    "        \n",
    "        if abs(sum - old_sum) < BigFloat(\"1e-19\")\n",
    "            println(\"\\nEarly termination after $k iterations.\")\n",
    "            break\n",
    "        end\n",
    "\n",
    "        # 更新进度条每1000次迭代一次\n",
    "        if i % 1000 == 0\n",
    "            percent = (i / total_steps) * 100\n",
    "            progress = fill('=', Int(percent / 2))  # 进度条长度为50\n",
    "            remain = fill(' ', 50 - Int(percent / 2))\n",
    "            print(\"\\rProgress: [\", join(progress), join(remain), \"] \", Int(percent), \"%\")\n",
    "        end\n",
    "    end\n",
    "\n",
    "    @printf \"\\nThe computed value of π with high precision is: %.21f\\n\" sum\n",
    "end\n",
    "\n",
    "compute_high_precision_with_progress()\n"
   ]
  },
  {
   "cell_type": "markdown",
   "metadata": {},
   "source": [
    "### Problem 2 (b)\n",
    "Write a function `pi_ramanu()` that uses Ramanujan's formula to compute and return an estimate of $\\pi$ in a way that avoids overflow issues. It should use a while loop to compute summands until **the last summand is smaller than $10^{-15}$**."
   ]
  },
  {
   "cell_type": "markdown",
   "metadata": {},
   "source": [
    "定义了一个 iter_factorial 函数来迭代计算阶乘，它比递归函数在大数计算时更稳定。随后，我们修改了 pi_ramanujan 函数以使用这个自定义的阶乘函数来计算 π 的倒数。"
   ]
  },
  {
   "cell_type": "code",
   "execution_count": null,
   "metadata": {},
   "outputs": [
    {
     "data": {
      "text/plain": [
       "120"
      ]
     },
     "execution_count": 6,
     "metadata": {},
     "output_type": "execute_result"
    }
   ],
   "source": [
    "# 迭代计算阶乘\n",
    "function iter_factorial(n)\n",
    "    if n == 0\n",
    "        return 1\n",
    "    end\n",
    "    result = 1\n",
    "    for i in 1:n\n",
    "        result *= i\n",
    "    end\n",
    "    return result\n",
    "end\n",
    "\n",
    "# 使用自定义阶乘函数的拉马努金公式\n",
    "function pi_ramanujan_no_pkg()\n",
    "    sum = 0.0\n",
    "    k = 0\n",
    "    constant = 2 * sqrt(2) / 9801\n",
    "    term = constant  # 初始项，避免在循环内重复计算\n",
    "\n",
    "    while true\n",
    "        numerator = iter_factorial(4*k) * (1103 + 26390*k)\n",
    "        denominator = iter_factorial(k)^4 * 396^(4*k)\n",
    "        term = constant * numerator / denominator\n",
    "        sum += term\n",
    "        if abs(term) < 1e-15\n",
    "            break\n",
    "        end\n",
    "        k += 1\n",
    "    end\n",
    "    return 1 / sum\n",
    "end\n",
    "\n",
    "pi_ramanujan_no_pkg()"
   ]
  },
  {
   "cell_type": "code",
   "execution_count": 8,
   "metadata": {},
   "outputs": [],
   "source": [
    "# function pi_ramanujan_no_pkg_withOutput()\n",
    "#     sum = 0.0\n",
    "#     k = 0\n",
    "#     constant = 2 * sqrt(2) / 9801\n",
    "#     term = constant  # 初始项，避免在循环内重复计算\n",
    "\n",
    "#     println(\"Starting computation...\")\n",
    "#     while true\n",
    "#         numerator = iter_factorial(4*k) * (1103 + 26390*k)\n",
    "#         denominator = iter_factorial(k)^4 * 396^(4*k)\n",
    "#         term = constant * numerator / denominator\n",
    "#         sum += term\n",
    "\n",
    "#         # 打印当前迭代的关键信息\n",
    "#         println(\"Iteration $k: term = $term, cumulative sum = $sum\")\n",
    "\n",
    "#         if abs(term) < 1e-15\n",
    "#             println(\"Converged at iteration $k with a term smaller than 1e-15.\")\n",
    "#             break\n",
    "#         end\n",
    "#         k += 1\n",
    "#     end\n",
    "#     return 1 / sum\n",
    "# end\n",
    "# pi_ramanujan_no_pkg_withOutput()\n",
    "#这个代码错误的地方是，出现了Inf 与NaN，主要是数值溢出的原因的！\n"
   ]
  },
  {
   "cell_type": "code",
   "execution_count": 10,
   "metadata": {},
   "outputs": [
    {
     "name": "stdout",
     "output_type": "stream",
     "text": [
      "Starting computation...\n",
      "Iteration 0: term = 0.318309878440470169001612343873119925774517469108104705810546875, cumulative sum = 0.318309878440470169001612343873119925774517469108104705810546875\n",
      "Iteration 1: term = 7.743320483521513094398190060151203813294415967239935086547220457887910652470915e-09, cumulative sum = 0.318309886183790652523125438271309985925721282402520673050481961547220457887912\n",
      "Iteration 2: term = 6.4798570517174359563136728625389029941259124989140406192210469858683758438686e-17, cumulative sum = 0.3183098861837907173216959554456695490624499077915506143096069506876266500983807\n",
      "Converged at iteration 2 with a term smaller than 1e-15.\n"
     ]
    },
    {
     "data": {
      "text/plain": [
       "3.141592653589792786593381864215519871483022148624295014066782547419298914902498"
      ]
     },
     "execution_count": 10,
     "metadata": {},
     "output_type": "execute_result"
    }
   ],
   "source": [
    "using Printf\n",
    "\n",
    "# 自定义阶乘函数，使用 BigFloat 防止溢出\n",
    "function iter_factorial(n)\n",
    "    result = BigFloat(1)\n",
    "    for i in 1:n\n",
    "        result *= i\n",
    "    end\n",
    "    return result\n",
    "end\n",
    "\n",
    "function pi_ramanujan_no_pkg_fianal()\n",
    "    setprecision(BigFloat, 256)  # 提升精度以处理大数\n",
    "    sum = BigFloat(0.0)\n",
    "    k = 0\n",
    "    constant = BigFloat(2 * sqrt(2) / 9801)\n",
    "\n",
    "    println(\"Starting computation...\")\n",
    "    while true\n",
    "        numerator = iter_factorial(4*k) * BigFloat(1103 + 26390*k)\n",
    "        denominator = iter_factorial(k)^4 * BigFloat(396)^(4*k)\n",
    "        term = constant * numerator / denominator\n",
    "        sum += term\n",
    "\n",
    "        println(\"Iteration $k: term = $term, cumulative sum = $sum\")\n",
    "\n",
    "        if abs(term) < BigFloat(\"1e-15\")\n",
    "            println(\"Converged at iteration $k with a term smaller than 1e-15.\")\n",
    "            break\n",
    "        end\n",
    "        k += 1\n",
    "    end\n",
    "    return 1 / sum\n",
    "end\n",
    "pi_ramanujan_no_pkg_fianal()"
   ]
  },
  {
   "cell_type": "markdown",
   "metadata": {},
   "source": [
    "### Problem 3\n",
    "(Adapted from Project Euler, Problem 3)\n",
    "\n",
    "We define the prime factors of a number as those prime numbers that exactly divide the original number. For instance, the prime factors of $13195$ are $5$, $7$, $13$, and $29$.\n",
    "\n",
    "What is the largest prime factor of the number $600855143$?\n",
    "\n",
    "Hint: One way to answer this question would be to create a function `is_prime(test_num)` that determines if a given number is prime, and then use this function to test candidate prime factors of our large number. Over what range of numbers should we loop in order to solve this problem, while testing only a small amount of candidates?"
   ]
  },
  {
   "cell_type": "code",
   "execution_count": 14,
   "metadata": {},
   "outputs": [
    {
     "data": {
      "text/plain": [
       "false"
      ]
     },
     "execution_count": 14,
     "metadata": {},
     "output_type": "execute_result"
    }
   ],
   "source": [
    "# ，这个 is_prime 函数通过高效的方式（只考虑形式为6k±1的因数）来判断一个数是否为质数，\n",
    "#排除2和3的倍数:\n",
    "#从5开始检查是否 n 可以被 i 或 i + 2 整除，这里使用的是6k±1优化。\n",
    "#这种方法只检查形式为6k±1的数字，因为所有质数（除了2和3）都是这种形式。\n",
    "# 这样可以减少需要检查的数的数量。\n",
    "function is_prime(n::Int)\n",
    "    if n <= 1\n",
    "        return false\n",
    "    elseif n <= 3\n",
    "        return true\n",
    "    elseif n % 2 == 0 || n % 3 == 0\n",
    "        return false\n",
    "    end\n",
    "    i = 5\n",
    "    while i * i <= n\n",
    "        if n % i == 0 || n % (i + 2) == 0\n",
    "            return false\n",
    "        end\n",
    "        i += 6\n",
    "    end\n",
    "    return true\n",
    "end\n",
    "\n",
    "function largest_prime_factor(num::Int)\n",
    "    max_prime = -1\n",
    "    # Check for smallest prime factor\n",
    "    while num % 2 == 0\n",
    "        max_prime = 2\n",
    "        num = num ÷ 2\n",
    "    end\n",
    "    # Check for other potential prime factors from 3 to sqrt(num)\n",
    "    for i in 3:2:sqrt(num)\n",
    "        while num % i == 0\n",
    "            if is_prime(i)\n",
    "                max_prime = i\n",
    "            end\n",
    "            num = num ÷ i\n",
    "        end\n",
    "    end\n",
    "    # If remaining num is a prime number and greater than 2\n",
    "    if num > 2 && is_prime(num)\n",
    "        max_prime = num\n",
    "    end\n",
    "    return max_prime\n",
    "end\n",
    "\n",
    "num = 600855143\n",
    "println(\"The largest prime factor of \", num, \" is \", largest_prime_factor(num))\n"
   ]
  },
  {
   "cell_type": "code",
   "execution_count": 17,
   "metadata": {},
   "outputs": [
    {
     "ename": "LoadError",
     "evalue": "MethodError: no method matching is_prime(::Float64)\n\n\u001b[0mClosest candidates are:\n\u001b[0m  is_prime(\u001b[91m::Int64\u001b[39m)\n\u001b[0m\u001b[90m   @\u001b[39m \u001b[35mMain\u001b[39m \u001b[90m\u001b[4mIn[17]:2\u001b[24m\u001b[39m\n",
     "output_type": "error",
     "traceback": [
      "MethodError: no method matching is_prime(::Float64)\n\n\u001b[0mClosest candidates are:\n\u001b[0m  is_prime(\u001b[91m::Int64\u001b[39m)\n\u001b[0m\u001b[90m   @\u001b[39m \u001b[35mMain\u001b[39m \u001b[90m\u001b[4mIn[17]:2\u001b[24m\u001b[39m\n",
      "",
      "Stacktrace:",
      " [1] largest_prime_factor(num::Int64)",
      "   @ Main .\\In[17]:38",
      " [2] top-level scope",
      "   @ In[17]:56"
     ]
    }
   ],
   "source": [
    "# 判断一个数是否为质数的函数\n",
    "function is_prime(n::Int)\n",
    "    if n <= 1\n",
    "        # 小于等于1的数不是质数\n",
    "        return false\n",
    "    elseif n <= 3\n",
    "        # 2和3是质数\n",
    "        return true\n",
    "    elseif n % 2 == 0 || n % 3 == 0\n",
    "        # 可以被2或3整除的数不是质数\n",
    "        return false\n",
    "    end\n",
    "    i = 5\n",
    "    while i * i <= n\n",
    "        # 只检查到sqrt(n)，超过此范围则无需检查\n",
    "        if n % i == 0 || n % (i + 2) == 0\n",
    "            # 如果n可以被i或i+2整除，说明n不是质数\n",
    "            return false\n",
    "        end\n",
    "        i += 6\n",
    "        # 按照6k±1的形式递增，因为所有质数都符合这个形式（除了2和3）\n",
    "    end\n",
    "    return true\n",
    "end\n",
    "\n",
    "# 找到最大质因数的函数\n",
    "function largest_prime_factor(num::Int)\n",
    "    max_prime = -1\n",
    "    # 首先检查并除去所有的2因子，因为2是最小的质数\n",
    "    while num % 2 == 0\n",
    "        max_prime = 2\n",
    "        num = num ÷ 2\n",
    "        println(\"找到因数2，继续除以2后剩余：$num \")\n",
    "    end\n",
    "    # 检查从3到sqrt(num)的奇数因子\n",
    "    for i in 3:2:sqrt(num)\n",
    "        while num % i == 0\n",
    "            if is_prime(i)\n",
    "                max_prime = i\n",
    "                println(\"找到质因数 $i \")\n",
    "            end\n",
    "            num = num ÷ i\n",
    "            println(\"除以 $i 后剩余：$num \")\n",
    "        end\n",
    "    end\n",
    "    # 循环结束后，如果num大于2并且是质数，它是最大的质因数\n",
    "    if num > 2 && is_prime(num)\n",
    "        max_prime = num\n",
    "        println(\"最大的质因数是：$num \")\n",
    "    end\n",
    "    return max_prime\n",
    "end\n",
    "\n",
    "# 示例调用\n",
    "num = 600855143\n",
    "println(\"600855143的最大质因数是：\", largest_prime_factor(num))\n"
   ]
  },
  {
   "cell_type": "code",
   "execution_count": 19,
   "metadata": {},
   "outputs": [
    {
     "name": "stdout",
     "output_type": "stream",
     "text": [
      "找到质因数7 \n",
      "除以  7 后剩余：85836449 \n",
      "最大的质因数是：85836449 \n",
      "600855143的最大质因数是：85836449\n"
     ]
    }
   ],
   "source": [
    "# 当你使用sqrt(num)时，即使num是一个整数，sqrt函数会返回一个Float64类型的结果。\n",
    "# 为了解决这个问题，你需要确保传递给is_prime函数的值是整数。\n",
    "# 我们可以使用floor函数将sqrt(num)的结果向下取整到最近的整数，\n",
    "# 并且保证循环变量i保持整数类型。\n",
    "\n",
    "function largest_prime_factor(num::Int)\n",
    "    max_prime = -1\n",
    "    # 首先检查并除去所有的2因子，因为2是最小的质数\n",
    "    while num % 2 == 0\n",
    "        max_prime = 2\n",
    "        num = num ÷ 2\n",
    "        println(\"找到因数2，继续除以2后剩余：$num \")\n",
    "    end\n",
    "    # 检查从3到sqrt(num)的奇数因子，确保i是整数\n",
    "    limit = floor(Int, sqrt(num))  # 向下取整，确保是整数\n",
    "    for i in 3:2:limit\n",
    "        while num % i == 0\n",
    "            if is_prime(i)\n",
    "                max_prime = i\n",
    "                println(\"找到质因数$i \")\n",
    "            end\n",
    "            num = num ÷ i\n",
    "            println(\"除以  $i 后剩余：$num \")\n",
    "        end\n",
    "    end\n",
    "    # 循环结束后，如果num大于2并且是质数，它是最大的质因数\n",
    "    if num > 2 && is_prime(num)\n",
    "        max_prime = num\n",
    "        println(\"最大的质因数是：$num \")\n",
    "    end\n",
    "    return max_prime\n",
    "end\n",
    "\n",
    "# 示例调用\n",
    "num = 600855143\n",
    "println(\"600855143的最大质因数是：\", largest_prime_factor(num))\n"
   ]
  },
  {
   "cell_type": "markdown",
   "metadata": {},
   "source": [
    "### Problem 4\n",
    "We wish to solve the equation $x = \\cos{x}$ for $x \\in \\mathbb{R}$. The fixed point iteration for this equation is defined to be:\n",
    "\n",
    "$$x_{n+1} = \\cos{(x_n)}$$\n",
    "\n",
    "where $x_n$ are successively better approximations to the true solution $x_*$. We start this iteration with the initial guess $x_0 = 1$.\n",
    "\n",
    "### Problem 4 (a)\n",
    "Write a function `fixed_point(tol)` that computes an approximate solution using this fixed point iteration such that the error $|x_n - x_{n-1}|$ is within a specified tolerance. Test it with `tol=1e-3, 1e-6, 1e-12`. How many iterations does it take each test to converge?"
   ]
  },
  {
   "cell_type": "code",
   "execution_count": 22,
   "metadata": {},
   "outputs": [
    {
     "name": "stdout",
     "output_type": "stream",
     "text": [
      "近似解：0.738760319874\n",
      "迭代次数：17\n",
      "近似解：0.739085526362\n",
      "迭代次数：34\n",
      "近似解：0.739085133215\n",
      "迭代次数：69\n"
     ]
    },
    {
     "data": {
      "text/plain": [
       "0.7390851332147725"
      ]
     },
     "execution_count": 22,
     "metadata": {},
     "output_type": "execute_result"
    }
   ],
   "source": [
    "using Printf\n",
    "\n",
    "function fixed_point(tol)\n",
    "    x_prev = 1.0\n",
    "    x = cos(x_prev)\n",
    "    iterations = 1\n",
    "    while abs(x - x_prev) > tol\n",
    "        x_prev = x\n",
    "        x = cos(x_prev)\n",
    "        iterations += 1\n",
    "    end\n",
    "    @printf(\"近似解：%.12f\\n\", x)\n",
    "    @printf(\"迭代次数：%d\\n\", iterations)\n",
    "    return x\n",
    "end\n",
    "fixed_point(1e-3)\n",
    "fixed_point(1e-6)\n",
    "fixed_point(1e-12)"
   ]
  },
  {
   "cell_type": "markdown",
   "metadata": {},
   "source": [
    "### Problem 4 (b)\n",
    "Derive Newton's method for solving the equation $x = \\cos{x}$."
   ]
  },
  {
   "cell_type": "markdown",
   "metadata": {},
   "source": []
  },
  {
   "cell_type": "markdown",
   "metadata": {},
   "source": [
    "### 解答问题 4(b)：推导牛顿法\n",
    "\n",
    "为了解决方程 $x = \\cos(x)$，我们应用牛顿法，需要重新排列这个方程使之形式适合应用牛顿法。首先，我们定义一个函数 $f(x)$，使得 $f(x) = 0$ 的解即为原方程的解。设定：\n",
    "$$ f(x) = x - \\cos(x) $$\n",
    "\n",
    "牛顿法的迭代公式为：\n",
    "$$ x_{n+1} = x_n - \\frac{f(x_n)}{f'(x_n)} $$\n",
    "其中 $f'(x)$ 是 $f(x)$ 的导数。对于给定的 $f(x) = x - \\cos(x)$，我们可以计算出：\n",
    "$$ f'(x) = 1 + \\sin(x) $$\n",
    "\n",
    "将这些放入牛顿法的公式中，我们得到：\n",
    "$$ x_{n+1} = x_n - \\frac{x_n - \\cos(x_n)}{1 + \\sin(x_n)} $$\n",
    "\n",
    "这样我们就得到了应用牛顿法求解 $x = \\cos(x)$ 方程的完整迭代式。\n"
   ]
  },
  {
   "cell_type": "markdown",
   "metadata": {},
   "source": [
    "### Problem 4 (c)\n",
    "Write a function `newton_method(tol)` to compute an approximate solution using Newton's method, such that the error is within a specified tolerance. Again use the initial guess $x_0 = 1$. Test it with `tol=1e-3, 1e-6, 1e-12`. How many iterations does it take each test to converge?"
   ]
  },
  {
   "cell_type": "code",
   "execution_count": 24,
   "metadata": {},
   "outputs": [
    {
     "name": "stdout",
     "output_type": "stream",
     "text": [
      "使用牛顿方法的近似解：0.739085133385\n",
      "迭代次数：3\n",
      "使用牛顿方法的近似解：0.739085133215\n",
      "迭代次数：4\n",
      "使用牛顿方法的近似解：0.739085133215\n",
      "迭代次数：5\n"
     ]
    },
    {
     "data": {
      "text/plain": [
       "0.7390851332151607"
      ]
     },
     "execution_count": 24,
     "metadata": {},
     "output_type": "execute_result"
    }
   ],
   "source": [
    "function newton_method(tol)\n",
    "    x = 1.0\n",
    "    iterations = 0\n",
    "    while true\n",
    "        f = x - cos(x)\n",
    "        df = 1 + sin(x)\n",
    "        delta_x = f / df\n",
    "        x -= delta_x\n",
    "        iterations += 1\n",
    "        if abs(delta_x) < tol\n",
    "            break\n",
    "        end\n",
    "    end\n",
    "    @printf(\"使用牛顿方法的近似解：%.12f\\n\", x)\n",
    "    @printf(\"迭代次数：%d\\n\", iterations)\n",
    "    return x\n",
    "end\n",
    "newton_method(1e-3)\n",
    "newton_method(1e-6)\n",
    "newton_method(1e-12)"
   ]
  },
  {
   "cell_type": "code",
   "execution_count": null,
   "metadata": {},
   "outputs": [],
   "source": []
  }
 ],
 "metadata": {
  "kernelspec": {
   "display_name": "Julia 1.9.0",
   "language": "julia",
   "name": "julia-1.9"
  },
  "language_info": {
   "file_extension": ".jl",
   "mimetype": "application/julia",
   "name": "julia",
   "version": "1.9.0"
  }
 },
 "nbformat": 4,
 "nbformat_minor": 4
}
