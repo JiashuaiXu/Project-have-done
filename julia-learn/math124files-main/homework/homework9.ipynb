{
 "cells": [
  {
   "cell_type": "markdown",
   "metadata": {},
   "source": [
    "# Math 124 - Programming for Mathematical Applications\n",
    "UC Berkeley, Spring 2024\n",
    "\n",
    "## Homework 9\n",
    "Due Wednesday, April 3"
   ]
  },
  {
   "cell_type": "code",
   "execution_count": null,
   "metadata": {},
   "outputs": [],
   "source": [
    "using PyCall, PyPlot   # Packages needed"
   ]
  },
  {
   "cell_type": "markdown",
   "metadata": {},
   "source": [
    "### Problem 1 - Data Structures and Runge 5 solver\n",
    "\n",
    "First we will create some data structures for representing IVP problems and solutions.\n",
    "\n",
    "#### Problem 1(a)\n",
    "\n",
    "Define a `struct` named `IVPproblem` with the following variables and types:\n",
    "\n",
    "* `f`, a `Function`\n",
    "* `T`, a `Number`\n",
    "* `y0`, a `Vector`\n",
    "\n",
    "Define a `struct` named `IVPsolution` with the following variables and types:\n",
    "\n",
    "* `t`, a `Vector`\n",
    "* `y`, a `Matrix`"
   ]
  },
  {
   "cell_type": "code",
   "execution_count": 1,
   "metadata": {},
   "outputs": [],
   "source": [
    "# 定义一个表示初始值问题的结构体\n",
    "struct IVPproblem\n",
    "    f::Function   # 微分方程函数\n",
    "    T::Number     # 终止时间\n",
    "    y0::Vector    # 初始条件\n",
    "end\n",
    "\n",
    "# 定义一个用于存储解的结构体\n",
    "struct IVPsolution\n",
    "    t::Vector     # 时间向量\n",
    "    y::Matrix     # 解矩阵，每一列代表一个时间点的解\n",
    "end\n"
   ]
  },
  {
   "cell_type": "markdown",
   "metadata": {},
   "source": [
    "#### Problem 1(b)\n",
    "\n",
    "Next, implement the following 5th order accurate Runge-Kutta method as a Julia function named `runge5` with the same syntax as the `rk4` function in the lecture notebook.\n",
    "\n",
    "$$\n",
    "\\begin{align*}\n",
    "k_1 &= h f(t_n, y_n) \\\\\n",
    "k_2 &= h f(t_n + h/5, y_n + k_1/5) \\\\\n",
    "k_3 &= h f(t_n + 2h/5, y_n + 2k_2/5) \\\\\n",
    "k_4 &= h f(t_n + h, y_n + 9k_1/4 - 5k_2 + 15k_3/4) \\\\\n",
    "k_5 &= h f(t_n + 3h/5, y_n - 63k_1/100 + 9k_2/5 - 13k_3/20 + 2k_4/25) \\\\\n",
    "k_6 &= h f(t_n + 4h/5, y_n - 6k_1/25 + 4k_2/5 + 2k_3/15 + 8k_4/75) \\\\\n",
    "y_{n+1} &= y_n + (17k_1 + 100k_3 + 2k_4 - 50k_5 + 75k_6) / 144\n",
    "\\end{align*}\n",
    "$$"
   ]
  },
  {
   "cell_type": "code",
   "execution_count": 2,
   "metadata": {},
   "outputs": [
    {
     "data": {
      "text/plain": [
       "runge5 (generic function with 1 method)"
      ]
     },
     "execution_count": 2,
     "metadata": {},
     "output_type": "execute_result"
    }
   ],
   "source": [
    "# 实现 5 阶 Runge-Kutta 方法\n",
    "function runge5(f, t0, y0, h)\n",
    "    k1 = h * f(t0, y0)\n",
    "    k2 = h * f(t0 + h/5, y0 + k1/5)\n",
    "    k3 = h * f(t0 + 2h/5, y0 + 2k2/5)\n",
    "    k4 = h * f(t0 + h, y0 + 9k1/4 - 5k2 + 15k3/4)\n",
    "    k5 = h * f(t0 + 3h/5, y0 - 63k1/100 + 9k2/5 - 13k3/20 + 2k4/25)\n",
    "    k6 = h * f(t0 + 4h/5, y0 - 6k1/25 + 4k2/5 + 2k3/15 + 8k4/75)\n",
    "    return y0 + (17k1 + 100k3 + 2k4 - 50k5 + 75k6) / 144\n",
    "end\n"
   ]
  },
  {
   "cell_type": "markdown",
   "metadata": {},
   "source": [
    "#### Problem 1(c)\n",
    "\n",
    "Implement a function `runge5(ivp, N)` where `ivp` is of type `IVPproblem` and `N` is the\n",
    "number of timesteps. The function should return the solution as a type `IVPsolution`.\n",
    "Do not rewrite any code from before, but simply call the previous function."
   ]
  },
  {
   "cell_type": "code",
   "execution_count": 6,
   "metadata": {},
   "outputs": [
    {
     "data": {
      "text/plain": [
       "runge5 (generic function with 2 methods)"
      ]
     },
     "execution_count": 6,
     "metadata": {},
     "output_type": "execute_result"
    }
   ],
   "source": [
    "# 使用 runge5 方法求解给定的初始值问题\n",
    "function runge5(ivp::IVPproblem, N)\n",
    "    t = range(0, stop=ivp.T, length=N+1)\n",
    "    h = ivp.T / N\n",
    "    y = Matrix{Float64}(undef, length(ivp.y0), N+1)\n",
    "    y[:, 1] = ivp.y0\n",
    "\n",
    "    for i in 1:N\n",
    "        y[:, i+1] = runge5(ivp.f, t[i], y[:, i], h)\n",
    "    end\n",
    "\n",
    "    return IVPsolution(t, y)\n",
    "\n",
    "end"
   ]
  },
  {
   "cell_type": "markdown",
   "metadata": {},
   "source": [
    "#### Problem 1(d)\n",
    "\n",
    "* Create an `IVPproblem` for the differential equation $f(t,y)=-y$, $T=1$, $y(0)=1$.\n",
    "* Solve using `runge5` with $N=10$ to obtain an `IVPsolution`\n",
    "* Compute and show the differences between the computed solution and the true solution"
   ]
  },
  {
   "cell_type": "code",
   "execution_count": 7,
   "metadata": {},
   "outputs": [
    {
     "name": "stdout",
     "output_type": "stream",
     "text": [
      "时间点: [0.0, 0.1, 0.2, 0.3, 0.4, 0.5, 0.6, 0.7, 0.8, 0.9, 1.0]\n",
      "数值解: [1.0, 0.9048374166666666, 0.8187307506000069, 0.7408182173184712, 0.6703200419780507, 0.606530655123311, 0.5488116311109176, 0.4965852985310223, 0.44932895867745565, 0.4065696542032324, 0.36787943560431274]\n",
      "真实解: [1.0, 0.9048374180359595, 0.8187307530779818, 0.7408182206817179, 0.6703200460356393, 0.6065306597126334, 0.5488116360940265, 0.4965853037914095, 0.44932896411722156, 0.4065696597405991, 0.36787944117144233]\n",
      "误差: [0.0, 1.369292901287622e-9, 2.477974936354599e-9, 3.363246681153953e-9, 4.057588598449513e-9, 4.589322477599467e-9, 4.9831089254936956e-9, 5.260387236916131e-9, 5.439765915493666e-9, 5.537366731811488e-9, 5.5671295906556395e-9]\n"
     ]
    }
   ],
   "source": [
    "# 定义问题\n",
    "f(t, y) = -y  # 定义微分方程函数\n",
    "T = 1         # 终止时间\n",
    "y0 = [1]      # 初始条件\n",
    "\n",
    "# 创建 IVPproblem 实例\n",
    "ivp = IVPproblem(f, T, y0)\n",
    "\n",
    "# 使用 runge5 方法解决问题，并设置步数 N=10\n",
    "solution = runge5(ivp, 10)\n",
    "\n",
    "# 计算真实解\n",
    "true_solution(t) = exp(-t)\n",
    "true_values = true_solution.(solution.t)\n",
    "\n",
    "# 计算并显示数值解和真实解之间的差异\n",
    "errors = abs.(solution.y[1, :] .- true_values)\n",
    "println(\"时间点: \", solution.t)\n",
    "println(\"数值解: \", solution.y[1, :])\n",
    "println(\"真实解: \", true_values)\n",
    "println(\"误差: \", errors)\n"
   ]
  },
  {
   "attachments": {
    "double_pendulum.png": {
     "image/png": "[encoded data removed]"
    }
   },
   "cell_type": "markdown",
   "metadata": {},
   "source": [
    "### Problem 2 - Double pendulum\n",
    "\n",
    "Next we will study the evolution of a double pendulum.\n",
    "The state of the configuration at time $t$ is given by the angles\n",
    "$\\theta_1(t)$ and $\\theta_2(t)$, see figure below.\n",
    "\n",
    "<div>\n",
    "<img src=\"attachment:double_pendulum.png\" width=\"250\">\n",
    "</div>"
   ]
  },
  {
   "cell_type": "markdown",
   "metadata": {},
   "source": [
    "Assuming that the lengths of the bars are 1, the masses at the end of\n",
    "the bars are 1, and that the constant of gravity is 1, the equations\n",
    "of motion for the double pendulum can be written:\n",
    "\n",
    "$$\n",
    "\\begin{align}\n",
    "\\theta_1''&=\\frac{-3\\sin\\theta_1-\\sin(\\theta_1-2\\theta_2)\n",
    "-2\\sin(\\theta_1-\\theta_2)\\cdot(\\theta_2'^2+\\theta_1'^2\\cos(\\theta_1-\\theta_2))}\n",
    "{3-\\cos(2\\theta_1-2\\theta_2)} \\label{ode1} \\\\ \n",
    "\\theta_2''&=\\frac{2\\sin(\\theta_1-\\theta_2)(2\\theta_1'^2+2\\cos\\theta_1\n",
    "+\\theta_2'^2\\cos(\\theta_1-\\theta_2))}{3-\\cos(2\\theta_1-2\\theta_2)} \\label{ode2}\n",
    "\\end{align}\n",
    "$$\n",
    "\n",
    "#### Problem 2(a)\n",
    "\n",
    "Rewrite these as a system of 1st order equations by introducing the angular velocities $\\omega_1=\\theta_1'$ and\n",
    "$\\omega_2=\\theta_2'$. The current state of the pendulum can then be described by the vector\n",
    "$y=(\\theta_1,\\theta_2,\\omega_1,\\omega_2)$, and the 1st order\n",
    "system can be written as $y' = f(t,y)$. Write a Julia function `fpend(t,y)` which evalutes this function."
   ]
  },
  {
   "cell_type": "code",
   "execution_count": 8,
   "metadata": {},
   "outputs": [
    {
     "data": {
      "text/plain": [
       "double_pendulum (generic function with 1 method)"
      ]
     },
     "execution_count": 8,
     "metadata": {},
     "output_type": "execute_result"
    }
   ],
   "source": [
    "function double_pendulum(t, y)\n",
    "    θ1, θ2, ω1, ω2 = y\n",
    "    # 假设物理参数\n",
    "    m1 = m2 = g = l1 = l2 = 1.0\n",
    "    # 角加速度的计算\n",
    "    Δθ = θ2 - θ1\n",
    "    den1 = (m1 + m2) * l1 - m2 * l1 * cos(Δθ)^2\n",
    "    den2 = (l2/l1) * den1\n",
    "\n",
    "    ω1_dot = (m2 * g * sin(θ2) * cos(Δθ) - m2 * sin(Δθ) * (l2 * ω2^2 + l1 * ω1^2 * cos(Δθ)) - (m1 + m2) * g * sin(θ1)) / den1\n",
    "    ω2_dot = (-m2 * l2 * ω2^2 * sin(Δθ) * cos(Δθ) + (m1 + m2) * g * sin(θ1) * cos(Δθ) - (m1 + m2) * l1 * ω1^2 * sin(Δθ) - (m1 + m2) * g * sin(θ2)) / den2\n",
    "\n",
    "    return [ω1, ω2, ω1_dot, ω2_dot]\n",
    "end\n"
   ]
  },
  {
   "cell_type": "markdown",
   "metadata": {},
   "source": [
    "#### Problem 2(b)\n",
    "\n",
    "* Create an `IVPproblem` for the double pendulum problem, for the initial\n",
    "condition $\\theta_1 = \\theta_2 = 2$, $\\omega_1=0$, $\\omega_2=-1$ and the final time $T=100$.\n",
    "\n",
    "* Create an `IVPsolution` by solving using `runge5` and $N=500$.\n",
    "\n",
    "* Plot the solution vs time (all four components $\\theta_1(t)$, $\\theta_2(t)$, $\\omega_1(t)$, $\\omega_2(t)$)."
   ]
  },
  {
   "cell_type": "code",
   "execution_count": 9,
   "metadata": {},
   "outputs": [
    {
     "data": {
      "text/plain": [
       "IVPsolution([0.0, 0.2, 0.4, 0.6, 0.8, 1.0, 1.2, 1.4, 1.6, 1.8  …  98.2, 98.4, 98.6, 98.8, 99.0, 99.2, 99.4, 99.6, 99.8, 100.0], [0.7853981633974483 0.7713225958031804 … NaN NaN; 0.7853981633974483 0.7853302812835918 … NaN NaN; 0.0 -0.1400965031689603 … NaN NaN; 0.0 -0.0013589041068602687 … NaN NaN])"
      ]
     },
     "execution_count": 9,
     "metadata": {},
     "output_type": "execute_result"
    }
   ],
   "source": [
    "# 初始条件\n",
    "θ1_0 = π / 4\n",
    "θ2_0 = π / 4\n",
    "ω1_0 = 0\n",
    "ω2_0 = 0\n",
    "y0 = [θ1_0, θ2_0, ω1_0, ω2_0]\n",
    "\n",
    "# 创建 IVP 问题\n",
    "ivp = IVPproblem(double_pendulum, 100, y0)\n",
    "\n",
    "# 求解问题\n",
    "N = 500\n",
    "solution = runge5(ivp, N)\n"
   ]
  },
  {
   "cell_type": "code",
   "execution_count": 10,
   "metadata": {},
   "outputs": [
    {
     "name": "stderr",
     "output_type": "stream",
     "text": [
      "sys:1: UserWarning: FigureCanvasAgg is non-interactive, and thus cannot be shown\n"
     ]
    },
    {
     "data": {
      "image/png": "[encoded data removed]",
      "text/plain": [
       "Figure(PyObject <Figure size 1000x600 with 1 Axes>)"
      ]
     },
     "metadata": {},
     "output_type": "display_data"
    }
   ],
   "source": [
    "using PyPlot\n",
    "\n",
    "figure(figsize=(10, 6))\n",
    "plot(solution.t, solution.y[1, :], label=\"θ1(t)\")\n",
    "plot(solution.t, solution.y[2, :], label=\"θ2(t)\")\n",
    "plot(solution.t, solution.y[3, :], label=\"ω1(t)\")\n",
    "plot(solution.t, solution.y[4, :], label=\"ω2(t)\")\n",
    "xlabel(\"Time\")\n",
    "ylabel(\"Solution\")\n",
    "title(\"Double Pendulum Solutions\")\n",
    "legend()\n",
    "show()\n"
   ]
  },
  {
   "cell_type": "markdown",
   "metadata": {},
   "source": [
    "#### Animation (optional)\n",
    "\n",
    "If you want to, run the cell below to create a movie of the evolving double pendulum and show it inside the notebook. It looks pretty cool, and can be quite useful for debugging your code.\n",
    "\n",
    "To create the animation, call the function `anim` below with your `IVPsolution` as the only argument."
   ]
  },
  {
   "cell_type": "code",
   "execution_count": 12,
   "metadata": {},
   "outputs": [
    {
     "name": "stderr",
     "output_type": "stream",
     "text": [
      "\u001b[32m\u001b[1m   Resolving\u001b[22m\u001b[39m package versions...\n",
      "\u001b[32m\u001b[1m    Updating\u001b[22m\u001b[39m `C:\\Users\\Administrator\\.julia\\environments\\v1.9\\Project.toml`\n",
      "\u001b[32m⌃\u001b[39m \u001b[90m[438e738f] \u001b[39m\u001b[92m+ PyCall v1.95.1\u001b[39m\n",
      "\u001b[32m\u001b[1m  No Changes\u001b[22m\u001b[39m to `C:\\Users\\Administrator\\.julia\\environments\\v1.9\\Manifest.toml`\n"
     ]
    }
   ],
   "source": [
    "using Pkg\n",
    "Pkg.add(\"PyCall\")"
   ]
  },
  {
   "cell_type": "code",
   "execution_count": 11,
   "metadata": {},
   "outputs": [
    {
     "ename": "LoadError",
     "evalue": "LoadError: UndefVarError: `@pyimport` not defined\nin expression starting at In[11]:1",
     "output_type": "error",
     "traceback": [
      "LoadError: UndefVarError: `@pyimport` not defined\nin expression starting at In[11]:1",
      ""
     ]
    }
   ],
   "source": [
    "@pyimport IPython.display as d\n",
    "function anim(sol::IVPsolution)\n",
    "    animation = pyimport(\"matplotlib.animation\");\n",
    "    fig, ax = subplots(figsize=(5,5))\n",
    "    function update(frame)\n",
    "        θ1 = sol.y[frame+1,1]\n",
    "        θ2 = sol.y[frame+1,2]\n",
    "        p1 = [sin(θ1),-cos(θ1)]\n",
    "        p2 = p1 .+ [sin(θ2),-cos(θ2)]\n",
    "        ax.clear()\n",
    "        ax.plot([0,p1[1],p2[1]], [0,p1[2],p2[2]], linewidth=2)\n",
    "        ax.add_artist(matplotlib.patches.Circle(p1, 0.1))\n",
    "        ax.add_artist(matplotlib.patches.Circle(p2, 0.1))\n",
    "        ax.set_xlim([-2.5,2.5])\n",
    "        ax.set_ylim([-2.5,2.5])\n",
    "    end\n",
    "\n",
    "    ani = animation.FuncAnimation(fig, update, frames=length(sol.t), interval=50)\n",
    "    close(ani._fig)\n",
    "    d.HTML(ani.to_jshtml())\n",
    "end"
   ]
  },
  {
   "cell_type": "code",
   "execution_count": null,
   "metadata": {},
   "outputs": [],
   "source": []
  },
  {
   "cell_type": "code",
   "execution_count": null,
   "metadata": {},
   "outputs": [],
   "source": []
  }
 ],
 "metadata": {
  "kernelspec": {
   "display_name": "Julia 1.9.0",
   "language": "julia",
   "name": "julia-1.9"
  },
  "language_info": {
   "file_extension": ".jl",
   "mimetype": "application/julia",
   "name": "julia",
   "version": "1.9.0"
  }
 },
 "nbformat": 4,
 "nbformat_minor": 4
}
