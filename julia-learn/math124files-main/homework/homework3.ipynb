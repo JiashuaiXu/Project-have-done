{
 "cells": [
  {
   "cell_type": "markdown",
   "metadata": {},
   "source": [
    "# Math 124 - Programming for Mathematical Applications\n",
    "UC Berkeley, Spring 2024\n",
    "\n",
    "## Homework 3\n",
    "Due Wednesday, February 7"
   ]
  },
  {
   "cell_type": "markdown",
   "metadata": {},
   "source": [
    "### Problem 1\n",
    "\n",
    "Define the matrix `A = [1:4  5:8  ones(Int64,4)]`.\n",
    "\n",
    "Predict the result of performing the following operations in Julia (before checking your answers by running them). Note that the lines are meant to be run one-by-one in the same workspace, so when you e.g. change an array this will affect the subsequent statements.\n",
    "\n",
    "a. `x = A[3,:]`\n",
    "\n",
    "\n",
    "b. `B = A[2:2,1:3]`\n",
    "\n",
    "\n",
    "c. `A[1,1] = 9 + A[2,3]`\n",
    "\n",
    "\n",
    "d. `A[1:3,2:3] = [0 0; 0 0; 0 0]`\n",
    "\n",
    "\n",
    "e. `A[1:2,2:3] = [1 3; 1 3]`\n",
    "\n",
    "\n",
    "f. `y = A[1:4, 3]`\n",
    "\n",
    "\n",
    "g. `A = [A [2 1 7; 7 4 5; ones(Int64,2,3)]]`\n",
    "\n",
    "\n",
    "h. `C = A[[1,3],2]`\n",
    "\n",
    "\n",
    "i. `D = A[[1,2,4],[1,3,4]]`"
   ]
  },
  {
   "cell_type": "code",
   "execution_count": 12,
   "metadata": {},
   "outputs": [
    {
     "data": {
      "text/plain": [
       "4×3 Matrix{Int64}:\n",
       " 1  5  1\n",
       " 2  6  1\n",
       " 3  7  1\n",
       " 4  8  1"
      ]
     },
     "execution_count": 12,
     "metadata": {},
     "output_type": "execute_result"
    }
   ],
   "source": [
    "# 在 Julia 中，矩阵的列可以通过空格分隔来合并。\n",
    "A = [1:4  5:8  ones(Int64,4)]\n",
    "    # 第一列由 1:4 生成，包含数字 1, 2, 3, 4。\n",
    "    # 第二列由 5:8 生成，包含数字 5, 6, 7, 8。\n",
    "    # 第三列由 ones(Int64, 4) 生成，每个元素都是 1。"
   ]
  },
  {
   "cell_type": "code",
   "execution_count": 3,
   "metadata": {
    "tags": []
   },
   "outputs": [
    {
     "data": {
      "text/plain": [
       "3-element Vector{Int64}:\n",
       " 3\n",
       " 7\n",
       " 1"
      ]
     },
     "execution_count": 3,
     "metadata": {},
     "output_type": "execute_result"
    }
   ],
   "source": [
    "x = A[3,:]"
   ]
  },
  {
   "cell_type": "code",
   "execution_count": 7,
   "metadata": {},
   "outputs": [
    {
     "data": {
      "text/plain": [
       "1×3 Matrix{Int64}:\n",
       " 2  6  1"
      ]
     },
     "execution_count": 7,
     "metadata": {},
     "output_type": "execute_result"
    }
   ],
   "source": [
    "# 从矩阵 A 中提取特定的行和列\n",
    "B = A[2:2,1:3]\n",
    "# 2:2 表示选择第二行。虽然这看起来像是一个范围，但由于起始值和结束值相同，所以实际上只选择了一行。\n",
    "# 1:3 表示选择从第一列到第三列的所有列。"
   ]
  },
  {
   "cell_type": "code",
   "execution_count": 6,
   "metadata": {},
   "outputs": [
    {
     "data": {
      "text/plain": [
       "10"
      ]
     },
     "execution_count": 6,
     "metadata": {},
     "output_type": "execute_result"
    }
   ],
   "source": [
    "A[1,1] = 9 + A[2,3]"
   ]
  },
  {
   "cell_type": "code",
   "execution_count": 13,
   "metadata": {},
   "outputs": [
    {
     "data": {
      "text/plain": [
       "3×2 Matrix{Int64}:\n",
       " 5  1\n",
       " 6  1\n",
       " 7  1"
      ]
     },
     "execution_count": 13,
     "metadata": {},
     "output_type": "execute_result"
    }
   ],
   "source": [
    "A[1:3,2:3] \n",
    "# A[1:3,2:3] = [0 1; 0 0; 2 0]\n"
   ]
  },
  {
   "cell_type": "code",
   "execution_count": 14,
   "metadata": {},
   "outputs": [
    {
     "data": {
      "text/plain": [
       "2×2 Matrix{Int64}:\n",
       " 5  1\n",
       " 6  1"
      ]
     },
     "execution_count": 14,
     "metadata": {},
     "output_type": "execute_result"
    }
   ],
   "source": [
    "# A[1:2,2:3] = [1 3; 1 3]\n",
    "A[1:2,2:3]"
   ]
  },
  {
   "cell_type": "code",
   "execution_count": 18,
   "metadata": {},
   "outputs": [
    {
     "data": {
      "text/plain": [
       "4-element Vector{Int64}:\n",
       " 1\n",
       " 1\n",
       " 1\n",
       " 1"
      ]
     },
     "execution_count": 18,
     "metadata": {},
     "output_type": "execute_result"
    }
   ],
   "source": [
    "# 表达式 y = A[1:4, 3] 用于从矩阵 A 中提取特定的行和列\n",
    "y = A[1:4, 3]"
   ]
  },
  {
   "cell_type": "code",
   "execution_count": 21,
   "metadata": {},
   "outputs": [
    {
     "data": {
      "text/plain": [
       "2×3 Matrix{Int64}:\n",
       " 2  1  7\n",
       " 7  4  5"
      ]
     },
     "execution_count": 21,
     "metadata": {},
     "output_type": "execute_result"
    }
   ],
   "source": [
    "[2 1 7; 7 4 5]"
   ]
  },
  {
   "cell_type": "code",
   "execution_count": 20,
   "metadata": {},
   "outputs": [
    {
     "data": {
      "text/plain": [
       "2×3 Matrix{Int64}:\n",
       " 1  1  1\n",
       " 1  1  1"
      ]
     },
     "execution_count": 20,
     "metadata": {},
     "output_type": "execute_result"
    }
   ],
   "source": [
    "ones(Int64,2,3)"
   ]
  },
  {
   "cell_type": "code",
   "execution_count": 19,
   "metadata": {},
   "outputs": [
    {
     "data": {
      "text/plain": [
       "4×6 Matrix{Int64}:\n",
       " 1  5  1  2  1  7\n",
       " 2  6  1  7  4  5\n",
       " 3  7  1  1  1  1\n",
       " 4  8  1  1  1  1"
      ]
     },
     "execution_count": 19,
     "metadata": {},
     "output_type": "execute_result"
    }
   ],
   "source": [
    "# [A [新矩阵]]：这个表达式表示将 A 和新矩阵水平（列方向）拼接\n",
    "A = [A [2 1 7; 7 4 5; ones(Int64,2,3)]]\n",
    "# 在 Julia 中，\n",
    "# 矩阵或数组的拼接通过在括号中使用\n",
    "# 空格（对于水平拼接）或\n",
    "# 分号（对于垂直拼接）来实现。"
   ]
  },
  {
   "cell_type": "code",
   "execution_count": 25,
   "metadata": {},
   "outputs": [
    {
     "data": {
      "text/plain": [
       "2-element Vector{Int64}:\n",
       " 5\n",
       " 7"
      ]
     },
     "execution_count": 25,
     "metadata": {},
     "output_type": "execute_result"
    }
   ],
   "source": [
    "C = A[[1,3],2]\n",
    "# [[1,3],2] 这部分表示从矩阵 A 中\n",
    "# 选取第 1 和第 3 行的第 2 列的元素"
   ]
  },
  {
   "cell_type": "code",
   "execution_count": 26,
   "metadata": {},
   "outputs": [
    {
     "data": {
      "text/plain": [
       "3×3 Matrix{Int64}:\n",
       " 1  1  2\n",
       " 2  1  7\n",
       " 4  1  1"
      ]
     },
     "execution_count": 26,
     "metadata": {},
     "output_type": "execute_result"
    }
   ],
   "source": [
    "D = A[[1,2,4],[1,3,4]]"
   ]
  },
  {
   "cell_type": "markdown",
   "metadata": {},
   "source": [
    "### Problem 2(a)\n",
    "\n",
    "- Create a vector $x$ of the numbers $1, 0.99, 0.98, 0.97, . . . 0.01, 0$ in this order\n",
    "- Using $x$, create a vector $y$ defined by the elementwise function $y_i = \\sin 2\\pi x_i$ for each element in $x$"
   ]
  },
  {
   "cell_type": "code",
   "execution_count": 27,
   "metadata": {},
   "outputs": [
    {
     "data": {
      "text/plain": [
       "101-element Vector{Float64}:\n",
       " -2.4492935982947064e-16\n",
       " -0.06279051952931326\n",
       " -0.12533323356430465\n",
       " -0.18738131458572468\n",
       " -0.24868988716485535\n",
       " -0.3090169943749476\n",
       " -0.36812455268467786\n",
       " -0.425779291565073\n",
       " -0.4817536741017153\n",
       " -0.5358267949789971\n",
       " -0.5877852522924734\n",
       " -0.6374239897486896\n",
       " -0.684547105928689\n",
       "  ⋮\n",
       "  0.6374239897486896\n",
       "  0.5877852522924731\n",
       "  0.5358267949789967\n",
       "  0.4817536741017153\n",
       "  0.42577929156507266\n",
       "  0.3681245526846779\n",
       "  0.3090169943749474\n",
       "  0.2486898871648548\n",
       "  0.1873813145857246\n",
       "  0.12533323356430426\n",
       "  0.06279051952931337\n",
       "  0.0"
      ]
     },
     "execution_count": 27,
     "metadata": {},
     "output_type": "execute_result"
    }
   ],
   "source": [
    "# 创建向量 x\n",
    "x = 1:-0.01:0  # 从 1 到 0，步长为 -0.01\n",
    "\n",
    "# 计算向量 y\n",
    "y = sin.(2π * x)  # 使用点运算符应用函数到 x 的每个元素"
   ]
  },
  {
   "cell_type": "code",
   "execution_count": null,
   "metadata": {},
   "outputs": [],
   "source": []
  },
  {
   "cell_type": "markdown",
   "metadata": {},
   "source": [
    "### Problem 2(b)\n",
    "\n",
    "Given the vector $y$, create:\n",
    "  - A vector $v$ containing the first 25 elements of $y$\n",
    "  - A vector $w$ containing elements of $y$ with indices from 50 to 75\n",
    "  - A vector $z$ containing elements of $y$ with even indexes"
   ]
  },
  {
   "cell_type": "code",
   "execution_count": 28,
   "metadata": {},
   "outputs": [
    {
     "data": {
      "text/plain": [
       "50-element Vector{Float64}:\n",
       " -0.06279051952931326\n",
       " -0.18738131458572468\n",
       " -0.3090169943749476\n",
       " -0.425779291565073\n",
       " -0.5358267949789971\n",
       " -0.6374239897486896\n",
       " -0.7289686274214116\n",
       " -0.8090169943749476\n",
       " -0.8763066800438638\n",
       " -0.9297764858882516\n",
       " -0.9685831611286311\n",
       " -0.9921147013144779\n",
       " -1.0\n",
       "  ⋮\n",
       "  0.9921147013144779\n",
       "  0.9685831611286311\n",
       "  0.9297764858882513\n",
       "  0.8763066800438636\n",
       "  0.8090169943749475\n",
       "  0.7289686274214116\n",
       "  0.6374239897486896\n",
       "  0.5358267949789967\n",
       "  0.42577929156507266\n",
       "  0.3090169943749474\n",
       "  0.1873813145857246\n",
       "  0.06279051952931337"
      ]
     },
     "execution_count": 28,
     "metadata": {},
     "output_type": "execute_result"
    }
   ],
   "source": [
    "# 提取前25个元素\n",
    "v = y[1:25]\n",
    "\n",
    "# 提取索引50到75的元素\n",
    "w = y[50:75]\n",
    "\n",
    "# 提取偶数索引的元素\n",
    "z = y[2:2:end]  # 从索引2开始，每次增加2，直到结束\n"
   ]
  },
  {
   "cell_type": "markdown",
   "metadata": {},
   "source": [
    "### Problem 2(c)\n",
    "\n",
    "Given the vector $y$, create:\n",
    "  - A vector $v$ containing the same elements in the reverse order\n",
    "  - A vector $w$ containing elements of $y$ which are smaller than -0.2\n",
    "  - A vector $z$ of the *indices* in $y$ of elements greater than 0.5 (that is, the numbers $i$ for which $y_i>0.5$) "
   ]
  },
  {
   "cell_type": "code",
   "execution_count": 29,
   "metadata": {},
   "outputs": [
    {
     "data": {
      "text/plain": [
       "33-element Vector{Int64}:\n",
       " 60\n",
       " 61\n",
       " 62\n",
       " 63\n",
       " 64\n",
       " 65\n",
       " 66\n",
       " 67\n",
       " 68\n",
       " 69\n",
       " 70\n",
       " 71\n",
       " 72\n",
       "  ⋮\n",
       " 81\n",
       " 82\n",
       " 83\n",
       " 84\n",
       " 85\n",
       " 86\n",
       " 87\n",
       " 88\n",
       " 89\n",
       " 90\n",
       " 91\n",
       " 92"
      ]
     },
     "execution_count": 29,
     "metadata": {},
     "output_type": "execute_result"
    }
   ],
   "source": [
    "# 反转向量 y\n",
    "v = reverse(y)\n",
    "\n",
    "# 选择所有小于 -0.2 的元素\n",
    "w = y[y .< -0.2]\n",
    "\n",
    "# 获取大于 0.5 的元素的索引\n",
    "z = findall(y .> 0.5)\n"
   ]
  },
  {
   "cell_type": "markdown",
   "metadata": {},
   "source": [
    "### Problem 3\n",
    "\n",
    "Given a matrix $A$, e.g. `A = [0 2 1; 3 1 0; 4 6 4; 2 0 2]`:\n",
    "\n",
    "### Problem 3(a)\n",
    "- Write code to create a matrix $B$ with 1’s at locations where $A$ has zeros and 0’s elsewhere"
   ]
  },
  {
   "cell_type": "code",
   "execution_count": 30,
   "metadata": {},
   "outputs": [
    {
     "data": {
      "text/plain": [
       "4×3 Matrix{Int64}:\n",
       " 1  0  0\n",
       " 0  0  1\n",
       " 0  0  0\n",
       " 0  1  0"
      ]
     },
     "execution_count": 30,
     "metadata": {},
     "output_type": "execute_result"
    }
   ],
   "source": [
    "# 给定矩阵 A\n",
    "A = [0 2 1; 3 1 0; 4 6 4; 2 0 2]\n",
    "\n",
    "# 创建 B\n",
    "B = Int.(A .== 0)\n"
   ]
  },
  {
   "cell_type": "markdown",
   "metadata": {},
   "source": [
    "### Problem 3(b)\n",
    "\n",
    "\n",
    "- Write code to create a matrix $C$ containing all 0’s except the maximum elements in each row of a (i.e. using the example matrix $A$, $C$ would be `[0 2 0; 3 0 0; 0 6 0; 2 0 2]`)"
   ]
  },
  {
   "cell_type": "code",
   "execution_count": 32,
   "metadata": {},
   "outputs": [
    {
     "data": {
      "text/plain": [
       "4×3 Matrix{Int64}:\n",
       " 0  2  0\n",
       " 3  0  0\n",
       " 0  6  0\n",
       " 2  0  2"
      ]
     },
     "execution_count": 32,
     "metadata": {},
     "output_type": "execute_result"
    }
   ],
   "source": [
    "# 创建一个全零矩阵，与 A 同形状\n",
    "C = zeros(Int, size(A))\n",
    "\n",
    "# 在每一行中放置最大值\n",
    "for i in 1:size(A, 1)\n",
    "    max_val = maximum(A[i, :])\n",
    "    for j in 1:size(A, 2)\n",
    "        C[i, j] = A[i, j] == max_val ? max_val : 0\n",
    "    end\n",
    "end\n",
    "C"
   ]
  },
  {
   "cell_type": "markdown",
   "metadata": {},
   "source": [
    "### Problem 4\n",
    "\n",
    "Write a function `tridiag(a,b,c)` to create the following *tridiagonal* matrix:\n",
    "$$\n",
    "A = \n",
    "\\begin{bmatrix}\n",
    "   {b_1} & {c_1} & {   } & {   } & { 0 } \\\\\n",
    "   {a_1} & {b_2} & {c_2} & {   } & {   } \\\\\n",
    "   {   } & {a_2} & {b_3} & \\ddots & {   } \\\\\n",
    "   {   } & {   } & \\ddots & \\ddots & {c_{n-1}}\\\\\n",
    "   { 0 } & {   } & {   } & {a_{n-1}} & {b_n}\\\\\n",
    "\\end{bmatrix}\n",
    "$$\n",
    "for vectors `a` and `c` of length $n-1$ and vector `b` of length $n$.\n",
    "\n",
    "Test your function using e.g. `tridiag(1:4, 11:15, 21:24)`."
   ]
  },
  {
   "cell_type": "code",
   "execution_count": 33,
   "metadata": {},
   "outputs": [
    {
     "ename": "LoadError",
     "evalue": "DimensionMismatch: tried to assign 3 elements to 4 destinations",
     "output_type": "error",
     "traceback": [
      "DimensionMismatch: tried to assign 3 elements to 4 destinations",
      "",
      "Stacktrace:",
      " [1] throw_setindex_mismatch(X::UnitRange{Int64}, I::Tuple{Int64})",
      "   @ Base .\\indices.jl:191",
      " [2] setindex_shape_check",
      "   @ .\\indices.jl:245 [inlined]",
      " [3] setindex!",
      "   @ .\\array.jl:976 [inlined]",
      " [4] tridiag(a::UnitRange{Int64}, b::UnitRange{Int64}, c::UnitRange{Int64})",
      "   @ Main .\\In[36]:5",
      " [5] top-level scope",
      "   @ In[36]:11"
     ]
    }
   ],
   "source": [
    "function tridiag(a, b, c)\n",
    "    n = length(b)\n",
    "    A = zeros(n, n)\n",
    "    A[diagind(A)] = b\n",
    "    A[diagind(A, -1)] = a\n",
    "    A[diagind(A, 1)] = c\n",
    "    A\n",
    "end\n",
    "\n",
    "# 测试函数\n",
    "tridiag(1:4, 11:15, 21:24)\n"
   ]
  },
  {
   "cell_type": "markdown",
   "metadata": {},
   "source": [
    "### Problem 5\n",
    "\n",
    "Make a plot connecting the coordinates: $(1, 1)$, $(3, 1)$, $(2, 4)$, $(4, 2)$ and $(0,3)$ by a red line of linewidth 2. Use equal axis coordinates, and add grid lines."
   ]
  },
  {
   "cell_type": "code",
   "execution_count": null,
   "metadata": {},
   "outputs": [
    {
     "ename": "LoadError",
     "evalue": "UndefVarError: `diagind` not defined",
     "output_type": "error",
     "traceback": [
      "UndefVarError: `diagind` not defined",
      "",
      "Stacktrace:",
      " [1] tridiag(a::UnitRange{Int64}, b::UnitRange{Int64}, c::UnitRange{Int64})",
      "   @ Main .\\In[34]:4",
      " [2] top-level scope",
      "   @ In[34]:11"
     ]
    }
   ],
   "source": [
    "function tridiag(a, b, c)\n",
    "    n = length(b)\n",
    "    A = zeros(n, n)\n",
    "    A[diagind(A)] = b\n",
    "    A[diagind(A, -1)] = a\n",
    "    A[diagind(A, 1)] = c\n",
    "    A\n",
    "end\n",
    "\n",
    "# 测试函数\n",
    "tridiag(1:4, 11:15, 21:24)\n"
   ]
  },
  {
   "cell_type": "markdown",
   "metadata": {},
   "source": [
    "### Problem 6\n",
    "\n",
    "Plot the functions $f(x) = x$, $g(x) = 1/(1+x^3)$, $h(x) = e^{-x}$ and $r(x) = e^{-x^2}$ over the interval $x\\in [0, 3]$. Describe your plots by using the functions `xlabel`, `ylabel`, `title` and `legend`."
   ]
  },
  {
   "cell_type": "code",
   "execution_count": null,
   "metadata": {},
   "outputs": [
    {
     "data": {
      "image/png": "[encoded data removed]",
      "image/svg+xml": [
       "<?xml version=\"1.0\" encoding=\"utf-8\"?>\n",
       "<svg xmlns=\"http://www.w3.org/2000/svg\" xmlns:xlink=\"http://www.w3.org/1999/xlink\" width=\"600\" height=\"400\" viewBox=\"0 0 2400 1600\">\n",
       "<defs>\n",
       "  <clipPath id=\"clip390\">\n",
       "    <rect x=\"0\" y=\"0\" width=\"2400\" height=\"1600\"/>\n",
       "  </clipPath>\n",
       "</defs>\n",
       "<path clip-path=\"url(#clip390)\" d=\"M0 1600 L2400 1600 L2400 0 L0 0  Z\" fill=\"#ffffff\" fill-rule=\"evenodd\" fill-opacity=\"1\"/>\n",
       "<defs>\n",
       "  <clipPath id=\"clip391\">\n",
       "    <rect x=\"480\" y=\"0\" width=\"1681\" height=\"1600\"/>\n",
       "  </clipPath>\n",
       "</defs>\n",
       "<path clip-path=\"url(#clip390)\" d=\"M174.149 1423.18 L2352.76 1423.18 L2352.76 123.472 L174.149 123.472  Z\" fill=\"#ffffff\" fill-rule=\"evenodd\" fill-opacity=\"1\"/>\n",
       "<defs>\n",
       "  <clipPath id=\"clip392\">\n",
       "    <rect x=\"174\" y=\"123\" width=\"2180\" height=\"1301\"/>\n",
       "  </clipPath>\n",
       "</defs>\n",
       "<polyline clip-path=\"url(#clip392)\" style=\"stroke:#000000; stroke-linecap:round; stroke-linejoin:round; stroke-width:2; stroke-opacity:0.1; fill:none\" points=\"235.808,1423.18 235.808,123.472 \"/>\n",
       "<polyline clip-path=\"url(#clip392)\" style=\"stroke:#000000; stroke-linecap:round; stroke-linejoin:round; stroke-width:2; stroke-opacity:0.1; fill:none\" points=\"920.904,1423.18 920.904,123.472 \"/>\n",
       "<polyline clip-path=\"url(#clip392)\" style=\"stroke:#000000; stroke-linecap:round; stroke-linejoin:round; stroke-width:2; stroke-opacity:0.1; fill:none\" points=\"1606,1423.18 1606,123.472 \"/>\n",
       "<polyline clip-path=\"url(#clip392)\" style=\"stroke:#000000; stroke-linecap:round; stroke-linejoin:round; stroke-width:2; stroke-opacity:0.1; fill:none\" points=\"2291.1,1423.18 2291.1,123.472 \"/>\n",
       "<polyline clip-path=\"url(#clip390)\" style=\"stroke:#000000; stroke-linecap:round; stroke-linejoin:round; stroke-width:4; stroke-opacity:1; fill:none\" points=\"174.149,1423.18 2352.76,1423.18 \"/>\n",
       "<polyline clip-path=\"url(#clip390)\" style=\"stroke:#000000; stroke-linecap:round; stroke-linejoin:round; stroke-width:4; stroke-opacity:1; fill:none\" points=\"235.808,1423.18 235.808,1404.28 \"/>\n",
       "<polyline clip-path=\"url(#clip390)\" style=\"stroke:#000000; stroke-linecap:round; stroke-linejoin:round; stroke-width:4; stroke-opacity:1; fill:none\" points=\"920.904,1423.18 920.904,1404.28 \"/>\n",
       "<polyline clip-path=\"url(#clip390)\" style=\"stroke:#000000; stroke-linecap:round; stroke-linejoin:round; stroke-width:4; stroke-opacity:1; fill:none\" points=\"1606,1423.18 1606,1404.28 \"/>\n",
       "<polyline clip-path=\"url(#clip390)\" style=\"stroke:#000000; stroke-linecap:round; stroke-linejoin:round; stroke-width:4; stroke-opacity:1; fill:none\" points=\"2291.1,1423.18 2291.1,1404.28 \"/>\n",
       "<path clip-path=\"url(#clip390)\" d=\"M235.808 1454.1 Q232.197 1454.1 230.368 1457.66 Q228.562 1461.2 228.562 1468.33 Q228.562 1475.44 230.368 1479.01 Q232.197 1482.55 235.808 1482.55 Q239.442 1482.55 241.247 1479.01 Q243.076 1475.44 243.076 1468.33 Q243.076 1461.2 241.247 1457.66 Q239.442 1454.1 235.808 1454.1 M235.808 1450.39 Q241.618 1450.39 244.673 1455 Q247.752 1459.58 247.752 1468.33 Q247.752 1477.06 244.673 1481.67 Q241.618 1486.25 235.808 1486.25 Q229.997 1486.25 226.919 1481.67 Q223.863 1477.06 223.863 1468.33 Q223.863 1459.58 226.919 1455 Q229.997 1450.39 235.808 1450.39 Z\" fill=\"#000000\" fill-rule=\"nonzero\" fill-opacity=\"1\" /><path clip-path=\"url(#clip390)\" d=\"M911.286 1481.64 L918.925 1481.64 L918.925 1455.28 L910.615 1456.95 L910.615 1452.69 L918.879 1451.02 L923.555 1451.02 L923.555 1481.64 L931.193 1481.64 L931.193 1485.58 L911.286 1485.58 L911.286 1481.64 Z\" fill=\"#000000\" fill-rule=\"nonzero\" fill-opacity=\"1\" /><path clip-path=\"url(#clip390)\" d=\"M1600.65 1481.64 L1616.97 1481.64 L1616.97 1485.58 L1595.03 1485.58 L1595.03 1481.64 Q1597.69 1478.89 1602.27 1474.26 Q1606.88 1469.61 1608.06 1468.27 Q1610.31 1465.74 1611.19 1464.01 Q1612.09 1462.25 1612.09 1460.56 Q1612.09 1457.8 1610.14 1456.07 Q1608.22 1454.33 1605.12 1454.33 Q1602.92 1454.33 1600.47 1455.09 Q1598.04 1455.86 1595.26 1457.41 L1595.26 1452.69 Q1598.08 1451.55 1600.54 1450.97 Q1602.99 1450.39 1605.03 1450.39 Q1610.4 1450.39 1613.59 1453.08 Q1616.79 1455.77 1616.79 1460.26 Q1616.79 1462.39 1615.98 1464.31 Q1615.19 1466.2 1613.08 1468.8 Q1612.51 1469.47 1609.4 1472.69 Q1606.3 1475.88 1600.65 1481.64 Z\" fill=\"#000000\" fill-rule=\"nonzero\" fill-opacity=\"1\" /><path clip-path=\"url(#clip390)\" d=\"M2295.34 1466.95 Q2298.7 1467.66 2300.58 1469.93 Q2302.47 1472.2 2302.47 1475.53 Q2302.47 1480.65 2298.96 1483.45 Q2295.44 1486.25 2288.96 1486.25 Q2286.78 1486.25 2284.47 1485.81 Q2282.17 1485.39 2279.72 1484.54 L2279.72 1480.02 Q2281.66 1481.16 2283.98 1481.74 Q2286.29 1482.32 2288.82 1482.32 Q2293.22 1482.32 2295.51 1480.58 Q2297.82 1478.84 2297.82 1475.53 Q2297.82 1472.48 2295.67 1470.77 Q2293.54 1469.03 2289.72 1469.03 L2285.69 1469.03 L2285.69 1465.19 L2289.91 1465.19 Q2293.35 1465.19 2295.18 1463.82 Q2297.01 1462.43 2297.01 1459.84 Q2297.01 1457.18 2295.11 1455.77 Q2293.24 1454.33 2289.72 1454.33 Q2287.8 1454.33 2285.6 1454.75 Q2283.4 1455.16 2280.76 1456.04 L2280.76 1451.88 Q2283.42 1451.14 2285.74 1450.77 Q2288.08 1450.39 2290.14 1450.39 Q2295.46 1450.39 2298.56 1452.83 Q2301.66 1455.23 2301.66 1459.35 Q2301.66 1462.22 2300.02 1464.21 Q2298.38 1466.18 2295.34 1466.95 Z\" fill=\"#000000\" fill-rule=\"nonzero\" fill-opacity=\"1\" /><path clip-path=\"url(#clip390)\" d=\"M1280.07 1532.4 L1267.18 1549.74 L1280.74 1568.04 L1273.83 1568.04 L1263.45 1554.04 L1253.08 1568.04 L1246.17 1568.04 L1260.01 1549.39 L1247.35 1532.4 L1254.25 1532.4 L1263.71 1545.1 L1273.16 1532.4 L1280.07 1532.4 Z\" fill=\"#000000\" fill-rule=\"nonzero\" fill-opacity=\"1\" /><polyline clip-path=\"url(#clip392)\" style=\"stroke:#000000; stroke-linecap:round; stroke-linejoin:round; stroke-width:2; stroke-opacity:0.1; fill:none\" points=\"174.149,1386.4 2352.76,1386.4 \"/>\n",
       "<polyline clip-path=\"url(#clip392)\" style=\"stroke:#000000; stroke-linecap:round; stroke-linejoin:round; stroke-width:2; stroke-opacity:0.1; fill:none\" points=\"174.149,977.683 2352.76,977.683 \"/>\n",
       "<polyline clip-path=\"url(#clip392)\" style=\"stroke:#000000; stroke-linecap:round; stroke-linejoin:round; stroke-width:2; stroke-opacity:0.1; fill:none\" points=\"174.149,568.969 2352.76,568.969 \"/>\n",
       "<polyline clip-path=\"url(#clip392)\" style=\"stroke:#000000; stroke-linecap:round; stroke-linejoin:round; stroke-width:2; stroke-opacity:0.1; fill:none\" points=\"174.149,160.256 2352.76,160.256 \"/>\n",
       "<polyline clip-path=\"url(#clip390)\" style=\"stroke:#000000; stroke-linecap:round; stroke-linejoin:round; stroke-width:4; stroke-opacity:1; fill:none\" points=\"174.149,1423.18 174.149,123.472 \"/>\n",
       "<polyline clip-path=\"url(#clip390)\" style=\"stroke:#000000; stroke-linecap:round; stroke-linejoin:round; stroke-width:4; stroke-opacity:1; fill:none\" points=\"174.149,1386.4 193.047,1386.4 \"/>\n",
       "<polyline clip-path=\"url(#clip390)\" style=\"stroke:#000000; stroke-linecap:round; stroke-linejoin:round; stroke-width:4; stroke-opacity:1; fill:none\" points=\"174.149,977.683 193.047,977.683 \"/>\n",
       "<polyline clip-path=\"url(#clip390)\" style=\"stroke:#000000; stroke-linecap:round; stroke-linejoin:round; stroke-width:4; stroke-opacity:1; fill:none\" points=\"174.149,568.969 193.047,568.969 \"/>\n",
       "<polyline clip-path=\"url(#clip390)\" style=\"stroke:#000000; stroke-linecap:round; stroke-linejoin:round; stroke-width:4; stroke-opacity:1; fill:none\" points=\"174.149,160.256 193.047,160.256 \"/>\n",
       "<path clip-path=\"url(#clip390)\" d=\"M126.205 1372.19 Q122.593 1372.19 120.765 1375.76 Q118.959 1379.3 118.959 1386.43 Q118.959 1393.54 120.765 1397.1 Q122.593 1400.64 126.205 1400.64 Q129.839 1400.64 131.644 1397.1 Q133.473 1393.54 133.473 1386.43 Q133.473 1379.3 131.644 1375.76 Q129.839 1372.19 126.205 1372.19 M126.205 1368.49 Q132.015 1368.49 135.07 1373.1 Q138.149 1377.68 138.149 1386.43 Q138.149 1395.16 135.07 1399.76 Q132.015 1404.35 126.205 1404.35 Q120.394 1404.35 117.316 1399.76 Q114.26 1395.16 114.26 1386.43 Q114.26 1377.68 117.316 1373.1 Q120.394 1368.49 126.205 1368.49 Z\" fill=\"#000000\" fill-rule=\"nonzero\" fill-opacity=\"1\" /><path clip-path=\"url(#clip390)\" d=\"M118.242 991.027 L125.88 991.027 L125.88 964.662 L117.57 966.328 L117.57 962.069 L125.834 960.403 L130.51 960.403 L130.51 991.027 L138.149 991.027 L138.149 994.963 L118.242 994.963 L118.242 991.027 Z\" fill=\"#000000\" fill-rule=\"nonzero\" fill-opacity=\"1\" /><path clip-path=\"url(#clip390)\" d=\"M121.83 582.314 L138.149 582.314 L138.149 586.249 L116.205 586.249 L116.205 582.314 Q118.867 579.56 123.45 574.93 Q128.056 570.277 129.237 568.935 Q131.482 566.412 132.362 564.675 Q133.265 562.916 133.265 561.226 Q133.265 558.472 131.32 556.736 Q129.399 555 126.297 555 Q124.098 555 121.644 555.763 Q119.214 556.527 116.436 558.078 L116.436 553.356 Q119.26 552.222 121.714 551.643 Q124.168 551.064 126.205 551.064 Q131.575 551.064 134.769 553.75 Q137.964 556.435 137.964 560.925 Q137.964 563.055 137.154 564.976 Q136.367 566.875 134.26 569.467 Q133.681 570.138 130.58 573.356 Q127.478 576.55 121.83 582.314 Z\" fill=\"#000000\" fill-rule=\"nonzero\" fill-opacity=\"1\" /><path clip-path=\"url(#clip390)\" d=\"M131.019 158.902 Q134.376 159.62 136.251 161.888 Q138.149 164.157 138.149 167.49 Q138.149 172.606 134.63 175.407 Q131.112 178.208 124.63 178.208 Q122.455 178.208 120.14 177.768 Q117.848 177.351 115.394 176.495 L115.394 171.981 Q117.339 173.115 119.654 173.694 Q121.968 174.272 124.492 174.272 Q128.89 174.272 131.181 172.536 Q133.496 170.8 133.496 167.49 Q133.496 164.435 131.343 162.722 Q129.214 160.985 125.394 160.985 L121.367 160.985 L121.367 157.143 L125.58 157.143 Q129.029 157.143 130.857 155.777 Q132.686 154.388 132.686 151.796 Q132.686 149.134 130.788 147.722 Q128.913 146.286 125.394 146.286 Q123.473 146.286 121.274 146.703 Q119.075 147.12 116.436 147.999 L116.436 143.833 Q119.098 143.092 121.413 142.722 Q123.751 142.351 125.811 142.351 Q131.135 142.351 134.237 144.782 Q137.339 147.189 137.339 151.31 Q137.339 154.18 135.695 156.171 Q134.052 158.138 131.019 158.902 Z\" fill=\"#000000\" fill-rule=\"nonzero\" fill-opacity=\"1\" /><path clip-path=\"url(#clip390)\" d=\"M67.3143 771.639 Q73.68 774.122 75.6216 776.477 Q77.5631 778.832 77.5631 782.779 L77.5631 787.458 L72.6615 787.458 L72.6615 784.02 Q72.6615 781.601 71.5157 780.265 Q70.3699 778.928 66.1048 777.305 L63.4312 776.254 L28.3562 790.673 L28.3562 784.466 L56.238 773.326 L28.3562 762.186 L28.3562 755.979 L67.3143 771.639 Z\" fill=\"#000000\" fill-rule=\"nonzero\" fill-opacity=\"1\" /><path clip-path=\"url(#clip390)\" d=\"M1168.03 87.2403 L1168.03 14.0809 L1209.51 14.0809 L1209.51 87.2403 L1168.03 87.2403 M1172.69 82.6222 L1204.9 82.6222 L1204.9 18.7395 L1172.69 18.7395 L1172.69 82.6222 Z\" fill=\"#000000\" fill-rule=\"nonzero\" fill-opacity=\"1\" /><path clip-path=\"url(#clip390)\" d=\"M1217.82 87.2403 L1217.82 14.0809 L1259.3 14.0809 L1259.3 87.2403 L1217.82 87.2403 M1222.48 82.6222 L1254.68 82.6222 L1254.68 18.7395 L1222.48 18.7395 L1222.48 82.6222 Z\" fill=\"#000000\" fill-rule=\"nonzero\" fill-opacity=\"1\" /><path clip-path=\"url(#clip390)\" d=\"M1267.6 87.2403 L1267.6 14.0809 L1309.09 14.0809 L1309.09 87.2403 L1267.6 87.2403 M1272.26 82.6222 L1304.47 82.6222 L1304.47 18.7395 L1272.26 18.7395 L1272.26 82.6222 Z\" fill=\"#000000\" fill-rule=\"nonzero\" fill-opacity=\"1\" /><path clip-path=\"url(#clip390)\" d=\"M1317.39 87.2403 L1317.39 14.0809 L1358.87 14.0809 L1358.87 87.2403 L1317.39 87.2403 M1322.05 82.6222 L1354.25 82.6222 L1354.25 18.7395 L1322.05 18.7395 L1322.05 82.6222 Z\" fill=\"#000000\" fill-rule=\"nonzero\" fill-opacity=\"1\" /><polyline clip-path=\"url(#clip392)\" style=\"stroke:#009af9; stroke-linecap:round; stroke-linejoin:round; stroke-width:4; stroke-opacity:1; fill:none\" points=\"235.808,1386.4 249.189,1378.41 372.916,1304.6 447.271,1260.24 510.137,1222.74 578.427,1182 641.385,1144.44 708.882,1104.17 787.084,1057.52 856.581,1016.06 917.523,979.7 983.967,940.061 1050.8,900.187 1124.7,856.1 1195.02,814.154 1268.12,770.539 1329.67,733.824 1404.8,689 1473.63,647.938 1537.2,610.014 1601.59,571.598 1673.76,528.545 1739.16,489.532 1814.03,444.865 1883.35,403.507 1951.7,362.733 2018.06,323.144 2086.09,282.561 2160.62,238.098 2268.89,173.507 2291.1,160.256 \"/>\n",
       "<polyline clip-path=\"url(#clip392)\" style=\"stroke:#e26f46; stroke-linecap:round; stroke-linejoin:round; stroke-width:4; stroke-opacity:1; fill:none\" points=\"235.808,977.683 239.153,977.683 242.498,977.683 245.843,977.684 249.189,977.686 280.12,977.793 311.052,978.223 341.984,979.198 372.916,980.933 391.505,982.424 410.093,984.303 428.682,986.603 447.271,989.358 462.987,992.061 478.704,995.12 494.42,998.545 510.137,1002.34 527.209,1006.89 544.282,1011.87 561.355,1017.29 578.427,1023.12 594.166,1028.85 609.906,1034.91 625.645,1041.27 641.385,1047.91 675.133,1062.97 708.882,1078.92 747.983,1098.13 787.084,1117.69 821.832,1135.02 856.581,1152.03 887.052,1166.54 917.523,1180.52 950.745,1195.09 983.967,1208.88 1017.39,1221.91 1050.8,1234.09 1087.75,1246.57 1124.7,1258.04 1159.86,1268.06 1195.02,1277.25 1231.57,1285.99 1268.12,1293.95 1298.9,1300.1 1329.67,1305.79 1367.23,1312.14 1404.8,1317.91 1439.22,1322.73 1473.63,1327.15 1505.42,1330.9 1537.2,1334.36 1569.4,1337.6 1601.59,1340.59 1673.76,1346.51 1739.16,1351.06 1814.03,1355.49 1883.35,1358.98 1951.7,1361.94 2018.06,1364.43 2086.09,1366.65 2160.62,1368.76 2268.89,1371.33 2291.1,1371.8 \"/>\n",
       "<polyline clip-path=\"url(#clip392)\" style=\"stroke:#3da44d; stroke-linecap:round; stroke-linejoin:round; stroke-width:4; stroke-opacity:1; fill:none\" points=\"235.808,977.683 239.153,979.673 242.498,981.655 245.843,983.626 249.189,985.588 280.12,1003.28 311.052,1020.19 341.984,1036.36 372.916,1051.81 391.505,1060.77 410.093,1069.49 428.682,1077.97 447.271,1086.22 478.704,1099.69 510.137,1112.54 544.282,1125.86 578.427,1138.52 609.906,1149.66 641.385,1160.29 675.133,1171.16 708.882,1181.5 747.983,1192.87 787.084,1203.6 821.832,1212.64 856.581,1221.24 887.052,1228.42 917.523,1235.29 950.745,1242.45 983.967,1249.26 1017.39,1255.79 1050.8,1262.01 1087.75,1268.54 1124.7,1274.73 1159.86,1280.31 1195.02,1285.62 1268.12,1295.82 1329.67,1303.6 1404.8,1312.2 1473.63,1319.29 1537.2,1325.24 1601.59,1330.73 1673.76,1336.29 1739.16,1340.85 1814.03,1345.57 1883.35,1349.5 1951.7,1353 2018.06,1356.08 2086.09,1358.95 2160.62,1361.78 2268.89,1365.38 2291.1,1366.05 \"/>\n",
       "<polyline clip-path=\"url(#clip392)\" style=\"stroke:#c271d2; stroke-linecap:round; stroke-linejoin:round; stroke-width:4; stroke-opacity:1; fill:none\" points=\"235.808,977.683 239.153,977.692 242.498,977.722 245.843,977.77 249.189,977.838 264.655,978.407 280.12,979.389 295.586,980.783 311.052,982.583 326.518,984.785 341.984,987.382 357.45,990.367 372.916,993.729 391.505,998.256 410.093,1003.3 428.682,1008.83 447.271,1014.82 462.987,1020.24 478.704,1025.96 494.42,1031.96 510.137,1038.23 544.282,1052.68 578.427,1068.12 609.906,1083.06 641.385,1098.51 708.882,1132.69 787.084,1172.49 821.832,1189.77 856.581,1206.57 887.052,1220.83 917.523,1234.55 950.745,1248.84 983.967,1262.38 1017.39,1275.17 1050.8,1287.13 1087.75,1299.33 1124.7,1310.48 1159.86,1320.12 1195.02,1328.84 1231.57,1336.97 1268.12,1344.19 1298.9,1349.61 1329.67,1354.46 1367.23,1359.67 1404.8,1364.16 1439.22,1367.71 1473.63,1370.78 1505.42,1373.22 1537.2,1375.32 1569.4,1377.15 1601.59,1378.72 1673.76,1381.4 1739.16,1383.08 1814.03,1384.37 1883.35,1385.14 1951.7,1385.62 2018.06,1385.93 2086.09,1386.12 2160.62,1386.24 2268.89,1386.33 2291.1,1386.35 \"/>\n",
       "<path clip-path=\"url(#clip390)\" d=\"M246.769 425.996 L873.887 425.996 L873.887 166.796 L246.769 166.796  Z\" fill=\"#ffffff\" fill-rule=\"evenodd\" fill-opacity=\"1\"/>\n",
       "<polyline clip-path=\"url(#clip390)\" style=\"stroke:#000000; stroke-linecap:round; stroke-linejoin:round; stroke-width:4; stroke-opacity:1; fill:none\" points=\"246.769,425.996 873.887,425.996 873.887,166.796 246.769,166.796 246.769,425.996 \"/>\n",
       "<polyline clip-path=\"url(#clip390)\" style=\"stroke:#009af9; stroke-linecap:round; stroke-linejoin:round; stroke-width:4; stroke-opacity:1; fill:none\" points=\"270.976,218.636 416.216,218.636 \"/>\n",
       "<path clip-path=\"url(#clip390)\" d=\"M456.928 199.897 L456.928 203.439 L452.854 203.439 Q450.562 203.439 449.659 204.365 Q448.78 205.291 448.78 207.698 L448.78 209.99 L455.793 209.99 L455.793 213.3 L448.78 213.3 L448.78 235.916 L444.497 235.916 L444.497 213.3 L440.423 213.3 L440.423 209.99 L444.497 209.99 L444.497 208.184 Q444.497 203.856 446.511 201.888 Q448.525 199.897 452.9 199.897 L456.928 199.897 Z\" fill=\"#000000\" fill-rule=\"nonzero\" fill-opacity=\"1\" /><path clip-path=\"url(#clip390)\" d=\"M470.724 199.944 Q467.622 205.268 466.117 210.476 Q464.613 215.684 464.613 221.032 Q464.613 226.379 466.117 231.633 Q467.645 236.865 470.724 242.166 L467.02 242.166 Q463.548 236.726 461.812 231.471 Q460.099 226.217 460.099 221.032 Q460.099 215.87 461.812 210.638 Q463.525 205.407 467.02 199.944 L470.724 199.944 Z\" fill=\"#000000\" fill-rule=\"nonzero\" fill-opacity=\"1\" /><path clip-path=\"url(#clip390)\" d=\"M500.539 209.99 L491.164 222.606 L501.025 235.916 L496.002 235.916 L488.455 225.731 L480.909 235.916 L475.886 235.916 L485.955 222.351 L476.742 209.99 L481.765 209.99 L488.64 219.226 L495.515 209.99 L500.539 209.99 Z\" fill=\"#000000\" fill-rule=\"nonzero\" fill-opacity=\"1\" /><path clip-path=\"url(#clip390)\" d=\"M506.372 199.944 L510.076 199.944 Q513.548 205.407 515.261 210.638 Q516.997 215.87 516.997 221.032 Q516.997 226.217 515.261 231.471 Q513.548 236.726 510.076 242.166 L506.372 242.166 Q509.451 236.865 510.955 231.633 Q512.483 226.379 512.483 221.032 Q512.483 215.684 510.955 210.476 Q509.451 205.268 506.372 199.944 Z\" fill=\"#000000\" fill-rule=\"nonzero\" fill-opacity=\"1\" /><path clip-path=\"url(#clip390)\" d=\"M541.163 214.388 L570.839 214.388 L570.839 218.277 L541.163 218.277 L541.163 214.388 M541.163 223.832 L570.839 223.832 L570.839 227.768 L541.163 227.768 L541.163 223.832 Z\" fill=\"#000000\" fill-rule=\"nonzero\" fill-opacity=\"1\" /><path clip-path=\"url(#clip390)\" d=\"M616.95 209.99 L607.575 222.606 L617.436 235.916 L612.413 235.916 L604.867 225.731 L597.32 235.916 L592.297 235.916 L602.367 222.351 L593.154 209.99 L598.177 209.99 L605.052 219.226 L611.927 209.99 L616.95 209.99 Z\" fill=\"#000000\" fill-rule=\"nonzero\" fill-opacity=\"1\" /><polyline clip-path=\"url(#clip390)\" style=\"stroke:#e26f46; stroke-linecap:round; stroke-linejoin:round; stroke-width:4; stroke-opacity:1; fill:none\" points=\"270.976,270.476 416.216,270.476 \"/>\n",
       "<path clip-path=\"url(#clip390)\" d=\"M459.335 274.492 Q459.335 269.862 457.414 267.316 Q455.516 264.77 452.067 264.77 Q448.641 264.77 446.719 267.316 Q444.821 269.862 444.821 274.492 Q444.821 279.098 446.719 281.645 Q448.641 284.191 452.067 284.191 Q455.516 284.191 457.414 281.645 Q459.335 279.098 459.335 274.492 M463.594 284.538 Q463.594 291.158 460.654 294.376 Q457.715 297.617 451.65 297.617 Q449.405 297.617 447.414 297.27 Q445.423 296.945 443.548 296.251 L443.548 292.108 Q445.423 293.126 447.252 293.612 Q449.08 294.098 450.979 294.098 Q455.168 294.098 457.252 291.899 Q459.335 289.723 459.335 285.302 L459.335 283.196 Q458.016 285.487 455.955 286.621 Q453.895 287.756 451.025 287.756 Q446.256 287.756 443.34 284.121 Q440.423 280.487 440.423 274.492 Q440.423 268.473 443.34 264.839 Q446.256 261.205 451.025 261.205 Q453.895 261.205 455.955 262.339 Q458.016 263.473 459.335 265.765 L459.335 261.83 L463.594 261.83 L463.594 284.538 Z\" fill=\"#000000\" fill-rule=\"nonzero\" fill-opacity=\"1\" /><path clip-path=\"url(#clip390)\" d=\"M482.599 251.784 Q479.497 257.108 477.992 262.316 Q476.488 267.524 476.488 272.872 Q476.488 278.219 477.992 283.473 Q479.52 288.705 482.599 294.006 L478.895 294.006 Q475.423 288.566 473.687 283.311 Q471.974 278.057 471.974 272.872 Q471.974 267.71 473.687 262.478 Q475.4 257.247 478.895 251.784 L482.599 251.784 Z\" fill=\"#000000\" fill-rule=\"nonzero\" fill-opacity=\"1\" /><path clip-path=\"url(#clip390)\" d=\"M512.413 261.83 L503.039 274.446 L512.9 287.756 L507.876 287.756 L500.33 277.571 L492.784 287.756 L487.761 287.756 L497.83 274.191 L488.617 261.83 L493.64 261.83 L500.515 271.066 L507.39 261.83 L512.413 261.83 Z\" fill=\"#000000\" fill-rule=\"nonzero\" fill-opacity=\"1\" /><path clip-path=\"url(#clip390)\" d=\"M518.247 251.784 L521.95 251.784 Q525.423 257.247 527.136 262.478 Q528.872 267.71 528.872 272.872 Q528.872 278.057 527.136 283.311 Q525.423 288.566 521.95 294.006 L518.247 294.006 Q521.325 288.705 522.83 283.473 Q524.358 278.219 524.358 272.872 Q524.358 267.524 522.83 262.316 Q521.325 257.108 518.247 251.784 Z\" fill=\"#000000\" fill-rule=\"nonzero\" fill-opacity=\"1\" /><path clip-path=\"url(#clip390)\" d=\"M553.038 266.228 L582.714 266.228 L582.714 270.117 L553.038 270.117 L553.038 266.228 M553.038 275.672 L582.714 275.672 L582.714 279.608 L553.038 279.608 L553.038 275.672 Z\" fill=\"#000000\" fill-rule=\"nonzero\" fill-opacity=\"1\" /><path clip-path=\"url(#clip390)\" d=\"M608.686 283.821 L616.325 283.821 L616.325 257.455 L608.015 259.122 L608.015 254.862 L616.279 253.196 L620.955 253.196 L620.955 283.821 L628.593 283.821 L628.593 287.756 L608.686 287.756 L608.686 283.821 Z\" fill=\"#000000\" fill-rule=\"nonzero\" fill-opacity=\"1\" /><path clip-path=\"url(#clip390)\" d=\"M645.005 253.196 L648.941 253.196 L636.904 292.154 L632.968 292.154 L645.005 253.196 Z\" fill=\"#000000\" fill-rule=\"nonzero\" fill-opacity=\"1\" /><path clip-path=\"url(#clip390)\" d=\"M663.64 251.784 Q660.538 257.108 659.033 262.316 Q657.528 267.524 657.528 272.872 Q657.528 278.219 659.033 283.473 Q660.561 288.705 663.64 294.006 L659.936 294.006 Q656.464 288.566 654.728 283.311 Q653.015 278.057 653.015 272.872 Q653.015 267.71 654.728 262.478 Q656.44 257.247 659.936 251.784 L663.64 251.784 Z\" fill=\"#000000\" fill-rule=\"nonzero\" fill-opacity=\"1\" /><path clip-path=\"url(#clip390)\" d=\"M673.315 283.821 L680.954 283.821 L680.954 257.455 L672.644 259.122 L672.644 254.862 L680.908 253.196 L685.584 253.196 L685.584 283.821 L693.223 283.821 L693.223 287.756 L673.315 287.756 L673.315 283.821 Z\" fill=\"#000000\" fill-rule=\"nonzero\" fill-opacity=\"1\" /><path clip-path=\"url(#clip390)\" d=\"M719.403 258.034 L719.403 270.927 L732.297 270.927 L732.297 274.862 L719.403 274.862 L719.403 287.756 L715.514 287.756 L715.514 274.862 L702.621 274.862 L702.621 270.927 L715.514 270.927 L715.514 258.034 L719.403 258.034 Z\" fill=\"#000000\" fill-rule=\"nonzero\" fill-opacity=\"1\" /><path clip-path=\"url(#clip390)\" d=\"M763.338 261.83 L753.963 274.446 L763.824 287.756 L758.801 287.756 L751.255 277.571 L743.709 287.756 L738.685 287.756 L748.755 274.191 L739.542 261.83 L744.565 261.83 L751.44 271.066 L758.315 261.83 L763.338 261.83 Z\" fill=\"#000000\" fill-rule=\"nonzero\" fill-opacity=\"1\" /><path clip-path=\"url(#clip390)\" d=\"M787.505 253.196 L800.074 266.089 L795.421 266.089 L785.236 256.946 L775.051 266.089 L770.398 266.089 L782.968 253.196 L787.505 253.196 Z\" fill=\"#000000\" fill-rule=\"nonzero\" fill-opacity=\"1\" /><path clip-path=\"url(#clip390)\" d=\"M824.333 269.122 Q827.69 269.839 829.565 272.108 Q831.463 274.376 831.463 277.709 Q831.463 282.825 827.944 285.626 Q824.426 288.427 817.944 288.427 Q815.768 288.427 813.454 287.987 Q811.162 287.571 808.708 286.714 L808.708 282.2 Q810.653 283.334 812.967 283.913 Q815.282 284.492 817.805 284.492 Q822.203 284.492 824.495 282.756 Q826.81 281.02 826.81 277.709 Q826.81 274.654 824.657 272.941 Q822.528 271.205 818.708 271.205 L814.68 271.205 L814.68 267.362 L818.893 267.362 Q822.342 267.362 824.171 265.997 Q826 264.608 826 262.015 Q826 259.353 824.102 257.941 Q822.227 256.506 818.708 256.506 Q816.787 256.506 814.588 256.923 Q812.389 257.339 809.75 258.219 L809.75 254.052 Q812.412 253.311 814.727 252.941 Q817.065 252.571 819.125 252.571 Q824.449 252.571 827.551 255.001 Q830.652 257.409 830.652 261.529 Q830.652 264.399 829.009 266.39 Q827.365 268.358 824.333 269.122 Z\" fill=\"#000000\" fill-rule=\"nonzero\" fill-opacity=\"1\" /><path clip-path=\"url(#clip390)\" d=\"M839.055 251.784 L842.759 251.784 Q846.231 257.247 847.944 262.478 Q849.68 267.71 849.68 272.872 Q849.68 278.057 847.944 283.311 Q846.231 288.566 842.759 294.006 L839.055 294.006 Q842.134 288.705 843.639 283.473 Q845.166 278.219 845.166 272.872 Q845.166 267.524 843.639 262.316 Q842.134 257.108 839.055 251.784 Z\" fill=\"#000000\" fill-rule=\"nonzero\" fill-opacity=\"1\" /><polyline clip-path=\"url(#clip390)\" style=\"stroke:#3da44d; stroke-linecap:round; stroke-linejoin:round; stroke-width:4; stroke-opacity:1; fill:none\" points=\"270.976,322.316 416.216,322.316 \"/>\n",
       "<path clip-path=\"url(#clip390)\" d=\"M462.136 323.948 L462.136 339.596 L457.877 339.596 L457.877 324.087 Q457.877 320.406 456.442 318.577 Q455.006 316.749 452.136 316.749 Q448.687 316.749 446.696 318.948 Q444.705 321.147 444.705 324.943 L444.705 339.596 L440.423 339.596 L440.423 303.577 L444.705 303.577 L444.705 317.698 Q446.233 315.36 448.293 314.202 Q450.377 313.045 453.085 313.045 Q457.553 313.045 459.844 315.823 Q462.136 318.577 462.136 323.948 Z\" fill=\"#000000\" fill-rule=\"nonzero\" fill-opacity=\"1\" /><path clip-path=\"url(#clip390)\" d=\"M480.863 303.624 Q477.761 308.948 476.256 314.156 Q474.752 319.364 474.752 324.712 Q474.752 330.059 476.256 335.313 Q477.784 340.545 480.863 345.846 L477.159 345.846 Q473.687 340.406 471.951 335.151 Q470.238 329.897 470.238 324.712 Q470.238 319.55 471.951 314.318 Q473.664 309.087 477.159 303.624 L480.863 303.624 Z\" fill=\"#000000\" fill-rule=\"nonzero\" fill-opacity=\"1\" /><path clip-path=\"url(#clip390)\" d=\"M510.677 313.67 L501.302 326.286 L511.163 339.596 L506.14 339.596 L498.594 329.411 L491.048 339.596 L486.025 339.596 L496.094 326.031 L486.881 313.67 L491.904 313.67 L498.779 322.906 L505.654 313.67 L510.677 313.67 Z\" fill=\"#000000\" fill-rule=\"nonzero\" fill-opacity=\"1\" /><path clip-path=\"url(#clip390)\" d=\"M516.511 303.624 L520.214 303.624 Q523.687 309.087 525.4 314.318 Q527.136 319.55 527.136 324.712 Q527.136 329.897 525.4 335.151 Q523.687 340.406 520.214 345.846 L516.511 345.846 Q519.589 340.545 521.094 335.313 Q522.622 330.059 522.622 324.712 Q522.622 319.364 521.094 314.156 Q519.589 308.948 516.511 303.624 Z\" fill=\"#000000\" fill-rule=\"nonzero\" fill-opacity=\"1\" /><path clip-path=\"url(#clip390)\" d=\"M551.302 318.068 L580.978 318.068 L580.978 321.957 L551.302 321.957 L551.302 318.068 M551.302 327.512 L580.978 327.512 L580.978 331.448 L551.302 331.448 L551.302 327.512 Z\" fill=\"#000000\" fill-rule=\"nonzero\" fill-opacity=\"1\" /><path clip-path=\"url(#clip390)\" d=\"M627.714 325.568 L627.714 327.651 L608.131 327.651 Q608.408 332.049 610.769 334.364 Q613.154 336.656 617.39 336.656 Q619.843 336.656 622.135 336.054 Q624.45 335.452 626.718 334.249 L626.718 338.276 Q624.427 339.248 622.019 339.758 Q619.612 340.267 617.135 340.267 Q610.931 340.267 607.297 336.656 Q603.686 333.045 603.686 326.887 Q603.686 320.522 607.112 316.795 Q610.561 313.045 616.394 313.045 Q621.626 313.045 624.658 316.425 Q627.714 319.781 627.714 325.568 M623.455 324.318 Q623.408 320.823 621.487 318.739 Q619.589 316.656 616.441 316.656 Q612.876 316.656 610.723 318.67 Q608.594 320.684 608.269 324.341 L623.455 324.318 Z\" fill=\"#000000\" fill-rule=\"nonzero\" fill-opacity=\"1\" /><path clip-path=\"url(#clip390)\" d=\"M652.366 305.036 L664.936 317.929 L660.283 317.929 L650.098 308.786 L639.913 317.929 L635.26 317.929 L647.829 305.036 L652.366 305.036 Z\" fill=\"#000000\" fill-rule=\"nonzero\" fill-opacity=\"1\" /><path clip-path=\"url(#clip390)\" d=\"M672.274 324.712 L684.751 324.712 L684.751 328.508 L672.274 328.508 L672.274 324.712 Z\" fill=\"#000000\" fill-rule=\"nonzero\" fill-opacity=\"1\" /><path clip-path=\"url(#clip390)\" d=\"M713.084 313.67 L703.709 326.286 L713.57 339.596 L708.547 339.596 L701 329.411 L693.454 339.596 L688.431 339.596 L698.5 326.031 L689.288 313.67 L694.311 313.67 L701.186 322.906 L708.061 313.67 L713.084 313.67 Z\" fill=\"#000000\" fill-rule=\"nonzero\" fill-opacity=\"1\" /><polyline clip-path=\"url(#clip390)\" style=\"stroke:#c271d2; stroke-linecap:round; stroke-linejoin:round; stroke-width:4; stroke-opacity:1; fill:none\" points=\"270.976,374.156 416.216,374.156 \"/>\n",
       "<path clip-path=\"url(#clip390)\" d=\"M455.608 369.491 Q454.891 369.075 454.034 368.89 Q453.201 368.681 452.182 368.681 Q448.571 368.681 446.627 371.042 Q444.705 373.38 444.705 377.778 L444.705 391.436 L440.423 391.436 L440.423 365.51 L444.705 365.51 L444.705 369.538 Q446.048 367.177 448.201 366.042 Q450.354 364.885 453.432 364.885 Q453.872 364.885 454.405 364.954 Q454.937 365.001 455.585 365.116 L455.608 369.491 Z\" fill=\"#000000\" fill-rule=\"nonzero\" fill-opacity=\"1\" /><path clip-path=\"url(#clip390)\" d=\"M470.307 355.464 Q467.205 360.788 465.701 365.996 Q464.196 371.204 464.196 376.552 Q464.196 381.899 465.701 387.153 Q467.229 392.385 470.307 397.686 L466.604 397.686 Q463.131 392.246 461.395 386.991 Q459.682 381.737 459.682 376.552 Q459.682 371.39 461.395 366.158 Q463.108 360.927 466.604 355.464 L470.307 355.464 Z\" fill=\"#000000\" fill-rule=\"nonzero\" fill-opacity=\"1\" /><path clip-path=\"url(#clip390)\" d=\"M500.122 365.51 L490.747 378.126 L500.608 391.436 L495.585 391.436 L488.039 381.251 L480.492 391.436 L475.469 391.436 L485.539 377.871 L476.326 365.51 L481.349 365.51 L488.224 374.746 L495.099 365.51 L500.122 365.51 Z\" fill=\"#000000\" fill-rule=\"nonzero\" fill-opacity=\"1\" /><path clip-path=\"url(#clip390)\" d=\"M505.955 355.464 L509.659 355.464 Q513.131 360.927 514.844 366.158 Q516.58 371.39 516.58 376.552 Q516.58 381.737 514.844 386.991 Q513.131 392.246 509.659 397.686 L505.955 397.686 Q509.034 392.385 510.538 387.153 Q512.066 381.899 512.066 376.552 Q512.066 371.204 510.538 365.996 Q509.034 360.788 505.955 355.464 Z\" fill=\"#000000\" fill-rule=\"nonzero\" fill-opacity=\"1\" /><path clip-path=\"url(#clip390)\" d=\"M540.747 369.908 L570.422 369.908 L570.422 373.797 L540.747 373.797 L540.747 369.908 M540.747 379.352 L570.422 379.352 L570.422 383.288 L540.747 383.288 L540.747 379.352 Z\" fill=\"#000000\" fill-rule=\"nonzero\" fill-opacity=\"1\" /><path clip-path=\"url(#clip390)\" d=\"M617.158 377.408 L617.158 379.491 L597.575 379.491 Q597.853 383.889 600.214 386.204 Q602.598 388.496 606.834 388.496 Q609.288 388.496 611.58 387.894 Q613.894 387.292 616.163 386.089 L616.163 390.116 Q613.871 391.088 611.464 391.598 Q609.056 392.107 606.58 392.107 Q600.376 392.107 596.742 388.496 Q593.131 384.885 593.131 378.727 Q593.131 372.362 596.557 368.635 Q600.006 364.885 605.839 364.885 Q611.07 364.885 614.103 368.265 Q617.158 371.621 617.158 377.408 M612.899 376.158 Q612.853 372.663 610.931 370.579 Q609.033 368.496 605.885 368.496 Q602.32 368.496 600.168 370.51 Q598.038 372.524 597.714 376.181 L612.899 376.158 Z\" fill=\"#000000\" fill-rule=\"nonzero\" fill-opacity=\"1\" /><path clip-path=\"url(#clip390)\" d=\"M641.811 356.876 L654.38 369.769 L649.728 369.769 L639.542 360.626 L629.357 369.769 L624.705 369.769 L637.274 356.876 L641.811 356.876 Z\" fill=\"#000000\" fill-rule=\"nonzero\" fill-opacity=\"1\" /><path clip-path=\"url(#clip390)\" d=\"M674.102 355.464 Q671.001 360.788 669.496 365.996 Q667.991 371.204 667.991 376.552 Q667.991 381.899 669.496 387.153 Q671.024 392.385 674.102 397.686 L670.399 397.686 Q666.927 392.246 665.19 386.991 Q663.477 381.737 663.477 376.552 Q663.477 371.39 665.19 366.158 Q666.903 360.927 670.399 355.464 L674.102 355.464 Z\" fill=\"#000000\" fill-rule=\"nonzero\" fill-opacity=\"1\" /><path clip-path=\"url(#clip390)\" d=\"M680.213 376.552 L692.69 376.552 L692.69 380.348 L680.213 380.348 L680.213 376.552 Z\" fill=\"#000000\" fill-rule=\"nonzero\" fill-opacity=\"1\" /><path clip-path=\"url(#clip390)\" d=\"M721.023 365.51 L711.649 378.126 L721.51 391.436 L716.486 391.436 L708.94 381.251 L701.394 391.436 L696.371 391.436 L706.44 377.871 L697.227 365.51 L702.25 365.51 L709.125 374.746 L716 365.51 L721.023 365.51 Z\" fill=\"#000000\" fill-rule=\"nonzero\" fill-opacity=\"1\" /><path clip-path=\"url(#clip390)\" d=\"M745.19 356.876 L757.759 369.769 L753.107 369.769 L742.921 360.626 L732.736 369.769 L728.084 369.769 L740.653 356.876 L745.19 356.876 Z\" fill=\"#000000\" fill-rule=\"nonzero\" fill-opacity=\"1\" /><path clip-path=\"url(#clip390)\" d=\"M771.88 387.501 L788.199 387.501 L788.199 391.436 L766.255 391.436 L766.255 387.501 Q768.917 384.746 773.5 380.116 Q778.106 375.464 779.287 374.121 Q781.532 371.598 782.412 369.862 Q783.315 368.103 783.315 366.413 Q783.315 363.658 781.37 361.922 Q779.449 360.186 776.347 360.186 Q774.148 360.186 771.694 360.95 Q769.264 361.714 766.486 363.265 L766.486 358.542 Q769.31 357.408 771.764 356.829 Q774.218 356.251 776.255 356.251 Q781.625 356.251 784.819 358.936 Q788.014 361.621 788.014 366.112 Q788.014 368.241 787.204 370.163 Q786.417 372.061 784.31 374.653 Q783.731 375.325 780.63 378.542 Q777.528 381.737 771.88 387.501 Z\" fill=\"#000000\" fill-rule=\"nonzero\" fill-opacity=\"1\" /><path clip-path=\"url(#clip390)\" d=\"M796.741 355.464 L800.444 355.464 Q803.917 360.927 805.629 366.158 Q807.366 371.39 807.366 376.552 Q807.366 381.737 805.629 386.991 Q803.917 392.246 800.444 397.686 L796.741 397.686 Q799.819 392.385 801.324 387.153 Q802.852 381.899 802.852 376.552 Q802.852 371.204 801.324 365.996 Q799.819 360.788 796.741 355.464 Z\" fill=\"#000000\" fill-rule=\"nonzero\" fill-opacity=\"1\" /></svg>\n"
      ],
      "text/html": [
       "<?xml version=\"1.0\" encoding=\"utf-8\"?>\n",
       "<svg xmlns=\"http://www.w3.org/2000/svg\" xmlns:xlink=\"http://www.w3.org/1999/xlink\" width=\"600\" height=\"400\" viewBox=\"0 0 2400 1600\">\n",
       "<defs>\n",
       "  <clipPath id=\"clip440\">\n",
       "    <rect x=\"0\" y=\"0\" width=\"2400\" height=\"1600\"/>\n",
       "  </clipPath>\n",
       "</defs>\n",
       "<path clip-path=\"url(#clip440)\" d=\"M0 1600 L2400 1600 L2400 0 L0 0  Z\" fill=\"#ffffff\" fill-rule=\"evenodd\" fill-opacity=\"1\"/>\n",
       "<defs>\n",
       "  <clipPath id=\"clip441\">\n",
       "    <rect x=\"480\" y=\"0\" width=\"1681\" height=\"1600\"/>\n",
       "  </clipPath>\n",
       "</defs>\n",
       "<path clip-path=\"url(#clip440)\" d=\"M174.149 1423.18 L2352.76 1423.18 L2352.76 123.472 L174.149 123.472  Z\" fill=\"#ffffff\" fill-rule=\"evenodd\" fill-opacity=\"1\"/>\n",
       "<defs>\n",
       "  <clipPath id=\"clip442\">\n",
       "    <rect x=\"174\" y=\"123\" width=\"2180\" height=\"1301\"/>\n",
       "  </clipPath>\n",
       "</defs>\n",
       "<polyline clip-path=\"url(#clip442)\" style=\"stroke:#000000; stroke-linecap:round; stroke-linejoin:round; stroke-width:2; stroke-opacity:0.1; fill:none\" points=\"235.808,1423.18 235.808,123.472 \"/>\n",
       "<polyline clip-path=\"url(#clip442)\" style=\"stroke:#000000; stroke-linecap:round; stroke-linejoin:round; stroke-width:2; stroke-opacity:0.1; fill:none\" points=\"920.904,1423.18 920.904,123.472 \"/>\n",
       "<polyline clip-path=\"url(#clip442)\" style=\"stroke:#000000; stroke-linecap:round; stroke-linejoin:round; stroke-width:2; stroke-opacity:0.1; fill:none\" points=\"1606,1423.18 1606,123.472 \"/>\n",
       "<polyline clip-path=\"url(#clip442)\" style=\"stroke:#000000; stroke-linecap:round; stroke-linejoin:round; stroke-width:2; stroke-opacity:0.1; fill:none\" points=\"2291.1,1423.18 2291.1,123.472 \"/>\n",
       "<polyline clip-path=\"url(#clip440)\" style=\"stroke:#000000; stroke-linecap:round; stroke-linejoin:round; stroke-width:4; stroke-opacity:1; fill:none\" points=\"174.149,1423.18 2352.76,1423.18 \"/>\n",
       "<polyline clip-path=\"url(#clip440)\" style=\"stroke:#000000; stroke-linecap:round; stroke-linejoin:round; stroke-width:4; stroke-opacity:1; fill:none\" points=\"235.808,1423.18 235.808,1404.28 \"/>\n",
       "<polyline clip-path=\"url(#clip440)\" style=\"stroke:#000000; stroke-linecap:round; stroke-linejoin:round; stroke-width:4; stroke-opacity:1; fill:none\" points=\"920.904,1423.18 920.904,1404.28 \"/>\n",
       "<polyline clip-path=\"url(#clip440)\" style=\"stroke:#000000; stroke-linecap:round; stroke-linejoin:round; stroke-width:4; stroke-opacity:1; fill:none\" points=\"1606,1423.18 1606,1404.28 \"/>\n",
       "<polyline clip-path=\"url(#clip440)\" style=\"stroke:#000000; stroke-linecap:round; stroke-linejoin:round; stroke-width:4; stroke-opacity:1; fill:none\" points=\"2291.1,1423.18 2291.1,1404.28 \"/>\n",
       "<path clip-path=\"url(#clip440)\" d=\"M235.808 1454.1 Q232.197 1454.1 230.368 1457.66 Q228.562 1461.2 228.562 1468.33 Q228.562 1475.44 230.368 1479.01 Q232.197 1482.55 235.808 1482.55 Q239.442 1482.55 241.247 1479.01 Q243.076 1475.44 243.076 1468.33 Q243.076 1461.2 241.247 1457.66 Q239.442 1454.1 235.808 1454.1 M235.808 1450.39 Q241.618 1450.39 244.673 1455 Q247.752 1459.58 247.752 1468.33 Q247.752 1477.06 244.673 1481.67 Q241.618 1486.25 235.808 1486.25 Q229.997 1486.25 226.919 1481.67 Q223.863 1477.06 223.863 1468.33 Q223.863 1459.58 226.919 1455 Q229.997 1450.39 235.808 1450.39 Z\" fill=\"#000000\" fill-rule=\"nonzero\" fill-opacity=\"1\" /><path clip-path=\"url(#clip440)\" d=\"M911.286 1481.64 L918.925 1481.64 L918.925 1455.28 L910.615 1456.95 L910.615 1452.69 L918.879 1451.02 L923.555 1451.02 L923.555 1481.64 L931.193 1481.64 L931.193 1485.58 L911.286 1485.58 L911.286 1481.64 Z\" fill=\"#000000\" fill-rule=\"nonzero\" fill-opacity=\"1\" /><path clip-path=\"url(#clip440)\" d=\"M1600.65 1481.64 L1616.97 1481.64 L1616.97 1485.58 L1595.03 1485.58 L1595.03 1481.64 Q1597.69 1478.89 1602.27 1474.26 Q1606.88 1469.61 1608.06 1468.27 Q1610.31 1465.74 1611.19 1464.01 Q1612.09 1462.25 1612.09 1460.56 Q1612.09 1457.8 1610.14 1456.07 Q1608.22 1454.33 1605.12 1454.33 Q1602.92 1454.33 1600.47 1455.09 Q1598.04 1455.86 1595.26 1457.41 L1595.26 1452.69 Q1598.08 1451.55 1600.54 1450.97 Q1602.99 1450.39 1605.03 1450.39 Q1610.4 1450.39 1613.59 1453.08 Q1616.79 1455.77 1616.79 1460.26 Q1616.79 1462.39 1615.98 1464.31 Q1615.19 1466.2 1613.08 1468.8 Q1612.51 1469.47 1609.4 1472.69 Q1606.3 1475.88 1600.65 1481.64 Z\" fill=\"#000000\" fill-rule=\"nonzero\" fill-opacity=\"1\" /><path clip-path=\"url(#clip440)\" d=\"M2295.34 1466.95 Q2298.7 1467.66 2300.58 1469.93 Q2302.47 1472.2 2302.47 1475.53 Q2302.47 1480.65 2298.96 1483.45 Q2295.44 1486.25 2288.96 1486.25 Q2286.78 1486.25 2284.47 1485.81 Q2282.17 1485.39 2279.72 1484.54 L2279.72 1480.02 Q2281.66 1481.16 2283.98 1481.74 Q2286.29 1482.32 2288.82 1482.32 Q2293.22 1482.32 2295.51 1480.58 Q2297.82 1478.84 2297.82 1475.53 Q2297.82 1472.48 2295.67 1470.77 Q2293.54 1469.03 2289.72 1469.03 L2285.69 1469.03 L2285.69 1465.19 L2289.91 1465.19 Q2293.35 1465.19 2295.18 1463.82 Q2297.01 1462.43 2297.01 1459.84 Q2297.01 1457.18 2295.11 1455.77 Q2293.24 1454.33 2289.72 1454.33 Q2287.8 1454.33 2285.6 1454.75 Q2283.4 1455.16 2280.76 1456.04 L2280.76 1451.88 Q2283.42 1451.14 2285.74 1450.77 Q2288.08 1450.39 2290.14 1450.39 Q2295.46 1450.39 2298.56 1452.83 Q2301.66 1455.23 2301.66 1459.35 Q2301.66 1462.22 2300.02 1464.21 Q2298.38 1466.18 2295.34 1466.95 Z\" fill=\"#000000\" fill-rule=\"nonzero\" fill-opacity=\"1\" /><path clip-path=\"url(#clip440)\" d=\"M1280.07 1532.4 L1267.18 1549.74 L1280.74 1568.04 L1273.83 1568.04 L1263.45 1554.04 L1253.08 1568.04 L1246.17 1568.04 L1260.01 1549.39 L1247.35 1532.4 L1254.25 1532.4 L1263.71 1545.1 L1273.16 1532.4 L1280.07 1532.4 Z\" fill=\"#000000\" fill-rule=\"nonzero\" fill-opacity=\"1\" /><polyline clip-path=\"url(#clip442)\" style=\"stroke:#000000; stroke-linecap:round; stroke-linejoin:round; stroke-width:2; stroke-opacity:0.1; fill:none\" points=\"174.149,1386.4 2352.76,1386.4 \"/>\n",
       "<polyline clip-path=\"url(#clip442)\" style=\"stroke:#000000; stroke-linecap:round; stroke-linejoin:round; stroke-width:2; stroke-opacity:0.1; fill:none\" points=\"174.149,977.683 2352.76,977.683 \"/>\n",
       "<polyline clip-path=\"url(#clip442)\" style=\"stroke:#000000; stroke-linecap:round; stroke-linejoin:round; stroke-width:2; stroke-opacity:0.1; fill:none\" points=\"174.149,568.969 2352.76,568.969 \"/>\n",
       "<polyline clip-path=\"url(#clip442)\" style=\"stroke:#000000; stroke-linecap:round; stroke-linejoin:round; stroke-width:2; stroke-opacity:0.1; fill:none\" points=\"174.149,160.256 2352.76,160.256 \"/>\n",
       "<polyline clip-path=\"url(#clip440)\" style=\"stroke:#000000; stroke-linecap:round; stroke-linejoin:round; stroke-width:4; stroke-opacity:1; fill:none\" points=\"174.149,1423.18 174.149,123.472 \"/>\n",
       "<polyline clip-path=\"url(#clip440)\" style=\"stroke:#000000; stroke-linecap:round; stroke-linejoin:round; stroke-width:4; stroke-opacity:1; fill:none\" points=\"174.149,1386.4 193.047,1386.4 \"/>\n",
       "<polyline clip-path=\"url(#clip440)\" style=\"stroke:#000000; stroke-linecap:round; stroke-linejoin:round; stroke-width:4; stroke-opacity:1; fill:none\" points=\"174.149,977.683 193.047,977.683 \"/>\n",
       "<polyline clip-path=\"url(#clip440)\" style=\"stroke:#000000; stroke-linecap:round; stroke-linejoin:round; stroke-width:4; stroke-opacity:1; fill:none\" points=\"174.149,568.969 193.047,568.969 \"/>\n",
       "<polyline clip-path=\"url(#clip440)\" style=\"stroke:#000000; stroke-linecap:round; stroke-linejoin:round; stroke-width:4; stroke-opacity:1; fill:none\" points=\"174.149,160.256 193.047,160.256 \"/>\n",
       "<path clip-path=\"url(#clip440)\" d=\"M126.205 1372.19 Q122.593 1372.19 120.765 1375.76 Q118.959 1379.3 118.959 1386.43 Q118.959 1393.54 120.765 1397.1 Q122.593 1400.64 126.205 1400.64 Q129.839 1400.64 131.644 1397.1 Q133.473 1393.54 133.473 1386.43 Q133.473 1379.3 131.644 1375.76 Q129.839 1372.19 126.205 1372.19 M126.205 1368.49 Q132.015 1368.49 135.07 1373.1 Q138.149 1377.68 138.149 1386.43 Q138.149 1395.16 135.07 1399.76 Q132.015 1404.35 126.205 1404.35 Q120.394 1404.35 117.316 1399.76 Q114.26 1395.16 114.26 1386.43 Q114.26 1377.68 117.316 1373.1 Q120.394 1368.49 126.205 1368.49 Z\" fill=\"#000000\" fill-rule=\"nonzero\" fill-opacity=\"1\" /><path clip-path=\"url(#clip440)\" d=\"M118.242 991.027 L125.88 991.027 L125.88 964.662 L117.57 966.328 L117.57 962.069 L125.834 960.403 L130.51 960.403 L130.51 991.027 L138.149 991.027 L138.149 994.963 L118.242 994.963 L118.242 991.027 Z\" fill=\"#000000\" fill-rule=\"nonzero\" fill-opacity=\"1\" /><path clip-path=\"url(#clip440)\" d=\"M121.83 582.314 L138.149 582.314 L138.149 586.249 L116.205 586.249 L116.205 582.314 Q118.867 579.56 123.45 574.93 Q128.056 570.277 129.237 568.935 Q131.482 566.412 132.362 564.675 Q133.265 562.916 133.265 561.226 Q133.265 558.472 131.32 556.736 Q129.399 555 126.297 555 Q124.098 555 121.644 555.763 Q119.214 556.527 116.436 558.078 L116.436 553.356 Q119.26 552.222 121.714 551.643 Q124.168 551.064 126.205 551.064 Q131.575 551.064 134.769 553.75 Q137.964 556.435 137.964 560.925 Q137.964 563.055 137.154 564.976 Q136.367 566.875 134.26 569.467 Q133.681 570.138 130.58 573.356 Q127.478 576.55 121.83 582.314 Z\" fill=\"#000000\" fill-rule=\"nonzero\" fill-opacity=\"1\" /><path clip-path=\"url(#clip440)\" d=\"M131.019 158.902 Q134.376 159.62 136.251 161.888 Q138.149 164.157 138.149 167.49 Q138.149 172.606 134.63 175.407 Q131.112 178.208 124.63 178.208 Q122.455 178.208 120.14 177.768 Q117.848 177.351 115.394 176.495 L115.394 171.981 Q117.339 173.115 119.654 173.694 Q121.968 174.272 124.492 174.272 Q128.89 174.272 131.181 172.536 Q133.496 170.8 133.496 167.49 Q133.496 164.435 131.343 162.722 Q129.214 160.985 125.394 160.985 L121.367 160.985 L121.367 157.143 L125.58 157.143 Q129.029 157.143 130.857 155.777 Q132.686 154.388 132.686 151.796 Q132.686 149.134 130.788 147.722 Q128.913 146.286 125.394 146.286 Q123.473 146.286 121.274 146.703 Q119.075 147.12 116.436 147.999 L116.436 143.833 Q119.098 143.092 121.413 142.722 Q123.751 142.351 125.811 142.351 Q131.135 142.351 134.237 144.782 Q137.339 147.189 137.339 151.31 Q137.339 154.18 135.695 156.171 Q134.052 158.138 131.019 158.902 Z\" fill=\"#000000\" fill-rule=\"nonzero\" fill-opacity=\"1\" /><path clip-path=\"url(#clip440)\" d=\"M67.3143 771.639 Q73.68 774.122 75.6216 776.477 Q77.5631 778.832 77.5631 782.779 L77.5631 787.458 L72.6615 787.458 L72.6615 784.02 Q72.6615 781.601 71.5157 780.265 Q70.3699 778.928 66.1048 777.305 L63.4312 776.254 L28.3562 790.673 L28.3562 784.466 L56.238 773.326 L28.3562 762.186 L28.3562 755.979 L67.3143 771.639 Z\" fill=\"#000000\" fill-rule=\"nonzero\" fill-opacity=\"1\" /><path clip-path=\"url(#clip440)\" d=\"M1168.03 87.2403 L1168.03 14.0809 L1209.51 14.0809 L1209.51 87.2403 L1168.03 87.2403 M1172.69 82.6222 L1204.9 82.6222 L1204.9 18.7395 L1172.69 18.7395 L1172.69 82.6222 Z\" fill=\"#000000\" fill-rule=\"nonzero\" fill-opacity=\"1\" /><path clip-path=\"url(#clip440)\" d=\"M1217.82 87.2403 L1217.82 14.0809 L1259.3 14.0809 L1259.3 87.2403 L1217.82 87.2403 M1222.48 82.6222 L1254.68 82.6222 L1254.68 18.7395 L1222.48 18.7395 L1222.48 82.6222 Z\" fill=\"#000000\" fill-rule=\"nonzero\" fill-opacity=\"1\" /><path clip-path=\"url(#clip440)\" d=\"M1267.6 87.2403 L1267.6 14.0809 L1309.09 14.0809 L1309.09 87.2403 L1267.6 87.2403 M1272.26 82.6222 L1304.47 82.6222 L1304.47 18.7395 L1272.26 18.7395 L1272.26 82.6222 Z\" fill=\"#000000\" fill-rule=\"nonzero\" fill-opacity=\"1\" /><path clip-path=\"url(#clip440)\" d=\"M1317.39 87.2403 L1317.39 14.0809 L1358.87 14.0809 L1358.87 87.2403 L1317.39 87.2403 M1322.05 82.6222 L1354.25 82.6222 L1354.25 18.7395 L1322.05 18.7395 L1322.05 82.6222 Z\" fill=\"#000000\" fill-rule=\"nonzero\" fill-opacity=\"1\" /><polyline clip-path=\"url(#clip442)\" style=\"stroke:#009af9; stroke-linecap:round; stroke-linejoin:round; stroke-width:4; stroke-opacity:1; fill:none\" points=\"235.808,1386.4 249.189,1378.41 372.916,1304.6 447.271,1260.24 510.137,1222.74 578.427,1182 641.385,1144.44 708.882,1104.17 787.084,1057.52 856.581,1016.06 917.523,979.7 983.967,940.061 1050.8,900.187 1124.7,856.1 1195.02,814.154 1268.12,770.539 1329.67,733.824 1404.8,689 1473.63,647.938 1537.2,610.014 1601.59,571.598 1673.76,528.545 1739.16,489.532 1814.03,444.865 1883.35,403.507 1951.7,362.733 2018.06,323.144 2086.09,282.561 2160.62,238.098 2268.89,173.507 2291.1,160.256 \"/>\n",
       "<polyline clip-path=\"url(#clip442)\" style=\"stroke:#e26f46; stroke-linecap:round; stroke-linejoin:round; stroke-width:4; stroke-opacity:1; fill:none\" points=\"235.808,977.683 239.153,977.683 242.498,977.683 245.843,977.684 249.189,977.686 280.12,977.793 311.052,978.223 341.984,979.198 372.916,980.933 391.505,982.424 410.093,984.303 428.682,986.603 447.271,989.358 462.987,992.061 478.704,995.12 494.42,998.545 510.137,1002.34 527.209,1006.89 544.282,1011.87 561.355,1017.29 578.427,1023.12 594.166,1028.85 609.906,1034.91 625.645,1041.27 641.385,1047.91 675.133,1062.97 708.882,1078.92 747.983,1098.13 787.084,1117.69 821.832,1135.02 856.581,1152.03 887.052,1166.54 917.523,1180.52 950.745,1195.09 983.967,1208.88 1017.39,1221.91 1050.8,1234.09 1087.75,1246.57 1124.7,1258.04 1159.86,1268.06 1195.02,1277.25 1231.57,1285.99 1268.12,1293.95 1298.9,1300.1 1329.67,1305.79 1367.23,1312.14 1404.8,1317.91 1439.22,1322.73 1473.63,1327.15 1505.42,1330.9 1537.2,1334.36 1569.4,1337.6 1601.59,1340.59 1673.76,1346.51 1739.16,1351.06 1814.03,1355.49 1883.35,1358.98 1951.7,1361.94 2018.06,1364.43 2086.09,1366.65 2160.62,1368.76 2268.89,1371.33 2291.1,1371.8 \"/>\n",
       "<polyline clip-path=\"url(#clip442)\" style=\"stroke:#3da44d; stroke-linecap:round; stroke-linejoin:round; stroke-width:4; stroke-opacity:1; fill:none\" points=\"235.808,977.683 239.153,979.673 242.498,981.655 245.843,983.626 249.189,985.588 280.12,1003.28 311.052,1020.19 341.984,1036.36 372.916,1051.81 391.505,1060.77 410.093,1069.49 428.682,1077.97 447.271,1086.22 478.704,1099.69 510.137,1112.54 544.282,1125.86 578.427,1138.52 609.906,1149.66 641.385,1160.29 675.133,1171.16 708.882,1181.5 747.983,1192.87 787.084,1203.6 821.832,1212.64 856.581,1221.24 887.052,1228.42 917.523,1235.29 950.745,1242.45 983.967,1249.26 1017.39,1255.79 1050.8,1262.01 1087.75,1268.54 1124.7,1274.73 1159.86,1280.31 1195.02,1285.62 1268.12,1295.82 1329.67,1303.6 1404.8,1312.2 1473.63,1319.29 1537.2,1325.24 1601.59,1330.73 1673.76,1336.29 1739.16,1340.85 1814.03,1345.57 1883.35,1349.5 1951.7,1353 2018.06,1356.08 2086.09,1358.95 2160.62,1361.78 2268.89,1365.38 2291.1,1366.05 \"/>\n",
       "<polyline clip-path=\"url(#clip442)\" style=\"stroke:#c271d2; stroke-linecap:round; stroke-linejoin:round; stroke-width:4; stroke-opacity:1; fill:none\" points=\"235.808,977.683 239.153,977.692 242.498,977.722 245.843,977.77 249.189,977.838 264.655,978.407 280.12,979.389 295.586,980.783 311.052,982.583 326.518,984.785 341.984,987.382 357.45,990.367 372.916,993.729 391.505,998.256 410.093,1003.3 428.682,1008.83 447.271,1014.82 462.987,1020.24 478.704,1025.96 494.42,1031.96 510.137,1038.23 544.282,1052.68 578.427,1068.12 609.906,1083.06 641.385,1098.51 708.882,1132.69 787.084,1172.49 821.832,1189.77 856.581,1206.57 887.052,1220.83 917.523,1234.55 950.745,1248.84 983.967,1262.38 1017.39,1275.17 1050.8,1287.13 1087.75,1299.33 1124.7,1310.48 1159.86,1320.12 1195.02,1328.84 1231.57,1336.97 1268.12,1344.19 1298.9,1349.61 1329.67,1354.46 1367.23,1359.67 1404.8,1364.16 1439.22,1367.71 1473.63,1370.78 1505.42,1373.22 1537.2,1375.32 1569.4,1377.15 1601.59,1378.72 1673.76,1381.4 1739.16,1383.08 1814.03,1384.37 1883.35,1385.14 1951.7,1385.62 2018.06,1385.93 2086.09,1386.12 2160.62,1386.24 2268.89,1386.33 2291.1,1386.35 \"/>\n",
       "<path clip-path=\"url(#clip440)\" d=\"M246.769 425.996 L873.887 425.996 L873.887 166.796 L246.769 166.796  Z\" fill=\"#ffffff\" fill-rule=\"evenodd\" fill-opacity=\"1\"/>\n",
       "<polyline clip-path=\"url(#clip440)\" style=\"stroke:#000000; stroke-linecap:round; stroke-linejoin:round; stroke-width:4; stroke-opacity:1; fill:none\" points=\"246.769,425.996 873.887,425.996 873.887,166.796 246.769,166.796 246.769,425.996 \"/>\n",
       "<polyline clip-path=\"url(#clip440)\" style=\"stroke:#009af9; stroke-linecap:round; stroke-linejoin:round; stroke-width:4; stroke-opacity:1; fill:none\" points=\"270.976,218.636 416.216,218.636 \"/>\n",
       "<path clip-path=\"url(#clip440)\" d=\"M456.928 199.897 L456.928 203.439 L452.854 203.439 Q450.562 203.439 449.659 204.365 Q448.78 205.291 448.78 207.698 L448.78 209.99 L455.793 209.99 L455.793 213.3 L448.78 213.3 L448.78 235.916 L444.497 235.916 L444.497 213.3 L440.423 213.3 L440.423 209.99 L444.497 209.99 L444.497 208.184 Q444.497 203.856 446.511 201.888 Q448.525 199.897 452.9 199.897 L456.928 199.897 Z\" fill=\"#000000\" fill-rule=\"nonzero\" fill-opacity=\"1\" /><path clip-path=\"url(#clip440)\" d=\"M470.724 199.944 Q467.622 205.268 466.117 210.476 Q464.613 215.684 464.613 221.032 Q464.613 226.379 466.117 231.633 Q467.645 236.865 470.724 242.166 L467.02 242.166 Q463.548 236.726 461.812 231.471 Q460.099 226.217 460.099 221.032 Q460.099 215.87 461.812 210.638 Q463.525 205.407 467.02 199.944 L470.724 199.944 Z\" fill=\"#000000\" fill-rule=\"nonzero\" fill-opacity=\"1\" /><path clip-path=\"url(#clip440)\" d=\"M500.539 209.99 L491.164 222.606 L501.025 235.916 L496.002 235.916 L488.455 225.731 L480.909 235.916 L475.886 235.916 L485.955 222.351 L476.742 209.99 L481.765 209.99 L488.64 219.226 L495.515 209.99 L500.539 209.99 Z\" fill=\"#000000\" fill-rule=\"nonzero\" fill-opacity=\"1\" /><path clip-path=\"url(#clip440)\" d=\"M506.372 199.944 L510.076 199.944 Q513.548 205.407 515.261 210.638 Q516.997 215.87 516.997 221.032 Q516.997 226.217 515.261 231.471 Q513.548 236.726 510.076 242.166 L506.372 242.166 Q509.451 236.865 510.955 231.633 Q512.483 226.379 512.483 221.032 Q512.483 215.684 510.955 210.476 Q509.451 205.268 506.372 199.944 Z\" fill=\"#000000\" fill-rule=\"nonzero\" fill-opacity=\"1\" /><path clip-path=\"url(#clip440)\" d=\"M541.163 214.388 L570.839 214.388 L570.839 218.277 L541.163 218.277 L541.163 214.388 M541.163 223.832 L570.839 223.832 L570.839 227.768 L541.163 227.768 L541.163 223.832 Z\" fill=\"#000000\" fill-rule=\"nonzero\" fill-opacity=\"1\" /><path clip-path=\"url(#clip440)\" d=\"M616.95 209.99 L607.575 222.606 L617.436 235.916 L612.413 235.916 L604.867 225.731 L597.32 235.916 L592.297 235.916 L602.367 222.351 L593.154 209.99 L598.177 209.99 L605.052 219.226 L611.927 209.99 L616.95 209.99 Z\" fill=\"#000000\" fill-rule=\"nonzero\" fill-opacity=\"1\" /><polyline clip-path=\"url(#clip440)\" style=\"stroke:#e26f46; stroke-linecap:round; stroke-linejoin:round; stroke-width:4; stroke-opacity:1; fill:none\" points=\"270.976,270.476 416.216,270.476 \"/>\n",
       "<path clip-path=\"url(#clip440)\" d=\"M459.335 274.492 Q459.335 269.862 457.414 267.316 Q455.516 264.77 452.067 264.77 Q448.641 264.77 446.719 267.316 Q444.821 269.862 444.821 274.492 Q444.821 279.098 446.719 281.645 Q448.641 284.191 452.067 284.191 Q455.516 284.191 457.414 281.645 Q459.335 279.098 459.335 274.492 M463.594 284.538 Q463.594 291.158 460.654 294.376 Q457.715 297.617 451.65 297.617 Q449.405 297.617 447.414 297.27 Q445.423 296.945 443.548 296.251 L443.548 292.108 Q445.423 293.126 447.252 293.612 Q449.08 294.098 450.979 294.098 Q455.168 294.098 457.252 291.899 Q459.335 289.723 459.335 285.302 L459.335 283.196 Q458.016 285.487 455.955 286.621 Q453.895 287.756 451.025 287.756 Q446.256 287.756 443.34 284.121 Q440.423 280.487 440.423 274.492 Q440.423 268.473 443.34 264.839 Q446.256 261.205 451.025 261.205 Q453.895 261.205 455.955 262.339 Q458.016 263.473 459.335 265.765 L459.335 261.83 L463.594 261.83 L463.594 284.538 Z\" fill=\"#000000\" fill-rule=\"nonzero\" fill-opacity=\"1\" /><path clip-path=\"url(#clip440)\" d=\"M482.599 251.784 Q479.497 257.108 477.992 262.316 Q476.488 267.524 476.488 272.872 Q476.488 278.219 477.992 283.473 Q479.52 288.705 482.599 294.006 L478.895 294.006 Q475.423 288.566 473.687 283.311 Q471.974 278.057 471.974 272.872 Q471.974 267.71 473.687 262.478 Q475.4 257.247 478.895 251.784 L482.599 251.784 Z\" fill=\"#000000\" fill-rule=\"nonzero\" fill-opacity=\"1\" /><path clip-path=\"url(#clip440)\" d=\"M512.413 261.83 L503.039 274.446 L512.9 287.756 L507.876 287.756 L500.33 277.571 L492.784 287.756 L487.761 287.756 L497.83 274.191 L488.617 261.83 L493.64 261.83 L500.515 271.066 L507.39 261.83 L512.413 261.83 Z\" fill=\"#000000\" fill-rule=\"nonzero\" fill-opacity=\"1\" /><path clip-path=\"url(#clip440)\" d=\"M518.247 251.784 L521.95 251.784 Q525.423 257.247 527.136 262.478 Q528.872 267.71 528.872 272.872 Q528.872 278.057 527.136 283.311 Q525.423 288.566 521.95 294.006 L518.247 294.006 Q521.325 288.705 522.83 283.473 Q524.358 278.219 524.358 272.872 Q524.358 267.524 522.83 262.316 Q521.325 257.108 518.247 251.784 Z\" fill=\"#000000\" fill-rule=\"nonzero\" fill-opacity=\"1\" /><path clip-path=\"url(#clip440)\" d=\"M553.038 266.228 L582.714 266.228 L582.714 270.117 L553.038 270.117 L553.038 266.228 M553.038 275.672 L582.714 275.672 L582.714 279.608 L553.038 279.608 L553.038 275.672 Z\" fill=\"#000000\" fill-rule=\"nonzero\" fill-opacity=\"1\" /><path clip-path=\"url(#clip440)\" d=\"M608.686 283.821 L616.325 283.821 L616.325 257.455 L608.015 259.122 L608.015 254.862 L616.279 253.196 L620.955 253.196 L620.955 283.821 L628.593 283.821 L628.593 287.756 L608.686 287.756 L608.686 283.821 Z\" fill=\"#000000\" fill-rule=\"nonzero\" fill-opacity=\"1\" /><path clip-path=\"url(#clip440)\" d=\"M645.005 253.196 L648.941 253.196 L636.904 292.154 L632.968 292.154 L645.005 253.196 Z\" fill=\"#000000\" fill-rule=\"nonzero\" fill-opacity=\"1\" /><path clip-path=\"url(#clip440)\" d=\"M663.64 251.784 Q660.538 257.108 659.033 262.316 Q657.528 267.524 657.528 272.872 Q657.528 278.219 659.033 283.473 Q660.561 288.705 663.64 294.006 L659.936 294.006 Q656.464 288.566 654.728 283.311 Q653.015 278.057 653.015 272.872 Q653.015 267.71 654.728 262.478 Q656.44 257.247 659.936 251.784 L663.64 251.784 Z\" fill=\"#000000\" fill-rule=\"nonzero\" fill-opacity=\"1\" /><path clip-path=\"url(#clip440)\" d=\"M673.315 283.821 L680.954 283.821 L680.954 257.455 L672.644 259.122 L672.644 254.862 L680.908 253.196 L685.584 253.196 L685.584 283.821 L693.223 283.821 L693.223 287.756 L673.315 287.756 L673.315 283.821 Z\" fill=\"#000000\" fill-rule=\"nonzero\" fill-opacity=\"1\" /><path clip-path=\"url(#clip440)\" d=\"M719.403 258.034 L719.403 270.927 L732.297 270.927 L732.297 274.862 L719.403 274.862 L719.403 287.756 L715.514 287.756 L715.514 274.862 L702.621 274.862 L702.621 270.927 L715.514 270.927 L715.514 258.034 L719.403 258.034 Z\" fill=\"#000000\" fill-rule=\"nonzero\" fill-opacity=\"1\" /><path clip-path=\"url(#clip440)\" d=\"M763.338 261.83 L753.963 274.446 L763.824 287.756 L758.801 287.756 L751.255 277.571 L743.709 287.756 L738.685 287.756 L748.755 274.191 L739.542 261.83 L744.565 261.83 L751.44 271.066 L758.315 261.83 L763.338 261.83 Z\" fill=\"#000000\" fill-rule=\"nonzero\" fill-opacity=\"1\" /><path clip-path=\"url(#clip440)\" d=\"M787.505 253.196 L800.074 266.089 L795.421 266.089 L785.236 256.946 L775.051 266.089 L770.398 266.089 L782.968 253.196 L787.505 253.196 Z\" fill=\"#000000\" fill-rule=\"nonzero\" fill-opacity=\"1\" /><path clip-path=\"url(#clip440)\" d=\"M824.333 269.122 Q827.69 269.839 829.565 272.108 Q831.463 274.376 831.463 277.709 Q831.463 282.825 827.944 285.626 Q824.426 288.427 817.944 288.427 Q815.768 288.427 813.454 287.987 Q811.162 287.571 808.708 286.714 L808.708 282.2 Q810.653 283.334 812.967 283.913 Q815.282 284.492 817.805 284.492 Q822.203 284.492 824.495 282.756 Q826.81 281.02 826.81 277.709 Q826.81 274.654 824.657 272.941 Q822.528 271.205 818.708 271.205 L814.68 271.205 L814.68 267.362 L818.893 267.362 Q822.342 267.362 824.171 265.997 Q826 264.608 826 262.015 Q826 259.353 824.102 257.941 Q822.227 256.506 818.708 256.506 Q816.787 256.506 814.588 256.923 Q812.389 257.339 809.75 258.219 L809.75 254.052 Q812.412 253.311 814.727 252.941 Q817.065 252.571 819.125 252.571 Q824.449 252.571 827.551 255.001 Q830.652 257.409 830.652 261.529 Q830.652 264.399 829.009 266.39 Q827.365 268.358 824.333 269.122 Z\" fill=\"#000000\" fill-rule=\"nonzero\" fill-opacity=\"1\" /><path clip-path=\"url(#clip440)\" d=\"M839.055 251.784 L842.759 251.784 Q846.231 257.247 847.944 262.478 Q849.68 267.71 849.68 272.872 Q849.68 278.057 847.944 283.311 Q846.231 288.566 842.759 294.006 L839.055 294.006 Q842.134 288.705 843.639 283.473 Q845.166 278.219 845.166 272.872 Q845.166 267.524 843.639 262.316 Q842.134 257.108 839.055 251.784 Z\" fill=\"#000000\" fill-rule=\"nonzero\" fill-opacity=\"1\" /><polyline clip-path=\"url(#clip440)\" style=\"stroke:#3da44d; stroke-linecap:round; stroke-linejoin:round; stroke-width:4; stroke-opacity:1; fill:none\" points=\"270.976,322.316 416.216,322.316 \"/>\n",
       "<path clip-path=\"url(#clip440)\" d=\"M462.136 323.948 L462.136 339.596 L457.877 339.596 L457.877 324.087 Q457.877 320.406 456.442 318.577 Q455.006 316.749 452.136 316.749 Q448.687 316.749 446.696 318.948 Q444.705 321.147 444.705 324.943 L444.705 339.596 L440.423 339.596 L440.423 303.577 L444.705 303.577 L444.705 317.698 Q446.233 315.36 448.293 314.202 Q450.377 313.045 453.085 313.045 Q457.553 313.045 459.844 315.823 Q462.136 318.577 462.136 323.948 Z\" fill=\"#000000\" fill-rule=\"nonzero\" fill-opacity=\"1\" /><path clip-path=\"url(#clip440)\" d=\"M480.863 303.624 Q477.761 308.948 476.256 314.156 Q474.752 319.364 474.752 324.712 Q474.752 330.059 476.256 335.313 Q477.784 340.545 480.863 345.846 L477.159 345.846 Q473.687 340.406 471.951 335.151 Q470.238 329.897 470.238 324.712 Q470.238 319.55 471.951 314.318 Q473.664 309.087 477.159 303.624 L480.863 303.624 Z\" fill=\"#000000\" fill-rule=\"nonzero\" fill-opacity=\"1\" /><path clip-path=\"url(#clip440)\" d=\"M510.677 313.67 L501.302 326.286 L511.163 339.596 L506.14 339.596 L498.594 329.411 L491.048 339.596 L486.025 339.596 L496.094 326.031 L486.881 313.67 L491.904 313.67 L498.779 322.906 L505.654 313.67 L510.677 313.67 Z\" fill=\"#000000\" fill-rule=\"nonzero\" fill-opacity=\"1\" /><path clip-path=\"url(#clip440)\" d=\"M516.511 303.624 L520.214 303.624 Q523.687 309.087 525.4 314.318 Q527.136 319.55 527.136 324.712 Q527.136 329.897 525.4 335.151 Q523.687 340.406 520.214 345.846 L516.511 345.846 Q519.589 340.545 521.094 335.313 Q522.622 330.059 522.622 324.712 Q522.622 319.364 521.094 314.156 Q519.589 308.948 516.511 303.624 Z\" fill=\"#000000\" fill-rule=\"nonzero\" fill-opacity=\"1\" /><path clip-path=\"url(#clip440)\" d=\"M551.302 318.068 L580.978 318.068 L580.978 321.957 L551.302 321.957 L551.302 318.068 M551.302 327.512 L580.978 327.512 L580.978 331.448 L551.302 331.448 L551.302 327.512 Z\" fill=\"#000000\" fill-rule=\"nonzero\" fill-opacity=\"1\" /><path clip-path=\"url(#clip440)\" d=\"M627.714 325.568 L627.714 327.651 L608.131 327.651 Q608.408 332.049 610.769 334.364 Q613.154 336.656 617.39 336.656 Q619.843 336.656 622.135 336.054 Q624.45 335.452 626.718 334.249 L626.718 338.276 Q624.427 339.248 622.019 339.758 Q619.612 340.267 617.135 340.267 Q610.931 340.267 607.297 336.656 Q603.686 333.045 603.686 326.887 Q603.686 320.522 607.112 316.795 Q610.561 313.045 616.394 313.045 Q621.626 313.045 624.658 316.425 Q627.714 319.781 627.714 325.568 M623.455 324.318 Q623.408 320.823 621.487 318.739 Q619.589 316.656 616.441 316.656 Q612.876 316.656 610.723 318.67 Q608.594 320.684 608.269 324.341 L623.455 324.318 Z\" fill=\"#000000\" fill-rule=\"nonzero\" fill-opacity=\"1\" /><path clip-path=\"url(#clip440)\" d=\"M652.366 305.036 L664.936 317.929 L660.283 317.929 L650.098 308.786 L639.913 317.929 L635.26 317.929 L647.829 305.036 L652.366 305.036 Z\" fill=\"#000000\" fill-rule=\"nonzero\" fill-opacity=\"1\" /><path clip-path=\"url(#clip440)\" d=\"M672.274 324.712 L684.751 324.712 L684.751 328.508 L672.274 328.508 L672.274 324.712 Z\" fill=\"#000000\" fill-rule=\"nonzero\" fill-opacity=\"1\" /><path clip-path=\"url(#clip440)\" d=\"M713.084 313.67 L703.709 326.286 L713.57 339.596 L708.547 339.596 L701 329.411 L693.454 339.596 L688.431 339.596 L698.5 326.031 L689.288 313.67 L694.311 313.67 L701.186 322.906 L708.061 313.67 L713.084 313.67 Z\" fill=\"#000000\" fill-rule=\"nonzero\" fill-opacity=\"1\" /><polyline clip-path=\"url(#clip440)\" style=\"stroke:#c271d2; stroke-linecap:round; stroke-linejoin:round; stroke-width:4; stroke-opacity:1; fill:none\" points=\"270.976,374.156 416.216,374.156 \"/>\n",
       "<path clip-path=\"url(#clip440)\" d=\"M455.608 369.491 Q454.891 369.075 454.034 368.89 Q453.201 368.681 452.182 368.681 Q448.571 368.681 446.627 371.042 Q444.705 373.38 444.705 377.778 L444.705 391.436 L440.423 391.436 L440.423 365.51 L444.705 365.51 L444.705 369.538 Q446.048 367.177 448.201 366.042 Q450.354 364.885 453.432 364.885 Q453.872 364.885 454.405 364.954 Q454.937 365.001 455.585 365.116 L455.608 369.491 Z\" fill=\"#000000\" fill-rule=\"nonzero\" fill-opacity=\"1\" /><path clip-path=\"url(#clip440)\" d=\"M470.307 355.464 Q467.205 360.788 465.701 365.996 Q464.196 371.204 464.196 376.552 Q464.196 381.899 465.701 387.153 Q467.229 392.385 470.307 397.686 L466.604 397.686 Q463.131 392.246 461.395 386.991 Q459.682 381.737 459.682 376.552 Q459.682 371.39 461.395 366.158 Q463.108 360.927 466.604 355.464 L470.307 355.464 Z\" fill=\"#000000\" fill-rule=\"nonzero\" fill-opacity=\"1\" /><path clip-path=\"url(#clip440)\" d=\"M500.122 365.51 L490.747 378.126 L500.608 391.436 L495.585 391.436 L488.039 381.251 L480.492 391.436 L475.469 391.436 L485.539 377.871 L476.326 365.51 L481.349 365.51 L488.224 374.746 L495.099 365.51 L500.122 365.51 Z\" fill=\"#000000\" fill-rule=\"nonzero\" fill-opacity=\"1\" /><path clip-path=\"url(#clip440)\" d=\"M505.955 355.464 L509.659 355.464 Q513.131 360.927 514.844 366.158 Q516.58 371.39 516.58 376.552 Q516.58 381.737 514.844 386.991 Q513.131 392.246 509.659 397.686 L505.955 397.686 Q509.034 392.385 510.538 387.153 Q512.066 381.899 512.066 376.552 Q512.066 371.204 510.538 365.996 Q509.034 360.788 505.955 355.464 Z\" fill=\"#000000\" fill-rule=\"nonzero\" fill-opacity=\"1\" /><path clip-path=\"url(#clip440)\" d=\"M540.747 369.908 L570.422 369.908 L570.422 373.797 L540.747 373.797 L540.747 369.908 M540.747 379.352 L570.422 379.352 L570.422 383.288 L540.747 383.288 L540.747 379.352 Z\" fill=\"#000000\" fill-rule=\"nonzero\" fill-opacity=\"1\" /><path clip-path=\"url(#clip440)\" d=\"M617.158 377.408 L617.158 379.491 L597.575 379.491 Q597.853 383.889 600.214 386.204 Q602.598 388.496 606.834 388.496 Q609.288 388.496 611.58 387.894 Q613.894 387.292 616.163 386.089 L616.163 390.116 Q613.871 391.088 611.464 391.598 Q609.056 392.107 606.58 392.107 Q600.376 392.107 596.742 388.496 Q593.131 384.885 593.131 378.727 Q593.131 372.362 596.557 368.635 Q600.006 364.885 605.839 364.885 Q611.07 364.885 614.103 368.265 Q617.158 371.621 617.158 377.408 M612.899 376.158 Q612.853 372.663 610.931 370.579 Q609.033 368.496 605.885 368.496 Q602.32 368.496 600.168 370.51 Q598.038 372.524 597.714 376.181 L612.899 376.158 Z\" fill=\"#000000\" fill-rule=\"nonzero\" fill-opacity=\"1\" /><path clip-path=\"url(#clip440)\" d=\"M641.811 356.876 L654.38 369.769 L649.728 369.769 L639.542 360.626 L629.357 369.769 L624.705 369.769 L637.274 356.876 L641.811 356.876 Z\" fill=\"#000000\" fill-rule=\"nonzero\" fill-opacity=\"1\" /><path clip-path=\"url(#clip440)\" d=\"M674.102 355.464 Q671.001 360.788 669.496 365.996 Q667.991 371.204 667.991 376.552 Q667.991 381.899 669.496 387.153 Q671.024 392.385 674.102 397.686 L670.399 397.686 Q666.927 392.246 665.19 386.991 Q663.477 381.737 663.477 376.552 Q663.477 371.39 665.19 366.158 Q666.903 360.927 670.399 355.464 L674.102 355.464 Z\" fill=\"#000000\" fill-rule=\"nonzero\" fill-opacity=\"1\" /><path clip-path=\"url(#clip440)\" d=\"M680.213 376.552 L692.69 376.552 L692.69 380.348 L680.213 380.348 L680.213 376.552 Z\" fill=\"#000000\" fill-rule=\"nonzero\" fill-opacity=\"1\" /><path clip-path=\"url(#clip440)\" d=\"M721.023 365.51 L711.649 378.126 L721.51 391.436 L716.486 391.436 L708.94 381.251 L701.394 391.436 L696.371 391.436 L706.44 377.871 L697.227 365.51 L702.25 365.51 L709.125 374.746 L716 365.51 L721.023 365.51 Z\" fill=\"#000000\" fill-rule=\"nonzero\" fill-opacity=\"1\" /><path clip-path=\"url(#clip440)\" d=\"M745.19 356.876 L757.759 369.769 L753.107 369.769 L742.921 360.626 L732.736 369.769 L728.084 369.769 L740.653 356.876 L745.19 356.876 Z\" fill=\"#000000\" fill-rule=\"nonzero\" fill-opacity=\"1\" /><path clip-path=\"url(#clip440)\" d=\"M771.88 387.501 L788.199 387.501 L788.199 391.436 L766.255 391.436 L766.255 387.501 Q768.917 384.746 773.5 380.116 Q778.106 375.464 779.287 374.121 Q781.532 371.598 782.412 369.862 Q783.315 368.103 783.315 366.413 Q783.315 363.658 781.37 361.922 Q779.449 360.186 776.347 360.186 Q774.148 360.186 771.694 360.95 Q769.264 361.714 766.486 363.265 L766.486 358.542 Q769.31 357.408 771.764 356.829 Q774.218 356.251 776.255 356.251 Q781.625 356.251 784.819 358.936 Q788.014 361.621 788.014 366.112 Q788.014 368.241 787.204 370.163 Q786.417 372.061 784.31 374.653 Q783.731 375.325 780.63 378.542 Q777.528 381.737 771.88 387.501 Z\" fill=\"#000000\" fill-rule=\"nonzero\" fill-opacity=\"1\" /><path clip-path=\"url(#clip440)\" d=\"M796.741 355.464 L800.444 355.464 Q803.917 360.927 805.629 366.158 Q807.366 371.39 807.366 376.552 Q807.366 381.737 805.629 386.991 Q803.917 392.246 800.444 397.686 L796.741 397.686 Q799.819 392.385 801.324 387.153 Q802.852 381.899 802.852 376.552 Q802.852 371.204 801.324 365.996 Q799.819 360.788 796.741 355.464 Z\" fill=\"#000000\" fill-rule=\"nonzero\" fill-opacity=\"1\" /></svg>\n"
      ]
     },
     "execution_count": 35,
     "metadata": {},
     "output_type": "execute_result"
    },
    {
     "name": "stderr",
     "output_type": "stream",
     "text": [
      "GKS: glyph missing from current font: 20989\n",
      "GKS: glyph missing from current font: 25968\n",
      "GKS: glyph missing from current font: 22270\n",
      "GKS: glyph missing from current font: 20687\n",
      "GKS: glyph missing from current font: 20989\n",
      "GKS: glyph missing from current font: 25968\n",
      "GKS: glyph missing from current font: 22270\n",
      "GKS: glyph missing from current font: 20687\n",
      "GKS: glyph missing from current font: 20989\n",
      "GKS: glyph missing from current font: 25968\n",
      "GKS: glyph missing from current font: 22270\n",
      "GKS: glyph missing from current font: 20687\n",
      "GKS: glyph missing from current font: 20989\n",
      "GKS: glyph missing from current font: 25968\n",
      "GKS: glyph missing from current font: 22270\n",
      "GKS: glyph missing from current font: 20687\n",
      "GKS: glyph missing from current font: 20989\n",
      "GKS: glyph missing from current font: 25968\n",
      "GKS: glyph missing from current font: 22270\n",
      "GKS: glyph missing from current font: 20687\n",
      "GKS: glyph missing from current font: 20989\n",
      "GKS: glyph missing from current font: 25968\n",
      "GKS: glyph missing from current font: 22270\n",
      "GKS: glyph missing from current font: 20687\n",
      "GKS: glyph missing from current font: 20989\n",
      "GKS: glyph missing from current font: 25968\n",
      "GKS: glyph missing from current font: 22270\n",
      "GKS: glyph missing from current font: 20687\n",
      "GKS: glyph missing from current font: 20989\n",
      "GKS: glyph missing from current font: 25968\n",
      "GKS: glyph missing from current font: 22270\n",
      "GKS: glyph missing from current font: 20687\n",
      "GKS: glyph missing from current font: 20989\n",
      "GKS: glyph missing from current font: 25968\n",
      "GKS: glyph missing from current font: 22270\n",
      "GKS: glyph missing from current font: 20687\n",
      "GKS: glyph missing from current font: 20989\n",
      "GKS: glyph missing from current font: 25968\n",
      "GKS: glyph missing from current font: 22270\n",
      "GKS: glyph missing from current font: 20687\n",
      "GKS: glyph missing from current font: 20989\n",
      "GKS: glyph missing from current font: 25968\n",
      "GKS: glyph missing from current font: 22270\n",
      "GKS: glyph missing from current font: 20687\n",
      "GKS: glyph missing from current font: 20989\n",
      "GKS: glyph missing from current font: 25968\n",
      "GKS: glyph missing from current font: 22270\n",
      "GKS: glyph missing from current font: 20687\n",
      "GKS: glyph missing from current font: 20989\n",
      "GKS: glyph missing from current font: 25968\n",
      "GKS: glyph missing from current font: 22270\n",
      "GKS: glyph missing from current font: 20687\n"
     ]
    }
   ],
   "source": []
  },
  {
   "cell_type": "markdown",
   "metadata": {},
   "source": [
    "### Problem 7\n",
    "\n",
    "(Project Euler, Problem 25)\n",
    "\n",
    "> The Fibonacci sequence is defined by the recurrence relation:\n",
    "> \n",
    "> Fn = Fn−1 + Fn−2, where F1 = 1 and F2 = 1.\n",
    ">\n",
    "> Hence the first 12 terms will be:\n",
    "> \n",
    "> F1 = 1\n",
    "> F2 = 1\n",
    "> F3 = 2\n",
    "> F4 = 3\n",
    "> F5 = 5\n",
    "> F6 = 8\n",
    "> F7 = 13\n",
    "> F8 = 21\n",
    "> F9 = 34\n",
    "> F10 = 55\n",
    "> F11 = 89\n",
    "> F12 = 144\n",
    ">\n",
    "> The 12th term, F12, is the first term to contain three digits.\n",
    "> \n",
    "> What is the index of the first term in the Fibonacci sequence to contain 1000 digits?\n",
    "\n",
    "To solve this problem, we need to compute with integers much larger than the built-in type `Int128`. While Julia has support for larger integers, here you will write your own implementation to solve this problem using arrays and basic arithmetics."
   ]
  },
  {
   "cell_type": "markdown",
   "metadata": {},
   "source": [
    "We will represent the large integers by an array of length $n$ with integers between $0\\ldots 9$. This is certainly not the most efficient way to solve this problem, but it works. More precisely, the value of a large integer represented by an array $X$ is\n",
    "$$\n",
    "\\sum_{k=1}^n X[k] \\cdot 10^{k-1}\n",
    "$$\n",
    "For example, with $n=5$ the array $X = [7,2,4,3,0]$ represents the integer $x=3427$.\n",
    "\n",
    "We can define a helper function to print integers represented like this:"
   ]
  },
  {
   "cell_type": "code",
   "execution_count": 1,
   "metadata": {},
   "outputs": [
    {
     "data": {
      "text/plain": [
       "print_bigint (generic function with 1 method)"
      ]
     },
     "execution_count": 1,
     "metadata": {},
     "output_type": "execute_result"
    }
   ],
   "source": [
    "function print_bigint(X)\n",
    "    for i = length(X):-1:1\n",
    "        print(X[i])\n",
    "    end\n",
    "    println()\n",
    "end"
   ]
  },
  {
   "cell_type": "markdown",
   "metadata": {},
   "source": [
    "### Problem 7(a)\n",
    "\n",
    "Write a function `int_to_bigint(x,n)` which converts a regular integer `x` (e.g. of type `Int64`) to an array of length `n` as described above. For example,\n",
    "```julia\n",
    "X = int_to_bigint(34278273,10);\n",
    "println(X)\n",
    "print_bigint(X)\n",
    "```\n",
    "should output\n",
    "```\n",
    "[3, 7, 2, 8, 7, 2, 4, 3, 0, 0]\n",
    "0034278273\n",
    "```"
   ]
  },
  {
   "cell_type": "code",
   "execution_count": null,
   "metadata": {},
   "outputs": [],
   "source": []
  },
  {
   "cell_type": "markdown",
   "metadata": {},
   "source": [
    "### Problem 7(b)\n",
    "\n",
    "To solve the original problem, we also need a function to add two large integers represented by arrays. Implement a function `add_bigints(X,Y)` which computes the sum of the two numbers, and returns it in a new array. Use the standard addition with carry algorithm, and if there is a carry beyond the $n$th digit your code should run `error(\"Overflow\")`.\n",
    "\n",
    "For example, the code\n",
    "```julia\n",
    "x = 637465\n",
    "y = 99827391\n",
    "z = x + y\n",
    "X = int_to_bigint(x,10)\n",
    "Y = int_to_bigint(y,10)\n",
    "Z = add_bigints(X,Y)\n",
    "print_bigint(Z)\n",
    "println(z)\n",
    "```\n",
    "should produce the output\n",
    "```\n",
    "0100464856\n",
    "100464856\n",
    "```\n",
    "but if you change x to `9999999999` it should stop with an error."
   ]
  },
  {
   "cell_type": "code",
   "execution_count": null,
   "metadata": {},
   "outputs": [],
   "source": []
  },
  {
   "cell_type": "markdown",
   "metadata": {},
   "source": [
    "### Problem 7(c)\n",
    "\n",
    "Finally we can solve the original Fibonacci problem. Write a function `big_fibonacci(n)` which finds the first term in the sequence to contain `n` digits, prints that number (using `print_bigint`) and returns the index.\n",
    "\n",
    "Try your function on the original problem, that is, run `big_fibonacci(1000)`."
   ]
  },
  {
   "cell_type": "code",
   "execution_count": null,
   "metadata": {},
   "outputs": [],
   "source": []
  },
  {
   "cell_type": "code",
   "execution_count": null,
   "metadata": {},
   "outputs": [],
   "source": []
  },
  {
   "cell_type": "code",
   "execution_count": null,
   "metadata": {},
   "outputs": [],
   "source": []
  }
 ],
 "metadata": {
  "kernelspec": {
   "display_name": "Julia 1.9.0",
   "language": "julia",
   "name": "julia-1.9"
  },
  "language_info": {
   "file_extension": ".jl",
   "mimetype": "application/julia",
   "name": "julia",
   "version": "1.9.0"
  }
 },
 "nbformat": 4,
 "nbformat_minor": 4
}
