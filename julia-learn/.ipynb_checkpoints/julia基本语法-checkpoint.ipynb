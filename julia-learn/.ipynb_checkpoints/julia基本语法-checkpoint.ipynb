{
 "cells": [
  {
   "cell_type": "markdown",
   "id": "f75772ea-e35a-4a1b-85ed-e7adeb1fa3db",
   "metadata": {},
   "source": [
    " ## 2. Variables, Expressions and Statements\n",
    " "
   ]
  },
  {
   "cell_type": "code",
   "execution_count": null,
   "id": "61c8e149-1b5c-44d6-9a81-539f72c418b0",
   "metadata": {},
   "outputs": [],
   "source": []
  },
  {
   "cell_type": "markdown",
   "id": "f36a2198-39fb-4425-a4bc-1936a6353478",
   "metadata": {},
   "source": [
    "## julia与python比较类似：\n"
   ]
  },
  {
   "cell_type": "markdown",
   "id": "3b12e58e-b8dd-4b20-9ac4-5a206fd7168c",
   "metadata": {},
   "source": [
    "基本数据类型：\n",
    "- 变量默认是可变的，（不可变的是 ）\n",
    "复合数据类型\n",
    "-  有的不可变\n",
    "\n",
    "（不可变的数据类型是特殊的，比如rust，nix，haxshell）"
   ]
  },
  {
   "cell_type": "markdown",
   "id": "d07aeda8-fdb6-4da9-94de-280e239e1e6c",
   "metadata": {},
   "source": [
    "比较python 和julia的基本数据类型与复合数据类型\n",
    "\n",
    "\n",
    "\n",
    "### 基本数据类型比较\n",
    "\n",
    "| 类型     | Python                       | Julia                        |\n",
    "|----------|------------------------------|------------------------------|\n",
    "| 整数     | 动态大小的 `int`             | `Int64`, `UInt32` 等，根据系统位数 |\n",
    "| 浮点数   | `float`（通常是64位双精度）  | `Float64`, `Float32` 等           |\n",
    "| 布尔型   | `bool`（True, False）        | `Bool`（true, false）        |\n",
    "| 字符串   | `str`，不可变                | `String`，可变，UTF-8        |\n",
    "| 特殊类型 | `None` 代表空值              | `Symbol` 用于唯一标识符      |\n",
    "\n",
    "### 复合数据类型比较\n",
    "\n",
    "| 类型     | Python                                               | Julia                                             |\n",
    "|----------|------------------------------------------------------|--------------------------------------------------|\n",
    "| 数组/列表| `list` 可变，存储任意类型                            | `Array`，可变，同类型元素，高性能                 |\n",
    "| 元组     | `tuple`，不可变，可存储不同类型                      | `Tuple`，不可变，可包含不同类型，用于多值返回    |\n",
    "| 字典     | `dict`，基于键值对的映射                             | `Dict`，键值对集合，用于非顺序数据项             |\n",
    "| 集合     | `set`，无序且元素唯一                                | `Set`，存储唯一元素                               |\n",
    "| 用户定义 | `class`，可包含多种类型数据和方法                    | `struct`，可为不可变或可变，支持多态和参数化类型 |\n",
    "\n",
    "\n",
    "\n",
    "Julia 的设计更偏向于高性能数值计算和科学研究，而 Python 的设计更注重通用性和易用性。这些差异使得每种语言都有其特定的优势和适用场景。\n"
   ]
  },
  {
   "cell_type": "markdown",
   "id": "33cf1919-36f1-47d8-be2e-d1cf890a7f39",
   "metadata": {},
   "source": [
    "在 Julia 中，你可以使用几乎所有的 Unicode 字符作为变量名，这包括所有的希腊字母和许多其他数学符号。你可以通过输入反斜杠（\\）后跟符号的 LaTeX 名称，然后按 Tab 键来输入这些字符。这里有一些常用的例子：\n",
    "\\alpha → α\n",
    "\\beta → β\n",
    "\\gamma → γ\n",
    "\\Gamma → Γ (大写)\n",
    "\\delta → δ\n",
    "\\Delta → Δ (大写)\n",
    "\\epsilon → ε\n",
    "\\zeta → ζ\n",
    "\\eta → η\n",
    "\\theta → θ\n",
    "\\Theta → Θ "
   ]
  },
  {
   "cell_type": "markdown",
   "id": "adc59d27-31e6-41e7-94db-7f4844eec0b1",
   "metadata": {},
   "source": [
    "## 输入输出"
   ]
  },
  {
   "cell_type": "code",
   "execution_count": 10,
   "id": "864a2417-7037-4740-afb3-5bd1be0b7adf",
   "metadata": {},
   "outputs": [
    {
     "name": "stdout",
     "output_type": "stream",
     "text": [
      "Hello, world!\n",
      "This is Julia.\n"
     ]
    }
   ],
   "source": [
    "# println 会在输出的文本后自动添加一个换行符，而 print 则不会。\n",
    "print(\"Hello, world!\\n\")\n",
    "print(\"This is Julia.\\n\")"
   ]
  },
  {
   "cell_type": "code",
   "execution_count": 11,
   "id": "37fd34c6-c50b-48b5-b45c-a7cd06ceda1b",
   "metadata": {},
   "outputs": [
    {
     "name": "stdout",
     "output_type": "stream",
     "text": [
      "Hello, world!\n",
      "This is Julia.\n"
     ]
    }
   ],
   "source": [
    "println(\"Hello, world!\")\n",
    "println(\"This is Julia.\")\n"
   ]
  },
  {
   "cell_type": "code",
   "execution_count": 14,
   "id": "2f585835-17b4-4820-87d3-99b04013c0b5",
   "metadata": {},
   "outputs": [
    {
     "name": "stdout",
     "output_type": "stream",
     "text": [
      "My name is jesse and I am 24 years old.\n"
     ]
    }
   ],
   "source": [
    "name = \"jesse\"\n",
    "age = 24\n",
    "println(\"My name is $name and I am $age years old.\")"
   ]
  },
  {
   "cell_type": "code",
   "execution_count": 56,
   "id": "d9bd10b1-81f8-4fd8-9a75-48bd29d9f894",
   "metadata": {},
   "outputs": [
    {
     "name": "stdout",
     "output_type": "stream",
     "text": [
      "请输入您的名字：\n"
     ]
    },
    {
     "name": "stdin",
     "output_type": "stream",
     "text": [
      "stdin>  jesse\n"
     ]
    },
    {
     "name": "stdout",
     "output_type": "stream",
     "text": [
      "您好，jesse！\n"
     ]
    }
   ],
   "source": [
    "#  readline()获取用户输入\n",
    "println(\"请输入您的名字：\")\n",
    "name = readline()\n",
    "\n",
    "# 打印用户输入\n",
    "println(\"您好，$(name)！\")"
   ]
  },
  {
   "cell_type": "markdown",
   "id": "3040fedf-1863-423d-9d2c-3aa167d0da45",
   "metadata": {
    "tags": []
   },
   "source": [
    "## julia的语法有点类似matlab"
   ]
  },
  {
   "cell_type": "markdown",
   "id": "33473815-fc52-4c18-a7f8-8d24d32f43be",
   "metadata": {},
   "source": [
    "# if 判断"
   ]
  },
  {
   "cell_type": "code",
   "execution_count": 37,
   "id": "202c55c5-977a-4f1c-84aa-9abf35cec371",
   "metadata": {},
   "outputs": [
    {
     "name": "stdout",
     "output_type": "stream",
     "text": [
      "x is positive\n"
     ]
    }
   ],
   "source": [
    "x = 1\n",
    "\n",
    "if x > 0\n",
    "    println(\"x is positive\")\n",
    "elseif x == 0\n",
    "    println(\"x is zero\")\n",
    "else\n",
    "    println(\"x is negative\")\n",
    "end"
   ]
  },
  {
   "cell_type": "code",
   "execution_count": null,
   "id": "f61f2bd0-a439-45ed-b0bb-8f653d5c5832",
   "metadata": {},
   "outputs": [],
   "source": []
  },
  {
   "cell_type": "code",
   "execution_count": null,
   "id": "acaacd70-5be0-4589-98d6-22c31a9e7c0c",
   "metadata": {},
   "outputs": [],
   "source": []
  },
  {
   "cell_type": "code",
   "execution_count": null,
   "id": "7142dee7-189f-42c5-9c0e-5b6d1c6f782f",
   "metadata": {},
   "outputs": [],
   "source": []
  },
  {
   "cell_type": "code",
   "execution_count": null,
   "id": "248d941a-d58b-4f86-8c3f-f0dbaee3e981",
   "metadata": {},
   "outputs": [],
   "source": []
  },
  {
   "cell_type": "markdown",
   "id": "06e59c10-8ad2-4f4c-8c82-28425109d0f5",
   "metadata": {},
   "source": [
    "## for /while循环"
   ]
  },
  {
   "cell_type": "code",
   "execution_count": 36,
   "id": "df9b5073-1eec-47d1-963f-f3aa2f23ce03",
   "metadata": {},
   "outputs": [
    {
     "name": "stdout",
     "output_type": "stream",
     "text": [
      "1\n",
      "3\n",
      "5\n",
      "7\n",
      "9\n"
     ]
    }
   ],
   "source": [
    "for i in 1:2:10\n",
    "    println(i)\n",
    "end"
   ]
  },
  {
   "cell_type": "code",
   "execution_count": 42,
   "id": "137a8a03-9e7b-44d4-876e-656e773a0875",
   "metadata": {},
   "outputs": [
    {
     "name": "stdout",
     "output_type": "stream",
     "text": [
      "(1, 1)\n",
      "(1, 2)\n",
      "(2, 1)\n",
      "(2, 2)\n",
      "(3, 1)\n",
      "(3, 2)\n"
     ]
    }
   ],
   "source": [
    "for i in 1:3\n",
    "    for j in 1:2\n",
    "        println((i, j))\n",
    "    end\n",
    "end\n"
   ]
  },
  {
   "cell_type": "code",
   "execution_count": 39,
   "id": "5520a74a-27d4-40cc-b763-a3e2870a214f",
   "metadata": {},
   "outputs": [
    {
     "name": "stdout",
     "output_type": "stream",
     "text": [
      "1\n",
      "2\n",
      "3\n",
      "4\n",
      "5\n"
     ]
    }
   ],
   "source": [
    "arr = [1, 2, 3, 4, 5]\n",
    "for element in arr\n",
    "    println(element)\n",
    "end\n"
   ]
  },
  {
   "cell_type": "code",
   "execution_count": 40,
   "id": "00869709-2e38-4a9a-83ae-9ab53e2371af",
   "metadata": {},
   "outputs": [
    {
     "name": "stdout",
     "output_type": "stream",
     "text": [
      "Index: 1, Value: a\n",
      "Index: 2, Value: b\n",
      "Index: 3, Value: c\n"
     ]
    }
   ],
   "source": [
    "arr = [\"a\", \"b\", \"c\"]\n",
    "for (index, value) in enumerate(arr)\n",
    "    println(\"Index: $index, Value: $value\")\n",
    "end\n"
   ]
  },
  {
   "cell_type": "code",
   "execution_count": 41,
   "id": "282db811-60e8-4ad9-9333-8c8e3abaf7d0",
   "metadata": {},
   "outputs": [
    {
     "name": "stdout",
     "output_type": "stream",
     "text": [
      "1 -> a\n",
      "2 -> b\n",
      "3 -> c\n"
     ]
    }
   ],
   "source": [
    "arr1 = [1, 2, 3]\n",
    "arr2 = [\"a\", \"b\", \"c\"]\n",
    "for (x, y) in zip(arr1, arr2)\n",
    "    println(\"$x -> $y\")\n",
    "end\n"
   ]
  },
  {
   "cell_type": "code",
   "execution_count": 43,
   "id": "89a95049-6d8f-4b91-b877-705fa8778574",
   "metadata": {},
   "outputs": [
    {
     "name": "stdout",
     "output_type": "stream",
     "text": [
      "1\n",
      "2\n",
      "3\n",
      "4\n",
      "5\n"
     ]
    }
   ],
   "source": [
    "i = 1\n",
    "while i <= 5\n",
    "    println(i)\n",
    "    i += 1\n",
    "end\n"
   ]
  },
  {
   "cell_type": "code",
   "execution_count": null,
   "id": "0571d408-ed24-4b6c-a84c-50a4b2515816",
   "metadata": {},
   "outputs": [],
   "source": []
  },
  {
   "cell_type": "code",
   "execution_count": null,
   "id": "a6623b11-3dcc-4973-9aad-2c7987297a42",
   "metadata": {},
   "outputs": [],
   "source": []
  },
  {
   "cell_type": "code",
   "execution_count": null,
   "id": "9a3f1bb5-79e0-45d6-8ada-8ba2e1b08a2d",
   "metadata": {},
   "outputs": [],
   "source": []
  },
  {
   "cell_type": "code",
   "execution_count": null,
   "id": "e402dbab-6e7d-4dc8-9503-51d50caa10c2",
   "metadata": {},
   "outputs": [],
   "source": []
  },
  {
   "cell_type": "code",
   "execution_count": null,
   "id": "d1ea4992-c8e2-4c52-8193-f5cc2f82ad59",
   "metadata": {},
   "outputs": [],
   "source": []
  },
  {
   "cell_type": "code",
   "execution_count": 31,
   "id": "0677009c-1706-418e-90f7-0c01106dba41",
   "metadata": {},
   "outputs": [
    {
     "name": "stdout",
     "output_type": "stream",
     "text": [
      "π\n"
     ]
    },
    {
     "data": {
      "text/plain": [
       "π = 3.1415926535897..."
      ]
     },
     "execution_count": 31,
     "metadata": {},
     "output_type": "execute_result"
    }
   ],
   "source": [
    "println(pi)\n",
    "pi"
   ]
  },
  {
   "cell_type": "code",
   "execution_count": 50,
   "id": "307d4c08-4088-46fc-9797-086d02fba458",
   "metadata": {},
   "outputs": [
    {
     "name": "stdout",
     "output_type": "stream",
     "text": [
      "0.33333331\n"
     ]
    }
   ],
   "source": [
    "#BigFloat 类型是一种用于表示高精度浮点数的数据类型。它允许你进行高精度的数值计算，避免了传统浮点数类型（例如 Float64）的精度限制。\n",
    "#类型可以表示任意精度的浮点数\n",
    "setprecision(23) # 设置精度为11位，包括整数和小数部分\n",
    "value = BigFloat(1/3) # 转换 Pi 到 BigFloat 类型\n",
    "println(value)"
   ]
  },
  {
   "cell_type": "markdown",
   "id": "ad7eb939-dc0d-43d9-a989-8eca13a8f317",
   "metadata": {},
   "source": [
    "## 函数"
   ]
  },
  {
   "cell_type": "code",
   "execution_count": 60,
   "id": "e6e1668c-234c-4e6e-917d-7baf5f0d963f",
   "metadata": {},
   "outputs": [
    {
     "name": "stdout",
     "output_type": "stream",
     "text": [
      "8\n"
     ]
    }
   ],
   "source": [
    "function add(x=0, y=0)\n",
    "    return x + y\n",
    "end\n",
    "result = add(3, 5)\n",
    "println(result)  # 输出 8\n"
   ]
  },
  {
   "cell_type": "code",
   "execution_count": 61,
   "id": "9b2eb4a3-7a99-49ab-bbd1-ad8c6a0fd565",
   "metadata": {},
   "outputs": [],
   "source": [
    "#假设你将函数定义保存在一个名为 functions.jl 的文件中，\n",
    "\n",
    "## functions.jl\n",
    "\n",
    "# function add(x, y)\n",
    "#     return x + y\n",
    "# end\n",
    "\n",
    "# 在另一个文件中，你可以这样做：\n",
    "\n",
    "## main.jl\n",
    "\n",
    "# include(\"functions.jl\")\n",
    "\n",
    "# result = add(3, 5)\n",
    "# println(result)  # 输出 8\n"
   ]
  },
  {
   "cell_type": "code",
   "execution_count": 64,
   "id": "aa945dd4-7c48-4c5b-b18f-aa8af4a787ce",
   "metadata": {},
   "outputs": [
    {
     "data": {
      "text/plain": [
       "my_function (generic function with 2 methods)"
      ]
     },
     "execution_count": 64,
     "metadata": {},
     "output_type": "execute_result"
    }
   ],
   "source": [
    "function my_function(x; y=0, z=1)\n",
    "    # 函数体\n",
    "end\n",
    "#在 Julia 中，分号 ; 用于分隔必填参数和关键字参数的定义。\n",
    "# 在函数签名中，分号之前的参数被视为必填参数，\n",
    "# 而分号之后的参数被视为关键字参数。"
   ]
  },
  {
   "cell_type": "code",
   "execution_count": 63,
   "id": "8256ce2b-87b5-4259-ad0b-9e8463e0bec2",
   "metadata": {},
   "outputs": [
    {
     "name": "stdout",
     "output_type": "stream",
     "text": [
      "1\n",
      "2\n",
      "3\n"
     ]
    }
   ],
   "source": [
    "# my_function 函数使用 x... 来定义可变参数\n",
    "# 这种方式的可变参数允许函数处理不同数量的参数\n",
    "\n",
    "function my_function(x...)\n",
    "    for arg in x\n",
    "        println(arg)\n",
    "    end\n",
    "end\n",
    "\n",
    "my_function(1, 2, 3)\n"
   ]
  },
  {
   "cell_type": "code",
   "execution_count": 65,
   "id": "03cd1ae0-36c1-40c0-9ac2-209186b479a2",
   "metadata": {},
   "outputs": [
    {
     "data": {
      "text/plain": [
       "13"
      ]
     },
     "execution_count": 65,
     "metadata": {},
     "output_type": "execute_result"
    }
   ],
   "source": [
    "myfunc2(x,y) = x + 2y\n",
    "myfunc2(3,5)"
   ]
  },
  {
   "cell_type": "code",
   "execution_count": 70,
   "id": "05272a6f-8ab3-4a92-bf9e-37487a8c28b8",
   "metadata": {},
   "outputs": [
    {
     "data": {
      "text/plain": [
       "18"
      ]
     },
     "execution_count": 70,
     "metadata": {},
     "output_type": "execute_result"
    }
   ],
   "source": [
    "# myfunc3 = (x,y) -> x + 3y\n",
    "# myfunc3(3,5)\n",
    "\n",
    "# Same thing without giving the function a name:\n",
    "((x,y) -> x + 3y)(3,5)"
   ]
  },
  {
   "cell_type": "code",
   "execution_count": 71,
   "id": "b9317295-3b82-4c56-93f8-a04ca07d3c4f",
   "metadata": {},
   "outputs": [
    {
     "data": {
      "text/plain": [
       "real_roots_of_quadratic (generic function with 1 method)"
      ]
     },
     "execution_count": 71,
     "metadata": {},
     "output_type": "execute_result"
    }
   ],
   "source": [
    "# 在 Julia 中，函数默认返回其最后一个表达式的值，\n",
    "# 因此不需要显式地使用 return 关键字。\n",
    "function real_roots_of_quadratic(a,b,c)\n",
    "    # Compute the real roots of the quadratic ax^2 + bx + c = 0\n",
    "    d = sqrt(b^2 - 4*a*c)\n",
    "    r1 = (-b - d) / 2a\n",
    "    r2 = (-b + d) / 2a\n",
    "    r1, r2\n",
    "end"
   ]
  },
  {
   "cell_type": "code",
   "execution_count": 72,
   "id": "d7c3ff35-4509-4823-83b0-f48ef1e6bc57",
   "metadata": {},
   "outputs": [
    {
     "data": {
      "text/plain": [
       "(-3.0, -2.0)"
      ]
     },
     "execution_count": 72,
     "metadata": {},
     "output_type": "execute_result"
    }
   ],
   "source": [
    "real_roots_of_quadratic(1, 5, 6)"
   ]
  },
  {
   "cell_type": "code",
   "execution_count": 73,
   "id": "f979bfc1-dc9c-4fdc-829d-bfc0d4044d0c",
   "metadata": {},
   "outputs": [],
   "source": [
    "## 语法"
   ]
  },
  {
   "cell_type": "code",
   "execution_count": 76,
   "id": "7a314db2-88f2-4b1c-a482-783450e01ea7",
   "metadata": {},
   "outputs": [
    {
     "name": "stdout",
     "output_type": "stream",
     "text": [
      "更新后的数组: [0, 10, 20, 30, 40]\n"
     ]
    }
   ],
   "source": [
    "# 初始化一个整数数组\n",
    "numbers = [10, 20, 30]\n",
    "\n",
    "# 使用 pushfirst! 在数组开头添加元素\n",
    "pushfirst!(numbers, 0)  # 在数组开头添加数字 5\n",
    "push!(numbers, 40)  # 在数组末尾添加数字 10\n",
    "# 打印更新后的数组\n",
    "println(\"更新后的数组: \", numbers)\n",
    "\n",
    "# 函数名称中的感叹号 ! 有特殊的含义，\n",
    "# 它是一种命名约定，用来表示某些函数会“就地”修改其参数的内容，\n",
    "# 即这些函数是修改自己的输入参数而不仅仅是返回一个新的值。"
   ]
  },
  {
   "cell_type": "markdown",
   "id": "25bd1d1f-890b-4c24-9d5a-c0c573765f9d",
   "metadata": {},
   "source": [
    "## 确定函数的返回类型"
   ]
  },
  {
   "cell_type": "code",
   "execution_count": 79,
   "id": "677d95c7-e5a9-46b5-a546-ab3c9fde7940",
   "metadata": {},
   "outputs": [
    {
     "name": "stdout",
     "output_type": "stream",
     "text": [
      "Float64\n",
      "Rational{Int64}\n",
      "BigInt\n"
     ]
    }
   ],
   "source": [
    "x = 3.14\n",
    "println(typeof(x))  # 输出 Float64\n",
    "\n",
    "y = 1//4\n",
    "println(typeof(y))  # 输出 Rational{Int}\n",
    "\n",
    "z = BigInt(12345678901234567890)\n",
    "println(typeof(z))  # 输出 BigInt"
   ]
  },
  {
   "cell_type": "code",
   "execution_count": 80,
   "id": "23f36485-13b0-4a01-ac07-e56a46bbfb9c",
   "metadata": {},
   "outputs": [
    {
     "name": "stdout",
     "output_type": "stream",
     "text": [
      "MethodInstance for test_function(::Int64, ::Int64)\n",
      "  from test_function(\u001b[90mx\u001b[39m, \u001b[90my\u001b[39m)\u001b[90m @\u001b[39m \u001b[90mMain\u001b[39m \u001b[90m\u001b[4mIn[80]:1\u001b[24m\u001b[39m\n",
      "Arguments\n",
      "  #self#\u001b[36m::Core.Const(test_function)\u001b[39m\n",
      "  x\u001b[36m::Int64\u001b[39m\n",
      "  y\u001b[36m::Int64\u001b[39m\n",
      "Body\u001b[36m::Float64\u001b[39m\n",
      "\u001b[90m1 ─\u001b[39m %1 = (x / y)\u001b[36m::Float64\u001b[39m\n",
      "\u001b[90m└──\u001b[39m      return %1\n",
      "\n"
     ]
    }
   ],
   "source": [
    "function test_function(x, y)\n",
    "    return x / y\n",
    "end\n",
    "\n",
    "@code_warntype test_function(4, 3)\n"
   ]
  },
  {
   "cell_type": "code",
   "execution_count": 82,
   "id": "24118d05-fbb9-4a7f-9fb1-310c26c066f7",
   "metadata": {},
   "outputs": [
    {
     "data": {
      "text/plain": [
       "sum_integers (generic function with 1 method)"
      ]
     },
     "execution_count": 82,
     "metadata": {},
     "output_type": "execute_result"
    }
   ],
   "source": [
    "# 定义的时候确定类型。\n",
    "function sum_integers(a::Int, b::Int)::Int\n",
    "    return a + b\n",
    "end"
   ]
  },
  {
   "cell_type": "markdown",
   "id": "3fdf30b3-d651-4f40-abe9-be54ef749a54",
   "metadata": {},
   "source": [
    "## 宏"
   ]
  },
  {
   "cell_type": "code",
   "execution_count": null,
   "id": "a9c85649-4096-4028-a9f7-003b2f15b242",
   "metadata": {},
   "outputs": [],
   "source": [
    "using Printf\n",
    "\n",
    "@printf \"Integer: %d, Float: %.2f, String: %s\\n\" 10 3.14159 \"hello\"\n"
   ]
  }
 ],
 "metadata": {
  "kernelspec": {
   "display_name": "Julia 1.9.0",
   "language": "julia",
   "name": "julia-1.9"
  },
  "language_info": {
   "file_extension": ".jl",
   "mimetype": "application/julia",
   "name": "julia",
   "version": "1.9.0"
  }
 },
 "nbformat": 4,
 "nbformat_minor": 5
}
