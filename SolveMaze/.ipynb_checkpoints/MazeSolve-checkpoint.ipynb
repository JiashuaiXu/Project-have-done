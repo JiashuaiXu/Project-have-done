{
 "cells": [
  {
   "cell_type": "code",
   "execution_count": 1,
   "id": "c402c417-0318-4208-af2c-10bfa87cb170",
   "metadata": {},
   "outputs": [
    {
     "data": {
      "image/png": "[encoded data removed]",
      "text/plain": [
       "<Figure size 800x800 with 1 Axes>"
      ]
     },
     "metadata": {},
     "output_type": "display_data"
    }
   ],
   "source": [
    "import numpy as np\n",
    "import random\n",
    "import matplotlib.pyplot as plt\n",
    "\n",
    "def generate_maze(size=10, complexity=.75, density=.75):\n",
    "    # Only odd shapes\n",
    "    shape = ((size // 2) * 2 + 1, (size // 2) * 2 + 1)\n",
    "    # Adjust complexity and density relative to maze size\n",
    "    complexity = int(complexity * (5 * (shape[0] + shape[1])))\n",
    "    density    = int(density * ((shape[0] // 2) * (shape[1] // 2)))\n",
    "    # Build actual maze\n",
    "    Z = np.zeros(shape, dtype=bool)\n",
    "    # Fill borders\n",
    "    Z[0, :] = Z[-1, :] = 1\n",
    "    Z[:, 0] = Z[:, -1] = 1\n",
    "    # Make isles\n",
    "    for i in range(density):\n",
    "        x, y = random.randint(0, shape[1] // 2) * 2, random.randint(0, shape[0] // 2) * 2\n",
    "        Z[y, x] = 1\n",
    "        for j in range(complexity):\n",
    "            neighbours = []\n",
    "            if x > 1:\n",
    "                neighbours.append((y, x - 2))\n",
    "            if x < shape[1] - 2:\n",
    "                neighbours.append((y, x + 2))\n",
    "            if y > 1:\n",
    "                neighbours.append((y - 2, x))\n",
    "            if y < shape[0] - 2:\n",
    "                neighbours.append((y + 2, x))\n",
    "            if len(neighbours):\n",
    "                y_, x_ = neighbours[random.randint(0, len(neighbours) - 1)]\n",
    "                if Z[y_, x_] == 0:\n",
    "                    Z[y_, x_] = 1\n",
    "                    Z[y_ + (y - y_) // 2, x_ + (x - x_) // 2] = 1\n",
    "                    x, y = x_, y_\n",
    "    return Z\n",
    "\n",
    "def plot_maze(Z):\n",
    "    plt.figure(figsize=(8, 8))\n",
    "    plt.imshow(Z, cmap=plt.cm.binary, interpolation='nearest')\n",
    "    plt.xticks([]), plt.yticks([])\n",
    "    plt.show()\n",
    "\n",
    "# Generate and plot a maze\n",
    "maze = generate_maze()\n",
    "plot_maze(maze)"
   ]
  },
  {
   "cell_type": "code",
   "execution_count": 2,
   "id": "b90ff9bc-2f1b-4359-a5e9-f5de4ac059de",
   "metadata": {},
   "outputs": [],
   "source": [
    "# 深度优先搜索（DFS）算法\n",
    "def dfs(maze, start, goal):\n",
    "    stack = [(start, [start])]\n",
    "    visited = set()\n",
    "    while stack:\n",
    "        (current, path) = stack.pop()\n",
    "        if current == goal:\n",
    "            return path\n",
    "        if current in visited:\n",
    "            continue\n",
    "        visited.add(current)\n",
    "        for direction in [(-1, 0), (1, 0), (0, -1), (0, 1)]:\n",
    "            neighbor = (current[0] + direction[0], current[1] + direction[1])\n",
    "            if maze[neighbor] == 0:\n",
    "                stack.append((neighbor, path + [neighbor]))\n",
    "    return None\n",
    "\n",
    "# Example call\n",
    "# Uncomment the following line to test DFS\n",
    "# path_dfs = dfs(maze, (1, 1), (maze.shape[0]-2, maze.shape[1]-2))\n"
   ]
  },
  {
   "cell_type": "code",
   "execution_count": 3,
   "id": "45d2c3a2-e92c-4c67-8607-006eea3d4642",
   "metadata": {},
   "outputs": [],
   "source": [
    "# 广度优先搜索（BFS）算法\n",
    "def dfs(maze, start, goal):\n",
    "    stack = [(start, [start])]\n",
    "    visited = set()\n",
    "    while stack:\n",
    "        (current, path) = stack.pop()\n",
    "        if current == goal:\n",
    "            return path\n",
    "        if current in visited:\n",
    "            continue\n",
    "        visited.add(current)\n",
    "        for direction in [(-1, 0), (1, 0), (0, -1), (0, 1)]:\n",
    "            neighbor = (current[0] + direction[0], current[1] + direction[1])\n",
    "            if maze[neighbor] == 0:\n",
    "                stack.append((neighbor, path + [neighbor]))\n",
    "    return None\n",
    "\n",
    "# Example call\n",
    "# Uncomment the following line to test DFS\n",
    "# path_dfs = dfs(maze, (1, 1), (maze.shape[0]-2, maze.shape[1]-2))\n"
   ]
  },
  {
   "cell_type": "code",
   "execution_count": null,
   "id": "ba5955c9-60f5-4c69-8b21-a131e126244f",
   "metadata": {},
   "outputs": [],
   "source": []
  }
 ],
 "metadata": {
  "kernelspec": {
   "display_name": "Python 3 (ipykernel)",
   "language": "python",
   "name": "python3"
  },
  "language_info": {
   "codemirror_mode": {
    "name": "ipython",
    "version": 3
   },
   "file_extension": ".py",
   "mimetype": "text/x-python",
   "name": "python",
   "nbconvert_exporter": "python",
   "pygments_lexer": "ipython3",
   "version": "3.9.15"
  }
 },
 "nbformat": 4,
 "nbformat_minor": 5
}
