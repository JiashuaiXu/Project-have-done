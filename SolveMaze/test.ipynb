{
 "cells": [
  {
   "cell_type": "code",
   "execution_count": 1,
   "id": "c8348bdd-90be-4952-a55c-350c918301b9",
   "metadata": {},
   "outputs": [
    {
     "name": "stdout",
     "output_type": "stream",
     "text": [
      "pygame 2.5.2 (SDL 2.28.3, Python 3.9.15)\n",
      "Hello from the pygame community. https://www.pygame.org/contribute.html\n"
     ]
    },
    {
     "ename": "SystemExit",
     "evalue": "",
     "output_type": "error",
     "traceback": [
      "An exception has occurred, use %tb to see the full traceback.\n",
      "\u001b[1;31mSystemExit\u001b[0m\n"
     ]
    },
    {
     "name": "stderr",
     "output_type": "stream",
     "text": [
      "C:\\App\\Miniconda3\\lib\\site-packages\\IPython\\core\\interactiveshell.py:3534: UserWarning: To exit: use 'exit', 'quit', or Ctrl-D.\n",
      "  warn(\"To exit: use 'exit', 'quit', or Ctrl-D.\", stacklevel=1)\n"
     ]
    }
   ],
   "source": []
  },
  {
   "cell_type": "markdown",
   "id": "bd24a98a-6418-4050-8903-cf0c30963e19",
   "metadata": {},
   "source": [
    "迷宫的生成和绘制逻辑，这部分包括room类以及与之相关的函数，用于创建和绘制迷宫。\n",
    "颜色定义，这部分简单，只需将颜色常量放入类中或作为全局变量即可。\n",
    "主控制逻辑，包括pygame的初始化，事件处理，以及绘制更新。"
   ]
  },
  {
   "cell_type": "code",
   "execution_count": null,
   "id": "6f8b181d-caa8-45a9-95d5-498b0fcbf734",
   "metadata": {},
   "outputs": [],
   "source": []
  },
  {
   "cell_type": "code",
   "execution_count": 3,
   "id": "36b0c68e-54b0-4fa0-8b12-ee637f736468",
   "metadata": {},
   "outputs": [
    {
     "ename": "SystemExit",
     "evalue": "",
     "output_type": "error",
     "traceback": [
      "An exception has occurred, use %tb to see the full traceback.\n",
      "\u001b[1;31mSystemExit\u001b[0m\n"
     ]
    }
   ],
   "source": [
    "import pygame\n",
    "import sys\n",
    "from pygame.locals import *\n",
    "from random import randint, choice\n",
    "\n",
    "# 定义颜色\n",
    "Black = (0, 0, 0)\n",
    "White = (255, 255, 255)\n",
    "Red = (255, 0, 0)\n",
    "\n",
    "# 迷宫房间类\n",
    "class Room:\n",
    "    def __init__(self, x, y):\n",
    "        self.walls = [True, True, True, True]  # 上, 右, 下, 左\n",
    "        self.visited = False\n",
    "        self.x = x\n",
    "        self.y = y\n",
    "\n",
    "    @staticmethod\n",
    "    def draw_room(screen, begin_point, walls, size, r_color):\n",
    "        \"\"\"绘制一个房间的墙壁\"\"\"\n",
    "        x, y = begin_point\n",
    "        if walls[0]:  # 上\n",
    "            pygame.draw.line(screen, r_color, (x, y), (x + size, y))\n",
    "        if walls[1]:  # 右\n",
    "            pygame.draw.line(screen, r_color, (x + size, y), (x + size, y + size))\n",
    "        if walls[2]:  # 下\n",
    "            pygame.draw.line(screen, r_color, (x + size, y + size), (x, y + size))\n",
    "        if walls[3]:  # 左\n",
    "            pygame.draw.line(screen, r_color, (x, y + size), (x, y))\n",
    "\n",
    "# 迷宫游戏类\n",
    "class MazeGame:\n",
    "    def __init__(self, width=800, height=600, room_size=15):\n",
    "        \"\"\"初始化游戏设置\"\"\"\n",
    "        pygame.init()\n",
    "        self.width = width\n",
    "        self.height = height\n",
    "        self.room_size = room_size\n",
    "        self.screen = pygame.display.set_mode((self.width, self.height))\n",
    "        pygame.display.set_caption(\"Maze Game\")\n",
    "        self.clock = pygame.time.Clock()\n",
    "        self.rooms = []\n",
    "        self.create_maze()\n",
    "\n",
    "    def create_maze(self):\n",
    "        \"\"\"创建迷宫的数据结构并随机生成路径\"\"\"\n",
    "        self.rooms = [[Room(i, j) for j in range(self.width // self.room_size)] for i in range(self.height // self.room_size)]\n",
    "        stack = []\n",
    "        current_room = self.rooms[0][0]\n",
    "        current_room.visited = True\n",
    "        stack.append(current_room)\n",
    "\n",
    "        while stack:\n",
    "            current_room = stack[-1]\n",
    "            neighbors = self.find_neighbors(current_room.x, current_room.y)\n",
    "            if neighbors:\n",
    "                next_room = choice(neighbors)\n",
    "                self.remove_walls(current_room, next_room)\n",
    "                next_room.visited = True\n",
    "                stack.append(next_room)\n",
    "            else:\n",
    "                stack.pop()\n",
    "\n",
    "    def find_neighbors(self, x, y):\n",
    "        \"\"\"找到所有未访问的邻居房间\"\"\"\n",
    "        neighbors = []\n",
    "        directions = [(0, -1), (1, 0), (0, 1), (-1, 0)]  # 上, 右, 下, 左\n",
    "        for dx, dy in directions:\n",
    "            nx, ny = x + dx, y + dy\n",
    "            if 0 <= nx < len(self.rooms) and 0 <= ny < len(self.rooms[0]) and not self.rooms[nx][ny].visited:\n",
    "                neighbors.append(self.rooms[nx][ny])\n",
    "        return neighbors\n",
    "\n",
    "    def remove_walls(self, current, next):\n",
    "        \"\"\"移除两个房间之间的墙\"\"\"\n",
    "        dx = next.x - current.x\n",
    "        dy = next.y - current.y\n",
    "        if dx == 1:  # 右\n",
    "            current.walls[1] = False\n",
    "            next.walls[3] = False\n",
    "        elif dx == -1:  # 左\n",
    "            current.walls[3] = False\n",
    "            next.walls[1] = False\n",
    "        elif dy == 1:  # 下\n",
    "            current.walls[2] = False\n",
    "            next.walls[0] = False\n",
    "        elif dy == -1:  # 上\n",
    "            current.walls[0] = False\n",
    "            next.walls[2] = False\n",
    "\n",
    "    def run(self):\n",
    "        \"\"\"游戏主循环\"\"\"\n",
    "        while True:\n",
    "            for event in pygame.event.get():\n",
    "                if event.type == QUIT:\n",
    "                    pygame.quit()\n",
    "                    sys.exit()\n",
    "\n",
    "            self.screen.fill(White)\n",
    "            for i in range(len(self.rooms)):\n",
    "                for j in range(len(self.rooms[i])):\n",
    "                    x = i * self.room_size\n",
    "                    y = j * self.room_size\n",
    "                    Room.draw_room(self.screen, (x, y), self.rooms[i][j].walls, self.room_size, Black)\n",
    "\n",
    "            pygame.display.flip()\n",
    "            self.clock.tick(60)\n",
    "\n"
   ]
  },
  {
   "cell_type": "code",
   "execution_count": 4,
   "id": "9525cac6-cd63-41b1-afe6-bd3d171e7f0c",
   "metadata": {},
   "outputs": [
    {
     "ename": "SystemExit",
     "evalue": "",
     "output_type": "error",
     "traceback": [
      "An exception has occurred, use %tb to see the full traceback.\n",
      "\u001b[1;31mSystemExit\u001b[0m\n"
     ]
    }
   ],
   "source": [
    "# 使用示例\n",
    "if __name__ == '__main__':\n",
    "    game = MazeGame()\n",
    "    game.run()\n"
   ]
  },
  {
   "cell_type": "code",
   "execution_count": null,
   "id": "ab45ee27-1eee-4c9c-9bb3-bcc02ec2a7ed",
   "metadata": {},
   "outputs": [],
   "source": []
  }
 ],
 "metadata": {
  "kernelspec": {
   "display_name": "Python 3 (ipykernel)",
   "language": "python",
   "name": "python3"
  },
  "language_info": {
   "codemirror_mode": {
    "name": "ipython",
    "version": 3
   },
   "file_extension": ".py",
   "mimetype": "text/x-python",
   "name": "python",
   "nbconvert_exporter": "python",
   "pygments_lexer": "ipython3",
   "version": "3.9.15"
  }
 },
 "nbformat": 4,
 "nbformat_minor": 5
}
